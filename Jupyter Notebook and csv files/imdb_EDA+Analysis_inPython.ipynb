{
 "cells": [
  {
   "cell_type": "markdown",
   "metadata": {},
   "source": [
    "In the age of streaming content, where more and more people are switching over from traditional cable TV to streaming platforms, we can sometimes feel like nothing stands out among the massive number of options we have to choose from. When it comes to finding a new TV series to watch, we often end up just scrolling through entire categories without being able to choose anything, and end up picking whatever has an interesting cover or a cool name (and it usually disappoints). I, like many, have experienced this multiple times. \n",
    "\n",
    "So I decided to take a more analytical approach to choosing my next show to watch, and found a dataset containing Episode and Series Ratings from IMDb's Top 250 TV Shows list. In this notebook, I will explore this data, answer some interesting questions, maybe confirm some things you know to be true without having seen the numbers, and eventually settle on a new show to start watching. You can, of course, just scroll to the bottom to find out what show I settled on, but there's some pretty cool stuff in between here and there that you might find interesting. My comments (gray colored font that follows #) in each cell are a plain english description of what I'm doing and what the output represents."
   ]
  },
  {
   "cell_type": "code",
   "execution_count": 1,
   "metadata": {
    "collapsed": true
   },
   "outputs": [],
   "source": [
    "#import packages\n",
    "import pandas as pd\n",
    "import numpy as np\n",
    "import matplotlib.pyplot as plt"
   ]
  },
  {
   "cell_type": "markdown",
   "metadata": {},
   "source": [
    "The first dataset that I will look at contains individual episode ratings for each episode that is part of a show on IMDb's Top 250 TV Shows list. Each episode has its own rating ('Rating') which is calculated by averaging all of the ratings that were submitted on IMDb. Data also contains the season, episode, title, and a code for each title."
   ]
  },
  {
   "cell_type": "code",
   "execution_count": 2,
   "metadata": {},
   "outputs": [
    {
     "data": {
      "text/html": [
       "<div>\n",
       "<style scoped>\n",
       "    .dataframe tbody tr th:only-of-type {\n",
       "        vertical-align: middle;\n",
       "    }\n",
       "\n",
       "    .dataframe tbody tr th {\n",
       "        vertical-align: top;\n",
       "    }\n",
       "\n",
       "    .dataframe thead th {\n",
       "        text-align: right;\n",
       "    }\n",
       "</style>\n",
       "<table border=\"1\" class=\"dataframe\">\n",
       "  <thead>\n",
       "    <tr style=\"text-align: right;\">\n",
       "      <th></th>\n",
       "      <th>Season</th>\n",
       "      <th>Episode</th>\n",
       "      <th>Rating</th>\n",
       "      <th>Code</th>\n",
       "      <th>Title</th>\n",
       "    </tr>\n",
       "  </thead>\n",
       "  <tbody>\n",
       "    <tr>\n",
       "      <th>0</th>\n",
       "      <td>1</td>\n",
       "      <td>1</td>\n",
       "      <td>9.4</td>\n",
       "      <td>tt5491994</td>\n",
       "      <td>Planet Earth II</td>\n",
       "    </tr>\n",
       "    <tr>\n",
       "      <th>1</th>\n",
       "      <td>1</td>\n",
       "      <td>2</td>\n",
       "      <td>9.1</td>\n",
       "      <td>tt5491994</td>\n",
       "      <td>Planet Earth II</td>\n",
       "    </tr>\n",
       "    <tr>\n",
       "      <th>2</th>\n",
       "      <td>1</td>\n",
       "      <td>3</td>\n",
       "      <td>8.9</td>\n",
       "      <td>tt5491994</td>\n",
       "      <td>Planet Earth II</td>\n",
       "    </tr>\n",
       "    <tr>\n",
       "      <th>3</th>\n",
       "      <td>1</td>\n",
       "      <td>4</td>\n",
       "      <td>8.8</td>\n",
       "      <td>tt5491994</td>\n",
       "      <td>Planet Earth II</td>\n",
       "    </tr>\n",
       "    <tr>\n",
       "      <th>4</th>\n",
       "      <td>1</td>\n",
       "      <td>5</td>\n",
       "      <td>8.7</td>\n",
       "      <td>tt5491994</td>\n",
       "      <td>Planet Earth II</td>\n",
       "    </tr>\n",
       "  </tbody>\n",
       "</table>\n",
       "</div>"
      ],
      "text/plain": [
       "   Season  Episode  Rating       Code            Title\n",
       "0       1        1     9.4  tt5491994  Planet Earth II\n",
       "1       1        2     9.1  tt5491994  Planet Earth II\n",
       "2       1        3     8.9  tt5491994  Planet Earth II\n",
       "3       1        4     8.8  tt5491994  Planet Earth II\n",
       "4       1        5     8.7  tt5491994  Planet Earth II"
      ]
     },
     "execution_count": 2,
     "metadata": {},
     "output_type": "execute_result"
    }
   ],
   "source": [
    "#read in data\n",
    "imdb = pd.read_csv(\"imdb_top_250_series_episode_ratings.csv\")\n",
    "imdb.head()"
   ]
  },
  {
   "cell_type": "markdown",
   "metadata": {},
   "source": [
    "## EDA (exploratory data analysis)"
   ]
  },
  {
   "cell_type": "code",
   "execution_count": 3,
   "metadata": {},
   "outputs": [
    {
     "data": {
      "text/plain": [
       "Season       int64\n",
       "Episode      int64\n",
       "Rating     float64\n",
       "Code        object\n",
       "Title       object\n",
       "dtype: object"
      ]
     },
     "execution_count": 3,
     "metadata": {},
     "output_type": "execute_result"
    }
   ],
   "source": [
    "#check data types for each field\n",
    "imdb.dtypes"
   ]
  },
  {
   "cell_type": "code",
   "execution_count": 4,
   "metadata": {},
   "outputs": [
    {
     "data": {
      "text/plain": [
       "(15339, 5)"
      ]
     },
     "execution_count": 4,
     "metadata": {},
     "output_type": "execute_result"
    }
   ],
   "source": [
    "#check shape of table\n",
    "imdb.shape"
   ]
  },
  {
   "cell_type": "code",
   "execution_count": 5,
   "metadata": {},
   "outputs": [
    {
     "data": {
      "text/html": [
       "<div>\n",
       "<style scoped>\n",
       "    .dataframe tbody tr th:only-of-type {\n",
       "        vertical-align: middle;\n",
       "    }\n",
       "\n",
       "    .dataframe tbody tr th {\n",
       "        vertical-align: top;\n",
       "    }\n",
       "\n",
       "    .dataframe thead th {\n",
       "        text-align: right;\n",
       "    }\n",
       "</style>\n",
       "<table border=\"1\" class=\"dataframe\">\n",
       "  <thead>\n",
       "    <tr style=\"text-align: right;\">\n",
       "      <th></th>\n",
       "      <th>Season</th>\n",
       "      <th>Episode</th>\n",
       "      <th>Rating</th>\n",
       "    </tr>\n",
       "  </thead>\n",
       "  <tbody>\n",
       "    <tr>\n",
       "      <th>count</th>\n",
       "      <td>15339.000000</td>\n",
       "      <td>15339.000000</td>\n",
       "      <td>15339.000000</td>\n",
       "    </tr>\n",
       "    <tr>\n",
       "      <th>mean</th>\n",
       "      <td>4.774562</td>\n",
       "      <td>15.483604</td>\n",
       "      <td>8.059280</td>\n",
       "    </tr>\n",
       "    <tr>\n",
       "      <th>std</th>\n",
       "      <td>5.103163</td>\n",
       "      <td>27.888825</td>\n",
       "      <td>0.752739</td>\n",
       "    </tr>\n",
       "    <tr>\n",
       "      <th>min</th>\n",
       "      <td>1.000000</td>\n",
       "      <td>1.000000</td>\n",
       "      <td>2.200000</td>\n",
       "    </tr>\n",
       "    <tr>\n",
       "      <th>25%</th>\n",
       "      <td>1.000000</td>\n",
       "      <td>4.000000</td>\n",
       "      <td>7.700000</td>\n",
       "    </tr>\n",
       "    <tr>\n",
       "      <th>50%</th>\n",
       "      <td>3.000000</td>\n",
       "      <td>8.000000</td>\n",
       "      <td>8.100000</td>\n",
       "    </tr>\n",
       "    <tr>\n",
       "      <th>75%</th>\n",
       "      <td>6.000000</td>\n",
       "      <td>15.000000</td>\n",
       "      <td>8.500000</td>\n",
       "    </tr>\n",
       "    <tr>\n",
       "      <th>max</th>\n",
       "      <td>34.000000</td>\n",
       "      <td>291.000000</td>\n",
       "      <td>10.000000</td>\n",
       "    </tr>\n",
       "  </tbody>\n",
       "</table>\n",
       "</div>"
      ],
      "text/plain": [
       "             Season       Episode        Rating\n",
       "count  15339.000000  15339.000000  15339.000000\n",
       "mean       4.774562     15.483604      8.059280\n",
       "std        5.103163     27.888825      0.752739\n",
       "min        1.000000      1.000000      2.200000\n",
       "25%        1.000000      4.000000      7.700000\n",
       "50%        3.000000      8.000000      8.100000\n",
       "75%        6.000000     15.000000      8.500000\n",
       "max       34.000000    291.000000     10.000000"
      ]
     },
     "execution_count": 5,
     "metadata": {},
     "output_type": "execute_result"
    }
   ],
   "source": [
    "#description of numerical variables\n",
    "imdb.describe()"
   ]
  },
  {
   "cell_type": "code",
   "execution_count": 6,
   "metadata": {},
   "outputs": [
    {
     "data": {
      "text/plain": [
       "Season     0\n",
       "Episode    0\n",
       "Rating     0\n",
       "Code       0\n",
       "Title      0\n",
       "dtype: int64"
      ]
     },
     "execution_count": 6,
     "metadata": {},
     "output_type": "execute_result"
    }
   ],
   "source": [
    "imdb.isnull().sum()"
   ]
  },
  {
   "cell_type": "code",
   "execution_count": 7,
   "metadata": {},
   "outputs": [
    {
     "data": {
      "image/png": "[encoded data removed]",
      "text/plain": [
       "<matplotlib.figure.Figure at 0x1d99d9433c8>"
      ]
     },
     "metadata": {},
     "output_type": "display_data"
    }
   ],
   "source": [
    "#boxplot shows distribution of all episode ratings\n",
    "imdb.boxplot(column=['Rating'])\n",
    "plt.show()"
   ]
  },
  {
   "cell_type": "code",
   "execution_count": 8,
   "metadata": {},
   "outputs": [
    {
     "data": {
      "text/plain": [
       "Title\n",
       "1883                         8.600000\n",
       "Adventure Time               8.015771\n",
       "Africa                       8.450000\n",
       "Alfred Hitchcock Presents    7.134328\n",
       "Anne with an E               8.744444\n",
       "                               ...   \n",
       "Yellowstone                  8.384615\n",
       "Yes Minister                 8.327273\n",
       "Yes, Prime Minister          8.418750\n",
       "Young Justice                8.916327\n",
       "Your Lie in April            8.390909\n",
       "Name: Rating, Length: 243, dtype: float64"
      ]
     },
     "execution_count": 8,
     "metadata": {},
     "output_type": "execute_result"
    }
   ],
   "source": [
    "#get avg episode rating for each show\n",
    "avg_rating = imdb.groupby(['Title']).mean()\n",
    "avg_rating['Rating']"
   ]
  },
  {
   "cell_type": "code",
   "execution_count": 9,
   "metadata": {},
   "outputs": [
    {
     "data": {
      "text/plain": [
       "8.106435643564362"
      ]
     },
     "execution_count": 9,
     "metadata": {},
     "output_type": "execute_result"
    }
   ],
   "source": [
    "#search for avg rating for a specific show\n",
    "avg_rating.at['The Office', 'Rating']"
   ]
  },
  {
   "cell_type": "code",
   "execution_count": 10,
   "metadata": {
    "collapsed": true
   },
   "outputs": [],
   "source": [
    "#change 'Title' from index to a field and replace index\n",
    "avg_rating.reset_index(inplace=True)"
   ]
  },
  {
   "cell_type": "code",
   "execution_count": 11,
   "metadata": {},
   "outputs": [
    {
     "name": "stdout",
     "output_type": "stream",
     "text": [
      "                         Title    Season    Episode    Rating\n",
      "0                         1883  1.000000   5.500000  8.600000\n",
      "1               Adventure Time  5.125448  16.681004  8.015771\n",
      "2                       Africa  1.000000   3.500000  8.450000\n",
      "3    Alfred Hitchcock Presents  3.988806  19.656716  7.134328\n",
      "4               Anne with an E  2.111111   5.111111  8.744444\n",
      "..                         ...       ...        ...       ...\n",
      "238                Yellowstone  2.538462   5.384615  8.384615\n",
      "239               Yes Minister  2.045455   4.181818  8.327273\n",
      "240        Yes, Prime Minister  1.500000   4.500000  8.418750\n",
      "241              Young Justice  2.530612  12.887755  8.916327\n",
      "242          Your Lie in April  1.000000  11.500000  8.390909\n",
      "\n",
      "[243 rows x 4 columns]\n"
     ]
    }
   ],
   "source": [
    "#print avg_rating dataframe\n",
    "print(avg_rating)"
   ]
  },
  {
   "cell_type": "code",
   "execution_count": 12,
   "metadata": {},
   "outputs": [
    {
     "data": {
      "image/png": "[encoded data removed]",
      "text/plain": [
       "<matplotlib.figure.Figure at 0x1d99d943ef0>"
      ]
     },
     "metadata": {},
     "output_type": "display_data"
    }
   ],
   "source": [
    "#plot avg episode rating for each show(scatter)\n",
    "#use only the first 4 rows\n",
    "ar = avg_rating.iloc[0:4]\n",
    "plt.scatter(ar['Title'], ar['Rating'])\n",
    "#label titles\n",
    "plt.title('Average Episode Rating for each show')\n",
    "plt.ylabel('Rating')\n",
    "plt.xlabel('Title')\n",
    "plt.show()"
   ]
  },
  {
   "cell_type": "code",
   "execution_count": 13,
   "metadata": {},
   "outputs": [
    {
     "data": {
      "text/plain": [
       "Title\n",
       "1883                          1\n",
       "Adventure Time               10\n",
       "Africa                        1\n",
       "Alfred Hitchcock Presents     7\n",
       "Anne with an E                3\n",
       "                             ..\n",
       "Yellowstone                   4\n",
       "Yes Minister                  3\n",
       "Yes, Prime Minister           2\n",
       "Young Justice                 4\n",
       "Your Lie in April             1\n",
       "Name: Season, Length: 243, dtype: int64"
      ]
     },
     "execution_count": 13,
     "metadata": {},
     "output_type": "execute_result"
    }
   ],
   "source": [
    "#get how many seasons each show had\n",
    "tot_seasons = imdb.groupby(['Title']).max()\n",
    "tot_seasons['Season']"
   ]
  },
  {
   "cell_type": "code",
   "execution_count": 14,
   "metadata": {},
   "outputs": [
    {
     "data": {
      "text/plain": [
       "9"
      ]
     },
     "execution_count": 14,
     "metadata": {},
     "output_type": "execute_result"
    }
   ],
   "source": [
    "#search for number of seasons for a specific show\n",
    "tot_seasons.at['The Office', 'Season']"
   ]
  },
  {
   "cell_type": "code",
   "execution_count": 15,
   "metadata": {
    "collapsed": true
   },
   "outputs": [],
   "source": [
    "#change 'Title' from index to a field and replace index\n",
    "tot_seasons.reset_index(inplace=True)"
   ]
  },
  {
   "cell_type": "code",
   "execution_count": 16,
   "metadata": {},
   "outputs": [
    {
     "name": "stdout",
     "output_type": "stream",
     "text": [
      "                         Title  Season  Episode  Rating        Code\n",
      "0                         1883       1       10     9.2  tt13991232\n",
      "1               Adventure Time      10       52     9.7   tt1305826\n",
      "2                       Africa       1        6     8.7   tt2571774\n",
      "3    Alfred Hitchcock Presents       7       39     8.6   tt0047708\n",
      "4               Anne with an E       3       10     9.5   tt5421602\n",
      "..                         ...     ...      ...     ...         ...\n",
      "238                Yellowstone       4       10     9.4   tt4236770\n",
      "239               Yes Minister       3        8     9.1   tt0080306\n",
      "240        Yes, Prime Minister       2        8     9.2   tt0086831\n",
      "241              Young Justice       4       26     9.7   tt1641384\n",
      "242          Your Lie in April       1       22     9.7   tt3895150\n",
      "\n",
      "[243 rows x 5 columns]\n"
     ]
    }
   ],
   "source": [
    "#look at tot_seasons df\n",
    "print(tot_seasons)"
   ]
  },
  {
   "cell_type": "code",
   "execution_count": 17,
   "metadata": {},
   "outputs": [
    {
     "data": {
      "image/png": "[encoded data removed]",
      "text/plain": [
       "<matplotlib.figure.Figure at 0x1d995d544e0>"
      ]
     },
     "metadata": {},
     "output_type": "display_data"
    }
   ],
   "source": [
    "#plot total number of seasons for each show(scatter)\n",
    "#use only the first 4 rows\n",
    "ts = tot_seasons.iloc[0:4]\n",
    "plt.scatter(ts['Title'], ts['Season'])\n",
    "#labels\n",
    "plt.title('Number of Seasons For Each Show')\n",
    "plt.ylabel('Seasons')\n",
    "plt.xlabel('Title')\n",
    "plt.show()"
   ]
  },
  {
   "cell_type": "code",
   "execution_count": 18,
   "metadata": {},
   "outputs": [
    {
     "data": {
      "image/png": "[encoded data removed]",
      "text/plain": [
       "<matplotlib.figure.Figure at 0x1d99da67dd8>"
      ]
     },
     "metadata": {},
     "output_type": "display_data"
    }
   ],
   "source": [
    "#boxplot shows distribution of # of seasons for each show\n",
    "tot_seasons.boxplot(column=['Season'])\n",
    "plt.show()"
   ]
  },
  {
   "cell_type": "markdown",
   "metadata": {},
   "source": [
    "## Questions"
   ]
  },
  {
   "cell_type": "markdown",
   "metadata": {},
   "source": [
    "### 1.) What are the top series by mean episode rating?"
   ]
  },
  {
   "cell_type": "code",
   "execution_count": 19,
   "metadata": {},
   "outputs": [
    {
     "data": {
      "text/html": [
       "<div>\n",
       "<style scoped>\n",
       "    .dataframe tbody tr th:only-of-type {\n",
       "        vertical-align: middle;\n",
       "    }\n",
       "\n",
       "    .dataframe tbody tr th {\n",
       "        vertical-align: top;\n",
       "    }\n",
       "\n",
       "    .dataframe thead th {\n",
       "        text-align: right;\n",
       "    }\n",
       "</style>\n",
       "<table border=\"1\" class=\"dataframe\">\n",
       "  <thead>\n",
       "    <tr style=\"text-align: right;\">\n",
       "      <th></th>\n",
       "      <th>Title</th>\n",
       "      <th>Rating</th>\n",
       "    </tr>\n",
       "  </thead>\n",
       "  <tbody>\n",
       "    <tr>\n",
       "      <th>0</th>\n",
       "      <td>1883</td>\n",
       "      <td>8.600000</td>\n",
       "    </tr>\n",
       "    <tr>\n",
       "      <th>1</th>\n",
       "      <td>Adventure Time</td>\n",
       "      <td>8.015771</td>\n",
       "    </tr>\n",
       "    <tr>\n",
       "      <th>2</th>\n",
       "      <td>Africa</td>\n",
       "      <td>8.450000</td>\n",
       "    </tr>\n",
       "    <tr>\n",
       "      <th>3</th>\n",
       "      <td>Alfred Hitchcock Presents</td>\n",
       "      <td>7.134328</td>\n",
       "    </tr>\n",
       "    <tr>\n",
       "      <th>4</th>\n",
       "      <td>Anne with an E</td>\n",
       "      <td>8.744444</td>\n",
       "    </tr>\n",
       "  </tbody>\n",
       "</table>\n",
       "</div>"
      ],
      "text/plain": [
       "                       Title    Rating\n",
       "0                       1883  8.600000\n",
       "1             Adventure Time  8.015771\n",
       "2                     Africa  8.450000\n",
       "3  Alfred Hitchcock Presents  7.134328\n",
       "4             Anne with an E  8.744444"
      ]
     },
     "execution_count": 19,
     "metadata": {},
     "output_type": "execute_result"
    }
   ],
   "source": [
    "#show title and average episode rating calulated in EDA\n",
    "avg_rating[['Title', 'Rating']].head()"
   ]
  },
  {
   "cell_type": "code",
   "execution_count": 20,
   "metadata": {},
   "outputs": [
    {
     "data": {
      "text/html": [
       "<div>\n",
       "<style scoped>\n",
       "    .dataframe tbody tr th:only-of-type {\n",
       "        vertical-align: middle;\n",
       "    }\n",
       "\n",
       "    .dataframe tbody tr th {\n",
       "        vertical-align: top;\n",
       "    }\n",
       "\n",
       "    .dataframe thead th {\n",
       "        text-align: right;\n",
       "    }\n",
       "</style>\n",
       "<table border=\"1\" class=\"dataframe\">\n",
       "  <thead>\n",
       "    <tr style=\"text-align: right;\">\n",
       "      <th></th>\n",
       "      <th>Title</th>\n",
       "      <th>Rating</th>\n",
       "    </tr>\n",
       "  </thead>\n",
       "  <tbody>\n",
       "    <tr>\n",
       "      <th>35</th>\n",
       "      <td>Chernobyl</td>\n",
       "      <td>9.540000</td>\n",
       "    </tr>\n",
       "    <tr>\n",
       "      <th>10</th>\n",
       "      <td>Aspirants</td>\n",
       "      <td>9.260000</td>\n",
       "    </tr>\n",
       "    <tr>\n",
       "      <th>12</th>\n",
       "      <td>Attack on Titan</td>\n",
       "      <td>9.137931</td>\n",
       "    </tr>\n",
       "    <tr>\n",
       "      <th>184</th>\n",
       "      <td>The Beatles: Get Back</td>\n",
       "      <td>9.100000</td>\n",
       "    </tr>\n",
       "    <tr>\n",
       "      <th>202</th>\n",
       "      <td>The Last Dance</td>\n",
       "      <td>9.100000</td>\n",
       "    </tr>\n",
       "    <tr>\n",
       "      <th>6</th>\n",
       "      <td>Arcane</td>\n",
       "      <td>9.044444</td>\n",
       "    </tr>\n",
       "    <tr>\n",
       "      <th>15</th>\n",
       "      <td>Band of Brothers</td>\n",
       "      <td>9.040000</td>\n",
       "    </tr>\n",
       "    <tr>\n",
       "      <th>179</th>\n",
       "      <td>TVF Pitchers</td>\n",
       "      <td>9.040000</td>\n",
       "    </tr>\n",
       "    <tr>\n",
       "      <th>152</th>\n",
       "      <td>Ramayan</td>\n",
       "      <td>9.030769</td>\n",
       "    </tr>\n",
       "    <tr>\n",
       "      <th>160</th>\n",
       "      <td>Scam 1992: The Harshad Mehta Story</td>\n",
       "      <td>9.030000</td>\n",
       "    </tr>\n",
       "  </tbody>\n",
       "</table>\n",
       "</div>"
      ],
      "text/plain": [
       "                                  Title    Rating\n",
       "35                            Chernobyl  9.540000\n",
       "10                            Aspirants  9.260000\n",
       "12                      Attack on Titan  9.137931\n",
       "184               The Beatles: Get Back  9.100000\n",
       "202                      The Last Dance  9.100000\n",
       "6                                Arcane  9.044444\n",
       "15                     Band of Brothers  9.040000\n",
       "179                        TVF Pitchers  9.040000\n",
       "152                             Ramayan  9.030769\n",
       "160  Scam 1992: The Harshad Mehta Story  9.030000"
      ]
     },
     "execution_count": 20,
     "metadata": {},
     "output_type": "execute_result"
    }
   ],
   "source": [
    "#Top 10 Series based on Mean Episode Rating\n",
    "avg_rating.sort_values(by='Rating', ascending=False).head(10)[['Title', 'Rating']]"
   ]
  },
  {
   "cell_type": "markdown",
   "metadata": {},
   "source": [
    "### 2.) What are the top series by their median episode rating?"
   ]
  },
  {
   "cell_type": "code",
   "execution_count": 21,
   "metadata": {},
   "outputs": [
    {
     "data": {
      "text/plain": [
       "Title\n",
       "1883                         8.70\n",
       "Adventure Time               8.00\n",
       "Africa                       8.45\n",
       "Alfred Hitchcock Presents    7.10\n",
       "Anne with an E               8.80\n",
       "                             ... \n",
       "Yellowstone                  8.30\n",
       "Yes Minister                 8.20\n",
       "Yes, Prime Minister          8.40\n",
       "Young Justice                8.90\n",
       "Your Lie in April            8.20\n",
       "Name: Rating, Length: 243, dtype: float64"
      ]
     },
     "execution_count": 21,
     "metadata": {},
     "output_type": "execute_result"
    }
   ],
   "source": [
    "#get median episode rating for each show\n",
    "median_rating = imdb.groupby(['Title']).median()\n",
    "median_rating['Rating']"
   ]
  },
  {
   "cell_type": "code",
   "execution_count": 22,
   "metadata": {},
   "outputs": [
    {
     "data": {
      "text/plain": [
       "Title\n",
       "Chernobyl           9.50\n",
       "Aspirants           9.30\n",
       "Arcane              9.20\n",
       "Attack on Titan     9.20\n",
       "Band of Brothers    9.05\n",
       "The Last Dance      9.05\n",
       "TVF Pitchers        9.00\n",
       "Gullak              9.00\n",
       "Our Planet          9.00\n",
       "Ramayan             9.00\n",
       "Name: Rating, dtype: float64"
      ]
     },
     "execution_count": 22,
     "metadata": {},
     "output_type": "execute_result"
    }
   ],
   "source": [
    "#Top 10 Series based on Median Episode Rating\n",
    "median_rating.sort_values(by='Rating', ascending=False).head(10)['Rating']"
   ]
  },
  {
   "cell_type": "markdown",
   "metadata": {},
   "source": [
    "### 3.) What are the top seasons by their mean episode rating?"
   ]
  },
  {
   "cell_type": "code",
   "execution_count": 23,
   "metadata": {},
   "outputs": [
    {
     "data": {
      "text/html": [
       "<div>\n",
       "<style scoped>\n",
       "    .dataframe tbody tr th:only-of-type {\n",
       "        vertical-align: middle;\n",
       "    }\n",
       "\n",
       "    .dataframe tbody tr th {\n",
       "        vertical-align: top;\n",
       "    }\n",
       "\n",
       "    .dataframe thead th {\n",
       "        text-align: right;\n",
       "    }\n",
       "</style>\n",
       "<table border=\"1\" class=\"dataframe\">\n",
       "  <thead>\n",
       "    <tr style=\"text-align: right;\">\n",
       "      <th></th>\n",
       "      <th></th>\n",
       "      <th>Episode</th>\n",
       "      <th>Rating</th>\n",
       "    </tr>\n",
       "    <tr>\n",
       "      <th>Title</th>\n",
       "      <th>Season</th>\n",
       "      <th></th>\n",
       "      <th></th>\n",
       "    </tr>\n",
       "  </thead>\n",
       "  <tbody>\n",
       "    <tr>\n",
       "      <th>1883</th>\n",
       "      <th>1</th>\n",
       "      <td>5.5</td>\n",
       "      <td>8.600000</td>\n",
       "    </tr>\n",
       "    <tr>\n",
       "      <th rowspan=\"4\" valign=\"top\">Adventure Time</th>\n",
       "      <th>1</th>\n",
       "      <td>14.0</td>\n",
       "      <td>7.555556</td>\n",
       "    </tr>\n",
       "    <tr>\n",
       "      <th>2</th>\n",
       "      <td>13.5</td>\n",
       "      <td>7.861538</td>\n",
       "    </tr>\n",
       "    <tr>\n",
       "      <th>3</th>\n",
       "      <td>13.0</td>\n",
       "      <td>7.972000</td>\n",
       "    </tr>\n",
       "    <tr>\n",
       "      <th>4</th>\n",
       "      <td>13.5</td>\n",
       "      <td>7.903846</td>\n",
       "    </tr>\n",
       "  </tbody>\n",
       "</table>\n",
       "</div>"
      ],
      "text/plain": [
       "                       Episode    Rating\n",
       "Title          Season                   \n",
       "1883           1           5.5  8.600000\n",
       "Adventure Time 1          14.0  7.555556\n",
       "               2          13.5  7.861538\n",
       "               3          13.0  7.972000\n",
       "               4          13.5  7.903846"
      ]
     },
     "execution_count": 23,
     "metadata": {},
     "output_type": "execute_result"
    }
   ],
   "source": [
    "#groupby Title and Season to get mean episode rating for each season of each show\n",
    "seasons = imdb.groupby(['Title', 'Season']).mean()\n",
    "seasons.head()"
   ]
  },
  {
   "cell_type": "code",
   "execution_count": 24,
   "metadata": {},
   "outputs": [
    {
     "data": {
      "text/plain": [
       "8.6"
      ]
     },
     "execution_count": 24,
     "metadata": {},
     "output_type": "execute_result"
    }
   ],
   "source": [
    "#calculate mean of 1883 manually to double check that the calculation above was what I wanted\n",
    "imdb[imdb['Title']== '1883'].mean()['Rating']"
   ]
  },
  {
   "cell_type": "code",
   "execution_count": 25,
   "metadata": {},
   "outputs": [
    {
     "data": {
      "text/plain": [
       "Title            Season\n",
       "Chernobyl        1         9.540000\n",
       "Breaking Bad     5         9.375000\n",
       "Attack on Titan  3         9.336364\n",
       "Brass Eye        2         9.300000\n",
       "Attack on Titan  4         9.289286\n",
       "Samurai Jack     5         9.270000\n",
       "Aspirants        1         9.260000\n",
       "Game of Thrones  4         9.230000\n",
       "True Detective   1         9.225000\n",
       "Mr. Robot        4         9.215385\n",
       "Name: Rating, dtype: float64"
      ]
     },
     "execution_count": 25,
     "metadata": {},
     "output_type": "execute_result"
    }
   ],
   "source": [
    "#Top 10 individual seasons based on Mean Episode Rating\n",
    "#sort mean episode rating for each season by descending value and display the Rating (Title and season are indeces)\n",
    "seasons.sort_values(by='Rating', ascending=False).head(10)['Rating']"
   ]
  },
  {
   "cell_type": "markdown",
   "metadata": {},
   "source": [
    "### 4.) What are the top seasons by their median episode rating?"
   ]
  },
  {
   "cell_type": "code",
   "execution_count": 26,
   "metadata": {},
   "outputs": [
    {
     "data": {
      "text/html": [
       "<div>\n",
       "<style scoped>\n",
       "    .dataframe tbody tr th:only-of-type {\n",
       "        vertical-align: middle;\n",
       "    }\n",
       "\n",
       "    .dataframe tbody tr th {\n",
       "        vertical-align: top;\n",
       "    }\n",
       "\n",
       "    .dataframe thead th {\n",
       "        text-align: right;\n",
       "    }\n",
       "</style>\n",
       "<table border=\"1\" class=\"dataframe\">\n",
       "  <thead>\n",
       "    <tr style=\"text-align: right;\">\n",
       "      <th></th>\n",
       "      <th></th>\n",
       "      <th>Episode</th>\n",
       "      <th>Rating</th>\n",
       "    </tr>\n",
       "    <tr>\n",
       "      <th>Title</th>\n",
       "      <th>Season</th>\n",
       "      <th></th>\n",
       "      <th></th>\n",
       "    </tr>\n",
       "  </thead>\n",
       "  <tbody>\n",
       "    <tr>\n",
       "      <th>1883</th>\n",
       "      <th>1</th>\n",
       "      <td>5.5</td>\n",
       "      <td>8.70</td>\n",
       "    </tr>\n",
       "    <tr>\n",
       "      <th rowspan=\"4\" valign=\"top\">Adventure Time</th>\n",
       "      <th>1</th>\n",
       "      <td>14.0</td>\n",
       "      <td>7.60</td>\n",
       "    </tr>\n",
       "    <tr>\n",
       "      <th>2</th>\n",
       "      <td>13.5</td>\n",
       "      <td>7.75</td>\n",
       "    </tr>\n",
       "    <tr>\n",
       "      <th>3</th>\n",
       "      <td>13.0</td>\n",
       "      <td>8.00</td>\n",
       "    </tr>\n",
       "    <tr>\n",
       "      <th>4</th>\n",
       "      <td>13.5</td>\n",
       "      <td>7.95</td>\n",
       "    </tr>\n",
       "  </tbody>\n",
       "</table>\n",
       "</div>"
      ],
      "text/plain": [
       "                       Episode  Rating\n",
       "Title          Season                 \n",
       "1883           1           5.5    8.70\n",
       "Adventure Time 1          14.0    7.60\n",
       "               2          13.5    7.75\n",
       "               3          13.0    8.00\n",
       "               4          13.5    7.95"
      ]
     },
     "execution_count": 26,
     "metadata": {},
     "output_type": "execute_result"
    }
   ],
   "source": [
    "#groupby Title and Season to get median episode rating for each season of each show\n",
    "median_seasons = imdb.groupby(['Title', 'Season']).median()\n",
    "median_seasons.head()"
   ]
  },
  {
   "cell_type": "code",
   "execution_count": 27,
   "metadata": {
    "collapsed": true
   },
   "outputs": [],
   "source": [
    "#reset index\n",
    "median_seasons.reset_index(inplace=True)"
   ]
  },
  {
   "cell_type": "code",
   "execution_count": 28,
   "metadata": {},
   "outputs": [
    {
     "name": "stdout",
     "output_type": "stream",
     "text": [
      "                  Title  Season  Episode  Rating\n",
      "0                  1883       1      5.5    8.70\n",
      "1        Adventure Time       1     14.0    7.60\n",
      "2        Adventure Time       2     13.5    7.75\n",
      "3        Adventure Time       3     13.0    8.00\n",
      "4        Adventure Time       4     13.5    7.95\n",
      "...                 ...     ...      ...     ...\n",
      "1042      Young Justice       1     13.5    8.90\n",
      "1043      Young Justice       2     10.5    9.10\n",
      "1044      Young Justice       3     13.5    8.85\n",
      "1045      Young Justice       4     13.5    8.90\n",
      "1046  Your Lie in April       1     11.5    8.20\n",
      "\n",
      "[1047 rows x 4 columns]\n"
     ]
    }
   ],
   "source": [
    "#print median_seasons df\n",
    "print(median_seasons)"
   ]
  },
  {
   "cell_type": "code",
   "execution_count": 29,
   "metadata": {},
   "outputs": [
    {
     "data": {
      "text/html": [
       "<div>\n",
       "<style scoped>\n",
       "    .dataframe tbody tr th:only-of-type {\n",
       "        vertical-align: middle;\n",
       "    }\n",
       "\n",
       "    .dataframe tbody tr th {\n",
       "        vertical-align: top;\n",
       "    }\n",
       "\n",
       "    .dataframe thead th {\n",
       "        text-align: right;\n",
       "    }\n",
       "</style>\n",
       "<table border=\"1\" class=\"dataframe\">\n",
       "  <thead>\n",
       "    <tr style=\"text-align: right;\">\n",
       "      <th></th>\n",
       "      <th>Title</th>\n",
       "      <th>Season</th>\n",
       "      <th>Rating</th>\n",
       "    </tr>\n",
       "  </thead>\n",
       "  <tbody>\n",
       "    <tr>\n",
       "      <th>126</th>\n",
       "      <td>Chernobyl</td>\n",
       "      <td>1</td>\n",
       "      <td>9.50</td>\n",
       "    </tr>\n",
       "    <tr>\n",
       "      <th>116</th>\n",
       "      <td>Breaking Bad</td>\n",
       "      <td>5</td>\n",
       "      <td>9.45</td>\n",
       "    </tr>\n",
       "    <tr>\n",
       "      <th>646</th>\n",
       "      <td>Sherlock</td>\n",
       "      <td>2</td>\n",
       "      <td>9.40</td>\n",
       "    </tr>\n",
       "    <tr>\n",
       "      <th>510</th>\n",
       "      <td>Only Fools and Horses</td>\n",
       "      <td>8</td>\n",
       "      <td>9.30</td>\n",
       "    </tr>\n",
       "    <tr>\n",
       "      <th>52</th>\n",
       "      <td>Attack on Titan</td>\n",
       "      <td>3</td>\n",
       "      <td>9.30</td>\n",
       "    </tr>\n",
       "    <tr>\n",
       "      <th>53</th>\n",
       "      <td>Attack on Titan</td>\n",
       "      <td>4</td>\n",
       "      <td>9.30</td>\n",
       "    </tr>\n",
       "    <tr>\n",
       "      <th>111</th>\n",
       "      <td>Brass Eye</td>\n",
       "      <td>2</td>\n",
       "      <td>9.30</td>\n",
       "    </tr>\n",
       "    <tr>\n",
       "      <th>143</th>\n",
       "      <td>Content Cop</td>\n",
       "      <td>3</td>\n",
       "      <td>9.30</td>\n",
       "    </tr>\n",
       "    <tr>\n",
       "      <th>318</th>\n",
       "      <td>Game of Thrones</td>\n",
       "      <td>4</td>\n",
       "      <td>9.30</td>\n",
       "    </tr>\n",
       "    <tr>\n",
       "      <th>45</th>\n",
       "      <td>Aspirants</td>\n",
       "      <td>1</td>\n",
       "      <td>9.30</td>\n",
       "    </tr>\n",
       "  </tbody>\n",
       "</table>\n",
       "</div>"
      ],
      "text/plain": [
       "                     Title  Season  Rating\n",
       "126              Chernobyl       1    9.50\n",
       "116           Breaking Bad       5    9.45\n",
       "646               Sherlock       2    9.40\n",
       "510  Only Fools and Horses       8    9.30\n",
       "52         Attack on Titan       3    9.30\n",
       "53         Attack on Titan       4    9.30\n",
       "111              Brass Eye       2    9.30\n",
       "143            Content Cop       3    9.30\n",
       "318        Game of Thrones       4    9.30\n",
       "45               Aspirants       1    9.30"
      ]
     },
     "execution_count": 29,
     "metadata": {},
     "output_type": "execute_result"
    }
   ],
   "source": [
    "#Top 10 individual seasons based on Median Episode Rating\n",
    "#sort mean episode rating for each season by descending value and display the Rating (Title and season are indeces)\n",
    "median_seasons.sort_values(by='Rating', ascending=False).head(10)[['Title','Season','Rating']]"
   ]
  },
  {
   "cell_type": "markdown",
   "metadata": {},
   "source": [
    "### 5.) What are the most loved TV series endings?"
   ]
  },
  {
   "cell_type": "code",
   "execution_count": 30,
   "metadata": {},
   "outputs": [
    {
     "data": {
      "text/html": [
       "<div>\n",
       "<style scoped>\n",
       "    .dataframe tbody tr th:only-of-type {\n",
       "        vertical-align: middle;\n",
       "    }\n",
       "\n",
       "    .dataframe tbody tr th {\n",
       "        vertical-align: top;\n",
       "    }\n",
       "\n",
       "    .dataframe thead th {\n",
       "        text-align: right;\n",
       "    }\n",
       "</style>\n",
       "<table border=\"1\" class=\"dataframe\">\n",
       "  <thead>\n",
       "    <tr style=\"text-align: right;\">\n",
       "      <th></th>\n",
       "      <th>Season</th>\n",
       "      <th>Episode</th>\n",
       "      <th>Rating</th>\n",
       "      <th>Code</th>\n",
       "      <th>Title</th>\n",
       "    </tr>\n",
       "  </thead>\n",
       "  <tbody>\n",
       "    <tr>\n",
       "      <th>0</th>\n",
       "      <td>1</td>\n",
       "      <td>1</td>\n",
       "      <td>9.4</td>\n",
       "      <td>tt5491994</td>\n",
       "      <td>Planet Earth II</td>\n",
       "    </tr>\n",
       "    <tr>\n",
       "      <th>1</th>\n",
       "      <td>1</td>\n",
       "      <td>2</td>\n",
       "      <td>9.1</td>\n",
       "      <td>tt5491994</td>\n",
       "      <td>Planet Earth II</td>\n",
       "    </tr>\n",
       "    <tr>\n",
       "      <th>2</th>\n",
       "      <td>1</td>\n",
       "      <td>3</td>\n",
       "      <td>8.9</td>\n",
       "      <td>tt5491994</td>\n",
       "      <td>Planet Earth II</td>\n",
       "    </tr>\n",
       "    <tr>\n",
       "      <th>3</th>\n",
       "      <td>1</td>\n",
       "      <td>4</td>\n",
       "      <td>8.8</td>\n",
       "      <td>tt5491994</td>\n",
       "      <td>Planet Earth II</td>\n",
       "    </tr>\n",
       "    <tr>\n",
       "      <th>4</th>\n",
       "      <td>1</td>\n",
       "      <td>5</td>\n",
       "      <td>8.7</td>\n",
       "      <td>tt5491994</td>\n",
       "      <td>Planet Earth II</td>\n",
       "    </tr>\n",
       "    <tr>\n",
       "      <th>...</th>\n",
       "      <td>...</td>\n",
       "      <td>...</td>\n",
       "      <td>...</td>\n",
       "      <td>...</td>\n",
       "      <td>...</td>\n",
       "    </tr>\n",
       "    <tr>\n",
       "      <th>15334</th>\n",
       "      <td>16</td>\n",
       "      <td>1</td>\n",
       "      <td>8.0</td>\n",
       "      <td>tt1230180</td>\n",
       "      <td>The Angry Video Game Nerd</td>\n",
       "    </tr>\n",
       "    <tr>\n",
       "      <th>15335</th>\n",
       "      <td>16</td>\n",
       "      <td>2</td>\n",
       "      <td>8.3</td>\n",
       "      <td>tt1230180</td>\n",
       "      <td>The Angry Video Game Nerd</td>\n",
       "    </tr>\n",
       "    <tr>\n",
       "      <th>15336</th>\n",
       "      <td>16</td>\n",
       "      <td>3</td>\n",
       "      <td>7.5</td>\n",
       "      <td>tt1230180</td>\n",
       "      <td>The Angry Video Game Nerd</td>\n",
       "    </tr>\n",
       "    <tr>\n",
       "      <th>15337</th>\n",
       "      <td>16</td>\n",
       "      <td>4</td>\n",
       "      <td>7.0</td>\n",
       "      <td>tt1230180</td>\n",
       "      <td>The Angry Video Game Nerd</td>\n",
       "    </tr>\n",
       "    <tr>\n",
       "      <th>15338</th>\n",
       "      <td>16</td>\n",
       "      <td>5</td>\n",
       "      <td>8.1</td>\n",
       "      <td>tt1230180</td>\n",
       "      <td>The Angry Video Game Nerd</td>\n",
       "    </tr>\n",
       "  </tbody>\n",
       "</table>\n",
       "<p>15339 rows × 5 columns</p>\n",
       "</div>"
      ],
      "text/plain": [
       "       Season  Episode  Rating       Code                      Title\n",
       "0           1        1     9.4  tt5491994            Planet Earth II\n",
       "1           1        2     9.1  tt5491994            Planet Earth II\n",
       "2           1        3     8.9  tt5491994            Planet Earth II\n",
       "3           1        4     8.8  tt5491994            Planet Earth II\n",
       "4           1        5     8.7  tt5491994            Planet Earth II\n",
       "...       ...      ...     ...        ...                        ...\n",
       "15334      16        1     8.0  tt1230180  The Angry Video Game Nerd\n",
       "15335      16        2     8.3  tt1230180  The Angry Video Game Nerd\n",
       "15336      16        3     7.5  tt1230180  The Angry Video Game Nerd\n",
       "15337      16        4     7.0  tt1230180  The Angry Video Game Nerd\n",
       "15338      16        5     8.1  tt1230180  The Angry Video Game Nerd\n",
       "\n",
       "[15339 rows x 5 columns]"
      ]
     },
     "execution_count": 30,
     "metadata": {},
     "output_type": "execute_result"
    }
   ],
   "source": [
    "#look at imdb df\n",
    "imdb"
   ]
  },
  {
   "cell_type": "code",
   "execution_count": 31,
   "metadata": {},
   "outputs": [
    {
     "data": {
      "text/html": [
       "<div>\n",
       "<style scoped>\n",
       "    .dataframe tbody tr th:only-of-type {\n",
       "        vertical-align: middle;\n",
       "    }\n",
       "\n",
       "    .dataframe tbody tr th {\n",
       "        vertical-align: top;\n",
       "    }\n",
       "\n",
       "    .dataframe thead th {\n",
       "        text-align: right;\n",
       "    }\n",
       "</style>\n",
       "<table border=\"1\" class=\"dataframe\">\n",
       "  <thead>\n",
       "    <tr style=\"text-align: right;\">\n",
       "      <th></th>\n",
       "      <th>Season</th>\n",
       "      <th>Episode</th>\n",
       "      <th>Rating</th>\n",
       "      <th>Code</th>\n",
       "      <th>Title</th>\n",
       "    </tr>\n",
       "  </thead>\n",
       "  <tbody>\n",
       "    <tr>\n",
       "      <th>5409</th>\n",
       "      <td>1</td>\n",
       "      <td>1</td>\n",
       "      <td>8.7</td>\n",
       "      <td>tt13991232</td>\n",
       "      <td>1883</td>\n",
       "    </tr>\n",
       "    <tr>\n",
       "      <th>5410</th>\n",
       "      <td>1</td>\n",
       "      <td>2</td>\n",
       "      <td>8.9</td>\n",
       "      <td>tt13991232</td>\n",
       "      <td>1883</td>\n",
       "    </tr>\n",
       "    <tr>\n",
       "      <th>5411</th>\n",
       "      <td>1</td>\n",
       "      <td>3</td>\n",
       "      <td>8.4</td>\n",
       "      <td>tt13991232</td>\n",
       "      <td>1883</td>\n",
       "    </tr>\n",
       "    <tr>\n",
       "      <th>5412</th>\n",
       "      <td>1</td>\n",
       "      <td>4</td>\n",
       "      <td>8.3</td>\n",
       "      <td>tt13991232</td>\n",
       "      <td>1883</td>\n",
       "    </tr>\n",
       "    <tr>\n",
       "      <th>5413</th>\n",
       "      <td>1</td>\n",
       "      <td>5</td>\n",
       "      <td>9.1</td>\n",
       "      <td>tt13991232</td>\n",
       "      <td>1883</td>\n",
       "    </tr>\n",
       "    <tr>\n",
       "      <th>...</th>\n",
       "      <td>...</td>\n",
       "      <td>...</td>\n",
       "      <td>...</td>\n",
       "      <td>...</td>\n",
       "      <td>...</td>\n",
       "    </tr>\n",
       "    <tr>\n",
       "      <th>13854</th>\n",
       "      <td>1</td>\n",
       "      <td>18</td>\n",
       "      <td>8.6</td>\n",
       "      <td>tt3895150</td>\n",
       "      <td>Your Lie in April</td>\n",
       "    </tr>\n",
       "    <tr>\n",
       "      <th>13855</th>\n",
       "      <td>1</td>\n",
       "      <td>19</td>\n",
       "      <td>8.2</td>\n",
       "      <td>tt3895150</td>\n",
       "      <td>Your Lie in April</td>\n",
       "    </tr>\n",
       "    <tr>\n",
       "      <th>13856</th>\n",
       "      <td>1</td>\n",
       "      <td>20</td>\n",
       "      <td>8.8</td>\n",
       "      <td>tt3895150</td>\n",
       "      <td>Your Lie in April</td>\n",
       "    </tr>\n",
       "    <tr>\n",
       "      <th>13857</th>\n",
       "      <td>1</td>\n",
       "      <td>21</td>\n",
       "      <td>9.0</td>\n",
       "      <td>tt3895150</td>\n",
       "      <td>Your Lie in April</td>\n",
       "    </tr>\n",
       "    <tr>\n",
       "      <th>13858</th>\n",
       "      <td>1</td>\n",
       "      <td>22</td>\n",
       "      <td>9.7</td>\n",
       "      <td>tt3895150</td>\n",
       "      <td>Your Lie in April</td>\n",
       "    </tr>\n",
       "  </tbody>\n",
       "</table>\n",
       "<p>15339 rows × 5 columns</p>\n",
       "</div>"
      ],
      "text/plain": [
       "       Season  Episode  Rating        Code              Title\n",
       "5409        1        1     8.7  tt13991232               1883\n",
       "5410        1        2     8.9  tt13991232               1883\n",
       "5411        1        3     8.4  tt13991232               1883\n",
       "5412        1        4     8.3  tt13991232               1883\n",
       "5413        1        5     9.1  tt13991232               1883\n",
       "...       ...      ...     ...         ...                ...\n",
       "13854       1       18     8.6   tt3895150  Your Lie in April\n",
       "13855       1       19     8.2   tt3895150  Your Lie in April\n",
       "13856       1       20     8.8   tt3895150  Your Lie in April\n",
       "13857       1       21     9.0   tt3895150  Your Lie in April\n",
       "13858       1       22     9.7   tt3895150  Your Lie in April\n",
       "\n",
       "[15339 rows x 5 columns]"
      ]
     },
     "execution_count": 31,
     "metadata": {},
     "output_type": "execute_result"
    }
   ],
   "source": [
    "#sort title and season in ascending order\n",
    "a = imdb.sort_values(by=['Title','Season'], ascending=True)\n",
    "a"
   ]
  },
  {
   "cell_type": "code",
   "execution_count": 32,
   "metadata": {},
   "outputs": [
    {
     "data": {
      "text/html": [
       "<div>\n",
       "<style scoped>\n",
       "    .dataframe tbody tr th:only-of-type {\n",
       "        vertical-align: middle;\n",
       "    }\n",
       "\n",
       "    .dataframe tbody tr th {\n",
       "        vertical-align: top;\n",
       "    }\n",
       "\n",
       "    .dataframe thead th {\n",
       "        text-align: right;\n",
       "    }\n",
       "</style>\n",
       "<table border=\"1\" class=\"dataframe\">\n",
       "  <thead>\n",
       "    <tr style=\"text-align: right;\">\n",
       "      <th></th>\n",
       "      <th>Season</th>\n",
       "      <th>Episode</th>\n",
       "      <th>Rating</th>\n",
       "      <th>Code</th>\n",
       "      <th>Title</th>\n",
       "    </tr>\n",
       "  </thead>\n",
       "  <tbody>\n",
       "    <tr>\n",
       "      <th>0</th>\n",
       "      <td>1</td>\n",
       "      <td>10</td>\n",
       "      <td>9.0</td>\n",
       "      <td>tt13991232</td>\n",
       "      <td>1883</td>\n",
       "    </tr>\n",
       "    <tr>\n",
       "      <th>1</th>\n",
       "      <td>10</td>\n",
       "      <td>13</td>\n",
       "      <td>9.7</td>\n",
       "      <td>tt1305826</td>\n",
       "      <td>Adventure Time</td>\n",
       "    </tr>\n",
       "    <tr>\n",
       "      <th>2</th>\n",
       "      <td>1</td>\n",
       "      <td>6</td>\n",
       "      <td>8.2</td>\n",
       "      <td>tt2571774</td>\n",
       "      <td>Africa</td>\n",
       "    </tr>\n",
       "    <tr>\n",
       "      <th>3</th>\n",
       "      <td>7</td>\n",
       "      <td>39</td>\n",
       "      <td>7.1</td>\n",
       "      <td>tt0047708</td>\n",
       "      <td>Alfred Hitchcock Presents</td>\n",
       "    </tr>\n",
       "    <tr>\n",
       "      <th>4</th>\n",
       "      <td>3</td>\n",
       "      <td>10</td>\n",
       "      <td>9.5</td>\n",
       "      <td>tt5421602</td>\n",
       "      <td>Anne with an E</td>\n",
       "    </tr>\n",
       "    <tr>\n",
       "      <th>...</th>\n",
       "      <td>...</td>\n",
       "      <td>...</td>\n",
       "      <td>...</td>\n",
       "      <td>...</td>\n",
       "      <td>...</td>\n",
       "    </tr>\n",
       "    <tr>\n",
       "      <th>238</th>\n",
       "      <td>4</td>\n",
       "      <td>10</td>\n",
       "      <td>8.2</td>\n",
       "      <td>tt4236770</td>\n",
       "      <td>Yellowstone</td>\n",
       "    </tr>\n",
       "    <tr>\n",
       "      <th>239</th>\n",
       "      <td>3</td>\n",
       "      <td>8</td>\n",
       "      <td>9.1</td>\n",
       "      <td>tt0080306</td>\n",
       "      <td>Yes Minister</td>\n",
       "    </tr>\n",
       "    <tr>\n",
       "      <th>240</th>\n",
       "      <td>2</td>\n",
       "      <td>8</td>\n",
       "      <td>8.8</td>\n",
       "      <td>tt0086831</td>\n",
       "      <td>Yes, Prime Minister</td>\n",
       "    </tr>\n",
       "    <tr>\n",
       "      <th>241</th>\n",
       "      <td>4</td>\n",
       "      <td>26</td>\n",
       "      <td>9.1</td>\n",
       "      <td>tt1641384</td>\n",
       "      <td>Young Justice</td>\n",
       "    </tr>\n",
       "    <tr>\n",
       "      <th>242</th>\n",
       "      <td>1</td>\n",
       "      <td>22</td>\n",
       "      <td>9.7</td>\n",
       "      <td>tt3895150</td>\n",
       "      <td>Your Lie in April</td>\n",
       "    </tr>\n",
       "  </tbody>\n",
       "</table>\n",
       "<p>243 rows × 5 columns</p>\n",
       "</div>"
      ],
      "text/plain": [
       "     Season  Episode  Rating        Code                      Title\n",
       "0         1       10     9.0  tt13991232                       1883\n",
       "1        10       13     9.7   tt1305826             Adventure Time\n",
       "2         1        6     8.2   tt2571774                     Africa\n",
       "3         7       39     7.1   tt0047708  Alfred Hitchcock Presents\n",
       "4         3       10     9.5   tt5421602             Anne with an E\n",
       "..      ...      ...     ...         ...                        ...\n",
       "238       4       10     8.2   tt4236770                Yellowstone\n",
       "239       3        8     9.1   tt0080306               Yes Minister\n",
       "240       2        8     8.8   tt0086831        Yes, Prime Minister\n",
       "241       4       26     9.1   tt1641384              Young Justice\n",
       "242       1       22     9.7   tt3895150          Your Lie in April\n",
       "\n",
       "[243 rows x 5 columns]"
      ]
     },
     "execution_count": 32,
     "metadata": {},
     "output_type": "execute_result"
    }
   ],
   "source": [
    "#drop all title duplicates but keep the last row (last row is series finale after sorting in ascending order)\n",
    "b = a.drop_duplicates('Title', keep='last').reset_index(drop=True)\n",
    "b"
   ]
  },
  {
   "cell_type": "code",
   "execution_count": 33,
   "metadata": {},
   "outputs": [
    {
     "data": {
      "text/html": [
       "<div>\n",
       "<style scoped>\n",
       "    .dataframe tbody tr th:only-of-type {\n",
       "        vertical-align: middle;\n",
       "    }\n",
       "\n",
       "    .dataframe tbody tr th {\n",
       "        vertical-align: top;\n",
       "    }\n",
       "\n",
       "    .dataframe thead th {\n",
       "        text-align: right;\n",
       "    }\n",
       "</style>\n",
       "<table border=\"1\" class=\"dataframe\">\n",
       "  <thead>\n",
       "    <tr style=\"text-align: right;\">\n",
       "      <th></th>\n",
       "      <th>Season</th>\n",
       "      <th>Episode</th>\n",
       "      <th>Rating</th>\n",
       "      <th>Code</th>\n",
       "      <th>Title</th>\n",
       "    </tr>\n",
       "  </thead>\n",
       "  <tbody>\n",
       "    <tr>\n",
       "      <th>208</th>\n",
       "      <td>9</td>\n",
       "      <td>23</td>\n",
       "      <td>9.8</td>\n",
       "      <td>tt0386676</td>\n",
       "      <td>The Office</td>\n",
       "    </tr>\n",
       "  </tbody>\n",
       "</table>\n",
       "</div>"
      ],
      "text/plain": [
       "     Season  Episode  Rating       Code       Title\n",
       "208       9       23     9.8  tt0386676  The Office"
      ]
     },
     "execution_count": 33,
     "metadata": {},
     "output_type": "execute_result"
    }
   ],
   "source": [
    "#check to make sure that only entry for specific shows is actually the series finale\n",
    "b[b['Title'] == 'The Office']"
   ]
  },
  {
   "cell_type": "code",
   "execution_count": 34,
   "metadata": {},
   "outputs": [
    {
     "data": {
      "text/html": [
       "<div>\n",
       "<style scoped>\n",
       "    .dataframe tbody tr th:only-of-type {\n",
       "        vertical-align: middle;\n",
       "    }\n",
       "\n",
       "    .dataframe tbody tr th {\n",
       "        vertical-align: top;\n",
       "    }\n",
       "\n",
       "    .dataframe thead th {\n",
       "        text-align: right;\n",
       "    }\n",
       "</style>\n",
       "<table border=\"1\" class=\"dataframe\">\n",
       "  <thead>\n",
       "    <tr style=\"text-align: right;\">\n",
       "      <th></th>\n",
       "      <th>Season</th>\n",
       "      <th>Episode</th>\n",
       "      <th>Rating</th>\n",
       "      <th>Code</th>\n",
       "      <th>Title</th>\n",
       "    </tr>\n",
       "  </thead>\n",
       "  <tbody>\n",
       "    <tr>\n",
       "      <th>32</th>\n",
       "      <td>5</td>\n",
       "      <td>16</td>\n",
       "      <td>9.9</td>\n",
       "      <td>tt0903747</td>\n",
       "      <td>Breaking Bad</td>\n",
       "    </tr>\n",
       "  </tbody>\n",
       "</table>\n",
       "</div>"
      ],
      "text/plain": [
       "    Season  Episode  Rating       Code         Title\n",
       "32       5       16     9.9  tt0903747  Breaking Bad"
      ]
     },
     "execution_count": 34,
     "metadata": {},
     "output_type": "execute_result"
    }
   ],
   "source": [
    "b[b['Title'] == 'Breaking Bad']"
   ]
  },
  {
   "cell_type": "code",
   "execution_count": 35,
   "metadata": {},
   "outputs": [
    {
     "data": {
      "text/html": [
       "<div>\n",
       "<style scoped>\n",
       "    .dataframe tbody tr th:only-of-type {\n",
       "        vertical-align: middle;\n",
       "    }\n",
       "\n",
       "    .dataframe tbody tr th {\n",
       "        vertical-align: top;\n",
       "    }\n",
       "\n",
       "    .dataframe thead th {\n",
       "        text-align: right;\n",
       "    }\n",
       "</style>\n",
       "<table border=\"1\" class=\"dataframe\">\n",
       "  <thead>\n",
       "    <tr style=\"text-align: right;\">\n",
       "      <th></th>\n",
       "      <th>Title</th>\n",
       "      <th>Season</th>\n",
       "      <th>Episode</th>\n",
       "      <th>Rating</th>\n",
       "    </tr>\n",
       "  </thead>\n",
       "  <tbody>\n",
       "    <tr>\n",
       "      <th>13</th>\n",
       "      <td>Avatar: The Last Airbender</td>\n",
       "      <td>3</td>\n",
       "      <td>21</td>\n",
       "      <td>9.9</td>\n",
       "    </tr>\n",
       "    <tr>\n",
       "      <th>32</th>\n",
       "      <td>Breaking Bad</td>\n",
       "      <td>5</td>\n",
       "      <td>16</td>\n",
       "      <td>9.9</td>\n",
       "    </tr>\n",
       "    <tr>\n",
       "      <th>38</th>\n",
       "      <td>Code Geass</td>\n",
       "      <td>2</td>\n",
       "      <td>25</td>\n",
       "      <td>9.9</td>\n",
       "    </tr>\n",
       "    <tr>\n",
       "      <th>167</th>\n",
       "      <td>Six Feet Under</td>\n",
       "      <td>5</td>\n",
       "      <td>12</td>\n",
       "      <td>9.9</td>\n",
       "    </tr>\n",
       "    <tr>\n",
       "      <th>230</th>\n",
       "      <td>Vinland Saga</td>\n",
       "      <td>1</td>\n",
       "      <td>24</td>\n",
       "      <td>9.9</td>\n",
       "    </tr>\n",
       "    <tr>\n",
       "      <th>35</th>\n",
       "      <td>Chernobyl</td>\n",
       "      <td>1</td>\n",
       "      <td>5</td>\n",
       "      <td>9.8</td>\n",
       "    </tr>\n",
       "    <tr>\n",
       "      <th>208</th>\n",
       "      <td>The Office</td>\n",
       "      <td>9</td>\n",
       "      <td>23</td>\n",
       "      <td>9.8</td>\n",
       "    </tr>\n",
       "    <tr>\n",
       "      <th>178</th>\n",
       "      <td>Succession</td>\n",
       "      <td>3</td>\n",
       "      <td>9</td>\n",
       "      <td>9.8</td>\n",
       "    </tr>\n",
       "    <tr>\n",
       "      <th>20</th>\n",
       "      <td>Better Call Saul</td>\n",
       "      <td>6</td>\n",
       "      <td>13</td>\n",
       "      <td>9.8</td>\n",
       "    </tr>\n",
       "    <tr>\n",
       "      <th>153</th>\n",
       "      <td>Regular Show</td>\n",
       "      <td>8</td>\n",
       "      <td>27</td>\n",
       "      <td>9.8</td>\n",
       "    </tr>\n",
       "  </tbody>\n",
       "</table>\n",
       "</div>"
      ],
      "text/plain": [
       "                          Title  Season  Episode  Rating\n",
       "13   Avatar: The Last Airbender       3       21     9.9\n",
       "32                 Breaking Bad       5       16     9.9\n",
       "38                   Code Geass       2       25     9.9\n",
       "167              Six Feet Under       5       12     9.9\n",
       "230                Vinland Saga       1       24     9.9\n",
       "35                    Chernobyl       1        5     9.8\n",
       "208                  The Office       9       23     9.8\n",
       "178                  Succession       3        9     9.8\n",
       "20             Better Call Saul       6       13     9.8\n",
       "153                Regular Show       8       27     9.8"
      ]
     },
     "execution_count": 35,
     "metadata": {},
     "output_type": "execute_result"
    }
   ],
   "source": [
    "#Top 10 Series Finales\n",
    "#sort Rating in descending and display results for series finale rating\n",
    "finales = b.sort_values(by='Rating', ascending=False)[['Title', 'Season', 'Episode', 'Rating']]\n",
    "finales.head(10)"
   ]
  },
  {
   "cell_type": "code",
   "execution_count": 36,
   "metadata": {},
   "outputs": [
    {
     "data": {
      "text/html": [
       "<div>\n",
       "<style scoped>\n",
       "    .dataframe tbody tr th:only-of-type {\n",
       "        vertical-align: middle;\n",
       "    }\n",
       "\n",
       "    .dataframe tbody tr th {\n",
       "        vertical-align: top;\n",
       "    }\n",
       "\n",
       "    .dataframe thead th {\n",
       "        text-align: right;\n",
       "    }\n",
       "</style>\n",
       "<table border=\"1\" class=\"dataframe\">\n",
       "  <thead>\n",
       "    <tr style=\"text-align: right;\">\n",
       "      <th></th>\n",
       "      <th>Title</th>\n",
       "      <th>Season</th>\n",
       "      <th>Episode</th>\n",
       "      <th>Rating</th>\n",
       "    </tr>\n",
       "  </thead>\n",
       "  <tbody>\n",
       "    <tr>\n",
       "      <th>170</th>\n",
       "      <td>South Park</td>\n",
       "      <td>25</td>\n",
       "      <td>8</td>\n",
       "      <td>6.6</td>\n",
       "    </tr>\n",
       "    <tr>\n",
       "      <th>216</th>\n",
       "      <td>The Twilight Zone</td>\n",
       "      <td>5</td>\n",
       "      <td>36</td>\n",
       "      <td>6.5</td>\n",
       "    </tr>\n",
       "    <tr>\n",
       "      <th>164</th>\n",
       "      <td>Shameless</td>\n",
       "      <td>11</td>\n",
       "      <td>12</td>\n",
       "      <td>6.4</td>\n",
       "    </tr>\n",
       "    <tr>\n",
       "      <th>23</th>\n",
       "      <td>Black Mirror</td>\n",
       "      <td>5</td>\n",
       "      <td>3</td>\n",
       "      <td>6.1</td>\n",
       "    </tr>\n",
       "    <tr>\n",
       "      <th>114</th>\n",
       "      <td>Line of Duty</td>\n",
       "      <td>6</td>\n",
       "      <td>7</td>\n",
       "      <td>5.9</td>\n",
       "    </tr>\n",
       "    <tr>\n",
       "      <th>225</th>\n",
       "      <td>Top Gear</td>\n",
       "      <td>33</td>\n",
       "      <td>1</td>\n",
       "      <td>5.9</td>\n",
       "    </tr>\n",
       "    <tr>\n",
       "      <th>150</th>\n",
       "      <td>QI</td>\n",
       "      <td>19</td>\n",
       "      <td>16</td>\n",
       "      <td>5.5</td>\n",
       "    </tr>\n",
       "    <tr>\n",
       "      <th>57</th>\n",
       "      <td>Dexter</td>\n",
       "      <td>8</td>\n",
       "      <td>12</td>\n",
       "      <td>4.7</td>\n",
       "    </tr>\n",
       "    <tr>\n",
       "      <th>83</th>\n",
       "      <td>Game of Thrones</td>\n",
       "      <td>8</td>\n",
       "      <td>6</td>\n",
       "      <td>4.0</td>\n",
       "    </tr>\n",
       "    <tr>\n",
       "      <th>94</th>\n",
       "      <td>House of Cards</td>\n",
       "      <td>6</td>\n",
       "      <td>8</td>\n",
       "      <td>2.6</td>\n",
       "    </tr>\n",
       "  </tbody>\n",
       "</table>\n",
       "</div>"
      ],
      "text/plain": [
       "                 Title  Season  Episode  Rating\n",
       "170         South Park      25        8     6.6\n",
       "216  The Twilight Zone       5       36     6.5\n",
       "164          Shameless      11       12     6.4\n",
       "23        Black Mirror       5        3     6.1\n",
       "114       Line of Duty       6        7     5.9\n",
       "225           Top Gear      33        1     5.9\n",
       "150                 QI      19       16     5.5\n",
       "57              Dexter       8       12     4.7\n",
       "83     Game of Thrones       8        6     4.0\n",
       "94      House of Cards       6        8     2.6"
      ]
     },
     "execution_count": 36,
     "metadata": {},
     "output_type": "execute_result"
    }
   ],
   "source": [
    "#Bottom 10 Series Finales\n",
    "finales.tail(10)"
   ]
  },
  {
   "cell_type": "markdown",
   "metadata": {},
   "source": [
    "If you watched Game of Thrones, you might've expected it would be on list. I am glad to see it here because the finale was truly awful. This also ensures that I will never watch House of Cards."
   ]
  },
  {
   "cell_type": "markdown",
   "metadata": {},
   "source": [
    "### 6.) What are the most loved TV series pilots?"
   ]
  },
  {
   "cell_type": "code",
   "execution_count": 37,
   "metadata": {},
   "outputs": [
    {
     "data": {
      "text/html": [
       "<div>\n",
       "<style scoped>\n",
       "    .dataframe tbody tr th:only-of-type {\n",
       "        vertical-align: middle;\n",
       "    }\n",
       "\n",
       "    .dataframe tbody tr th {\n",
       "        vertical-align: top;\n",
       "    }\n",
       "\n",
       "    .dataframe thead th {\n",
       "        text-align: right;\n",
       "    }\n",
       "</style>\n",
       "<table border=\"1\" class=\"dataframe\">\n",
       "  <thead>\n",
       "    <tr style=\"text-align: right;\">\n",
       "      <th></th>\n",
       "      <th>Season</th>\n",
       "      <th>Episode</th>\n",
       "      <th>Rating</th>\n",
       "      <th>Code</th>\n",
       "      <th>Title</th>\n",
       "    </tr>\n",
       "  </thead>\n",
       "  <tbody>\n",
       "    <tr>\n",
       "      <th>0</th>\n",
       "      <td>1</td>\n",
       "      <td>1</td>\n",
       "      <td>9.4</td>\n",
       "      <td>tt5491994</td>\n",
       "      <td>Planet Earth II</td>\n",
       "    </tr>\n",
       "    <tr>\n",
       "      <th>6</th>\n",
       "      <td>1</td>\n",
       "      <td>1</td>\n",
       "      <td>9.4</td>\n",
       "      <td>tt7366338</td>\n",
       "      <td>Chernobyl</td>\n",
       "    </tr>\n",
       "    <tr>\n",
       "      <th>11</th>\n",
       "      <td>1</td>\n",
       "      <td>1</td>\n",
       "      <td>7.1</td>\n",
       "      <td>tt6769208</td>\n",
       "      <td>Blue Planet II</td>\n",
       "    </tr>\n",
       "    <tr>\n",
       "      <th>19</th>\n",
       "      <td>1</td>\n",
       "      <td>1</td>\n",
       "      <td>8.6</td>\n",
       "      <td>tt0185906</td>\n",
       "      <td>Band of Brothers</td>\n",
       "    </tr>\n",
       "    <tr>\n",
       "      <th>29</th>\n",
       "      <td>1</td>\n",
       "      <td>1</td>\n",
       "      <td>9.1</td>\n",
       "      <td>tt2395695</td>\n",
       "      <td>Cosmos: A Spacetime Odyssey</td>\n",
       "    </tr>\n",
       "  </tbody>\n",
       "</table>\n",
       "</div>"
      ],
      "text/plain": [
       "    Season  Episode  Rating       Code                        Title\n",
       "0        1        1     9.4  tt5491994              Planet Earth II\n",
       "6        1        1     9.4  tt7366338                    Chernobyl\n",
       "11       1        1     7.1  tt6769208               Blue Planet II\n",
       "19       1        1     8.6  tt0185906             Band of Brothers\n",
       "29       1        1     9.1  tt2395695  Cosmos: A Spacetime Odyssey"
      ]
     },
     "execution_count": 37,
     "metadata": {},
     "output_type": "execute_result"
    }
   ],
   "source": [
    "#find all the pilot episodes\n",
    "pilot = imdb[(imdb['Season'] == 1) & (imdb['Episode'] == 1)]\n",
    "pilot.head()"
   ]
  },
  {
   "cell_type": "code",
   "execution_count": 38,
   "metadata": {},
   "outputs": [
    {
     "data": {
      "text/html": [
       "<div>\n",
       "<style scoped>\n",
       "    .dataframe tbody tr th:only-of-type {\n",
       "        vertical-align: middle;\n",
       "    }\n",
       "\n",
       "    .dataframe tbody tr th {\n",
       "        vertical-align: top;\n",
       "    }\n",
       "\n",
       "    .dataframe thead th {\n",
       "        text-align: right;\n",
       "    }\n",
       "</style>\n",
       "<table border=\"1\" class=\"dataframe\">\n",
       "  <thead>\n",
       "    <tr style=\"text-align: right;\">\n",
       "      <th></th>\n",
       "      <th>Title</th>\n",
       "      <th>Season</th>\n",
       "      <th>Episode</th>\n",
       "      <th>Rating</th>\n",
       "    </tr>\n",
       "  </thead>\n",
       "  <tbody>\n",
       "    <tr>\n",
       "      <th>0</th>\n",
       "      <td>Planet Earth II</td>\n",
       "      <td>1</td>\n",
       "      <td>1</td>\n",
       "      <td>9.4</td>\n",
       "    </tr>\n",
       "    <tr>\n",
       "      <th>6</th>\n",
       "      <td>Chernobyl</td>\n",
       "      <td>1</td>\n",
       "      <td>1</td>\n",
       "      <td>9.4</td>\n",
       "    </tr>\n",
       "    <tr>\n",
       "      <th>1278</th>\n",
       "      <td>Fargo</td>\n",
       "      <td>1</td>\n",
       "      <td>1</td>\n",
       "      <td>9.3</td>\n",
       "    </tr>\n",
       "    <tr>\n",
       "      <th>11507</th>\n",
       "      <td>Mr. Robot</td>\n",
       "      <td>1</td>\n",
       "      <td>1</td>\n",
       "      <td>9.2</td>\n",
       "    </tr>\n",
       "    <tr>\n",
       "      <th>6021</th>\n",
       "      <td>Aspirants</td>\n",
       "      <td>1</td>\n",
       "      <td>1</td>\n",
       "      <td>9.2</td>\n",
       "    </tr>\n",
       "    <tr>\n",
       "      <th>6548</th>\n",
       "      <td>This Is Us</td>\n",
       "      <td>1</td>\n",
       "      <td>1</td>\n",
       "      <td>9.2</td>\n",
       "    </tr>\n",
       "    <tr>\n",
       "      <th>6860</th>\n",
       "      <td>The Rehearsal</td>\n",
       "      <td>1</td>\n",
       "      <td>1</td>\n",
       "      <td>9.1</td>\n",
       "    </tr>\n",
       "    <tr>\n",
       "      <th>13347</th>\n",
       "      <td>The Night Of</td>\n",
       "      <td>1</td>\n",
       "      <td>1</td>\n",
       "      <td>9.1</td>\n",
       "    </tr>\n",
       "    <tr>\n",
       "      <th>29</th>\n",
       "      <td>Cosmos: A Spacetime Odyssey</td>\n",
       "      <td>1</td>\n",
       "      <td>1</td>\n",
       "      <td>9.1</td>\n",
       "    </tr>\n",
       "    <tr>\n",
       "      <th>1005</th>\n",
       "      <td>Attack on Titan</td>\n",
       "      <td>1</td>\n",
       "      <td>1</td>\n",
       "      <td>9.1</td>\n",
       "    </tr>\n",
       "  </tbody>\n",
       "</table>\n",
       "</div>"
      ],
      "text/plain": [
       "                             Title  Season  Episode  Rating\n",
       "0                  Planet Earth II       1        1     9.4\n",
       "6                        Chernobyl       1        1     9.4\n",
       "1278                         Fargo       1        1     9.3\n",
       "11507                    Mr. Robot       1        1     9.2\n",
       "6021                     Aspirants       1        1     9.2\n",
       "6548                    This Is Us       1        1     9.2\n",
       "6860                 The Rehearsal       1        1     9.1\n",
       "13347                 The Night Of       1        1     9.1\n",
       "29     Cosmos: A Spacetime Odyssey       1        1     9.1\n",
       "1005               Attack on Titan       1        1     9.1"
      ]
     },
     "execution_count": 38,
     "metadata": {},
     "output_type": "execute_result"
    }
   ],
   "source": [
    "#Top 10 Series Pilot Episodes\n",
    "#sort pilot ratings in descending order\n",
    "pilot = pilot.sort_values(by='Rating', ascending=False)[['Title', 'Season', 'Episode', 'Rating']]\n",
    "pilot.head(10)"
   ]
  },
  {
   "cell_type": "code",
   "execution_count": 39,
   "metadata": {},
   "outputs": [
    {
     "data": {
      "text/html": [
       "<div>\n",
       "<style scoped>\n",
       "    .dataframe tbody tr th:only-of-type {\n",
       "        vertical-align: middle;\n",
       "    }\n",
       "\n",
       "    .dataframe tbody tr th {\n",
       "        vertical-align: top;\n",
       "    }\n",
       "\n",
       "    .dataframe thead th {\n",
       "        text-align: right;\n",
       "    }\n",
       "</style>\n",
       "<table border=\"1\" class=\"dataframe\">\n",
       "  <thead>\n",
       "    <tr style=\"text-align: right;\">\n",
       "      <th></th>\n",
       "      <th>Title</th>\n",
       "      <th>Season</th>\n",
       "      <th>Episode</th>\n",
       "      <th>Rating</th>\n",
       "    </tr>\n",
       "  </thead>\n",
       "  <tbody>\n",
       "    <tr>\n",
       "      <th>3164</th>\n",
       "      <td>BoJack Horseman</td>\n",
       "      <td>1</td>\n",
       "      <td>1</td>\n",
       "      <td>7.1</td>\n",
       "    </tr>\n",
       "    <tr>\n",
       "      <th>12102</th>\n",
       "      <td>Skam</td>\n",
       "      <td>1</td>\n",
       "      <td>1</td>\n",
       "      <td>7.1</td>\n",
       "    </tr>\n",
       "    <tr>\n",
       "      <th>8638</th>\n",
       "      <td>Top Gear</td>\n",
       "      <td>1</td>\n",
       "      <td>1</td>\n",
       "      <td>7.1</td>\n",
       "    </tr>\n",
       "    <tr>\n",
       "      <th>11</th>\n",
       "      <td>Blue Planet II</td>\n",
       "      <td>1</td>\n",
       "      <td>1</td>\n",
       "      <td>7.1</td>\n",
       "    </tr>\n",
       "    <tr>\n",
       "      <th>10993</th>\n",
       "      <td>The Venture Bros.</td>\n",
       "      <td>1</td>\n",
       "      <td>1</td>\n",
       "      <td>7.1</td>\n",
       "    </tr>\n",
       "    <tr>\n",
       "      <th>13267</th>\n",
       "      <td>Schitt's Creek</td>\n",
       "      <td>1</td>\n",
       "      <td>1</td>\n",
       "      <td>7.0</td>\n",
       "    </tr>\n",
       "    <tr>\n",
       "      <th>6693</th>\n",
       "      <td>Parks and Recreation</td>\n",
       "      <td>1</td>\n",
       "      <td>1</td>\n",
       "      <td>6.9</td>\n",
       "    </tr>\n",
       "    <tr>\n",
       "      <th>5782</th>\n",
       "      <td>Star Trek: The Next Generation</td>\n",
       "      <td>1</td>\n",
       "      <td>1</td>\n",
       "      <td>6.9</td>\n",
       "    </tr>\n",
       "    <tr>\n",
       "      <th>9433</th>\n",
       "      <td>Adventure Time</td>\n",
       "      <td>1</td>\n",
       "      <td>1</td>\n",
       "      <td>6.9</td>\n",
       "    </tr>\n",
       "    <tr>\n",
       "      <th>8304</th>\n",
       "      <td>Mystery Science Theater 3000</td>\n",
       "      <td>1</td>\n",
       "      <td>1</td>\n",
       "      <td>6.5</td>\n",
       "    </tr>\n",
       "  </tbody>\n",
       "</table>\n",
       "</div>"
      ],
      "text/plain": [
       "                                Title  Season  Episode  Rating\n",
       "3164                  BoJack Horseman       1        1     7.1\n",
       "12102                            Skam       1        1     7.1\n",
       "8638                         Top Gear       1        1     7.1\n",
       "11                     Blue Planet II       1        1     7.1\n",
       "10993               The Venture Bros.       1        1     7.1\n",
       "13267                  Schitt's Creek       1        1     7.0\n",
       "6693             Parks and Recreation       1        1     6.9\n",
       "5782   Star Trek: The Next Generation       1        1     6.9\n",
       "9433                   Adventure Time       1        1     6.9\n",
       "8304     Mystery Science Theater 3000       1        1     6.5"
      ]
     },
     "execution_count": 39,
     "metadata": {},
     "output_type": "execute_result"
    }
   ],
   "source": [
    "#Bottom 10 Pilot Episodes\n",
    "pilot.tail(10)"
   ]
  },
  {
   "cell_type": "markdown",
   "metadata": {},
   "source": [
    "### 7.) What are the TV series that continously keep improving?"
   ]
  },
  {
   "cell_type": "code",
   "execution_count": 40,
   "metadata": {},
   "outputs": [
    {
     "data": {
      "text/plain": [
       "array(['Avatar: The Last Airbender', 'Breaking Bad', 'The Wire',\n",
       "       'The Sopranos', 'Rick and Morty', 'Sherlock', 'Game of Thrones',\n",
       "       'Batman: The Animated Series', 'The Twilight Zone',\n",
       "       'True Detective', 'Attack on Titan', 'Fargo', 'Gravity Falls',\n",
       "       'Better Call Saul', 'Nathan for You', 'Only Fools and Horses',\n",
       "       'The Office', 'Seinfeld', \"Monty Python's Flying Circus\",\n",
       "       'Fawlty Towers', 'Twin Peaks', 'Narcos', 'The West Wing',\n",
       "       'Black Mirror', 'Leyla and Mecnun', 'Curb Your Enthusiasm',\n",
       "       'Friends', 'Last Week Tonight with John Oliver', 'Succession',\n",
       "       'Taskmaster', \"Chappelle's Show\", 'BoJack Horseman',\n",
       "       \"It's Always Sunny in Philadelphia\", 'As If', 'Rome', 'Ted Lasso',\n",
       "       'Kota Factory', 'The Mandalorian', 'Peaky Blinders', 'Dark',\n",
       "       'Six Feet Under', 'Oz', 'One Punch Man', 'The Boys', 'Fleabag',\n",
       "       'Arrested Development', 'Stranger Things', 'Battlestar Galactica',\n",
       "       'Sarabhai V/S Sarabhai', 'Gullak', 'Downton Abbey', 'House',\n",
       "       'Dragon Ball Z', 'The Shield', 'Panchayat',\n",
       "       'The Adventures of Sherlock Holmes', 'The Marvelous Mrs. Maisel',\n",
       "       'The Crown', 'Mad Men', 'House of Cards', 'Peep Show',\n",
       "       'Friday Night Lights', 'The Grand Tour', 'South Park',\n",
       "       'Star Trek: The Next Generation', 'Justice League Unlimited',\n",
       "       'The Thick of It', 'Deadwood', 'Line of Duty', 'Father Ted',\n",
       "       'Primal', 'Code Geass', 'Dexter', 'Atlanta',\n",
       "       'Behzat Ç.: Bir Ankara Polisiyesi', 'This Is Us', 'Daredevil',\n",
       "       'Parks and Recreation', 'The Bridge',\n",
       "       'Demon Slayer: Kimetsu no Yaiba', 'The X-Files', 'Young Justice',\n",
       "       'Gomorrah', 'The Return of Sherlock Holmes', 'Mindhunter',\n",
       "       'Yellowstone', 'The Simpsons', 'Anne with an E',\n",
       "       'Mystery Science Theater 3000', 'Archer', 'Top Gear', 'Haikyu!!',\n",
       "       'Making a Murderer', 'Yes Minister', 'The Newsroom',\n",
       "       'The Eric Andre Show', 'Critical Role', 'Adventure Time',\n",
       "       'Boardwalk Empire', 'The Bugs Bunny Show', 'Justified', 'Pose',\n",
       "       'Flight of the Conchords', 'Formula 1: Drive to Survive',\n",
       "       'Justice League', 'Poirot', 'Coupling', 'Spaced', 'The Family Man',\n",
       "       'Black Sun', 'Impractical Jokers', 'What We Do in the Shadows',\n",
       "       'QI', 'The Venture Bros.', 'The Bureau', 'Yes, Prime Minister',\n",
       "       'Dragon Ball', 'Homicide: Life on the Street',\n",
       "       \"I'm Alan Partridge\", 'The IT Crowd', 'Mr. Robot', 'Westworld',\n",
       "       'Louie', 'El Chavo del Ocho', 'Spartacus', 'Brass Eye', 'Ezel',\n",
       "       'Through the Wormhole', 'Samurai Jack', 'Skam', 'Letterkenny',\n",
       "       'Sons of Anarchy', 'Shameless', 'Whose Line Is It Anyway?',\n",
       "       'Mob Psycho 100', 'Detectorists', 'Silicon Valley', 'Endeavour',\n",
       "       'Umbre', 'Hannibal', 'Cobra Kai', 'Doctor Who', \"Chef's Table\",\n",
       "       \"Schitt's Creek\", 'Trailer Park Boys', 'The Expanse',\n",
       "       'Mr Inbetween', 'Community', 'Futurama', 'Big Little Lies',\n",
       "       'My Brilliant Friend', 'The Knick', 'Content Cop', 'Black Books',\n",
       "       'Southland', 'Regular Show', 'Queer Eye', 'Derry Girls',\n",
       "       'Alfred Hitchcock Presents', 'Avrupa Yakasi', 'Wentworth',\n",
       "       'X-Men: The Animated Series', 'The Great British Baking Show',\n",
       "       \"Foyle's War\", 'The Angry Video Game Nerd'], dtype=object)"
      ]
     },
     "execution_count": 40,
     "metadata": {},
     "output_type": "execute_result"
    }
   ],
   "source": [
    "#get the unique series titles that have multiple seasons\n",
    "t = imdb[imdb['Season'] > 1]['Title'].unique()\n",
    "t"
   ]
  },
  {
   "cell_type": "code",
   "execution_count": 41,
   "metadata": {},
   "outputs": [
    {
     "data": {
      "text/html": [
       "<div>\n",
       "<style scoped>\n",
       "    .dataframe tbody tr th:only-of-type {\n",
       "        vertical-align: middle;\n",
       "    }\n",
       "\n",
       "    .dataframe tbody tr th {\n",
       "        vertical-align: top;\n",
       "    }\n",
       "\n",
       "    .dataframe thead th {\n",
       "        text-align: right;\n",
       "    }\n",
       "</style>\n",
       "<table border=\"1\" class=\"dataframe\">\n",
       "  <thead>\n",
       "    <tr style=\"text-align: right;\">\n",
       "      <th></th>\n",
       "      <th>Season</th>\n",
       "      <th>Episode</th>\n",
       "      <th>Rating</th>\n",
       "      <th>Code</th>\n",
       "      <th>Title</th>\n",
       "    </tr>\n",
       "  </thead>\n",
       "  <tbody>\n",
       "    <tr>\n",
       "      <th>110</th>\n",
       "      <td>1</td>\n",
       "      <td>1</td>\n",
       "      <td>8.4</td>\n",
       "      <td>tt0417299</td>\n",
       "      <td>Avatar: The Last Airbender</td>\n",
       "    </tr>\n",
       "    <tr>\n",
       "      <th>111</th>\n",
       "      <td>1</td>\n",
       "      <td>2</td>\n",
       "      <td>7.9</td>\n",
       "      <td>tt0417299</td>\n",
       "      <td>Avatar: The Last Airbender</td>\n",
       "    </tr>\n",
       "    <tr>\n",
       "      <th>112</th>\n",
       "      <td>1</td>\n",
       "      <td>3</td>\n",
       "      <td>8.1</td>\n",
       "      <td>tt0417299</td>\n",
       "      <td>Avatar: The Last Airbender</td>\n",
       "    </tr>\n",
       "    <tr>\n",
       "      <th>113</th>\n",
       "      <td>1</td>\n",
       "      <td>4</td>\n",
       "      <td>8.4</td>\n",
       "      <td>tt0417299</td>\n",
       "      <td>Avatar: The Last Airbender</td>\n",
       "    </tr>\n",
       "    <tr>\n",
       "      <th>114</th>\n",
       "      <td>1</td>\n",
       "      <td>5</td>\n",
       "      <td>8.0</td>\n",
       "      <td>tt0417299</td>\n",
       "      <td>Avatar: The Last Airbender</td>\n",
       "    </tr>\n",
       "  </tbody>\n",
       "</table>\n",
       "</div>"
      ],
      "text/plain": [
       "     Season  Episode  Rating       Code                       Title\n",
       "110       1        1     8.4  tt0417299  Avatar: The Last Airbender\n",
       "111       1        2     7.9  tt0417299  Avatar: The Last Airbender\n",
       "112       1        3     8.1  tt0417299  Avatar: The Last Airbender\n",
       "113       1        4     8.4  tt0417299  Avatar: The Last Airbender\n",
       "114       1        5     8.0  tt0417299  Avatar: The Last Airbender"
      ]
     },
     "execution_count": 41,
     "metadata": {},
     "output_type": "execute_result"
    }
   ],
   "source": [
    "#filter main dataframe to contain only values that are in cell above(multiple seasons)\n",
    "mult_seasons = imdb[imdb['Title'].isin(t)]\n",
    "mult_seasons.head()"
   ]
  },
  {
   "cell_type": "code",
   "execution_count": 42,
   "metadata": {},
   "outputs": [
    {
     "data": {
      "text/html": [
       "<div>\n",
       "<style scoped>\n",
       "    .dataframe tbody tr th:only-of-type {\n",
       "        vertical-align: middle;\n",
       "    }\n",
       "\n",
       "    .dataframe tbody tr th {\n",
       "        vertical-align: top;\n",
       "    }\n",
       "\n",
       "    .dataframe thead th {\n",
       "        text-align: right;\n",
       "    }\n",
       "</style>\n",
       "<table border=\"1\" class=\"dataframe\">\n",
       "  <thead>\n",
       "    <tr style=\"text-align: right;\">\n",
       "      <th></th>\n",
       "      <th></th>\n",
       "      <th>Episode</th>\n",
       "      <th>Rating</th>\n",
       "    </tr>\n",
       "    <tr>\n",
       "      <th>Title</th>\n",
       "      <th>Season</th>\n",
       "      <th></th>\n",
       "      <th></th>\n",
       "    </tr>\n",
       "  </thead>\n",
       "  <tbody>\n",
       "    <tr>\n",
       "      <th rowspan=\"5\" valign=\"top\">Adventure Time</th>\n",
       "      <th>1</th>\n",
       "      <td>14.0</td>\n",
       "      <td>7.555556</td>\n",
       "    </tr>\n",
       "    <tr>\n",
       "      <th>2</th>\n",
       "      <td>13.5</td>\n",
       "      <td>7.861538</td>\n",
       "    </tr>\n",
       "    <tr>\n",
       "      <th>3</th>\n",
       "      <td>13.0</td>\n",
       "      <td>7.972000</td>\n",
       "    </tr>\n",
       "    <tr>\n",
       "      <th>4</th>\n",
       "      <td>13.5</td>\n",
       "      <td>7.903846</td>\n",
       "    </tr>\n",
       "    <tr>\n",
       "      <th>5</th>\n",
       "      <td>26.5</td>\n",
       "      <td>8.017308</td>\n",
       "    </tr>\n",
       "    <tr>\n",
       "      <th>...</th>\n",
       "      <th>...</th>\n",
       "      <td>...</td>\n",
       "      <td>...</td>\n",
       "    </tr>\n",
       "    <tr>\n",
       "      <th>Yes, Prime Minister</th>\n",
       "      <th>2</th>\n",
       "      <td>4.5</td>\n",
       "      <td>8.275000</td>\n",
       "    </tr>\n",
       "    <tr>\n",
       "      <th rowspan=\"4\" valign=\"top\">Young Justice</th>\n",
       "      <th>1</th>\n",
       "      <td>13.5</td>\n",
       "      <td>8.911538</td>\n",
       "    </tr>\n",
       "    <tr>\n",
       "      <th>2</th>\n",
       "      <td>10.5</td>\n",
       "      <td>9.120000</td>\n",
       "    </tr>\n",
       "    <tr>\n",
       "      <th>3</th>\n",
       "      <td>13.5</td>\n",
       "      <td>8.903846</td>\n",
       "    </tr>\n",
       "    <tr>\n",
       "      <th>4</th>\n",
       "      <td>13.5</td>\n",
       "      <td>8.776923</td>\n",
       "    </tr>\n",
       "  </tbody>\n",
       "</table>\n",
       "<p>969 rows × 2 columns</p>\n",
       "</div>"
      ],
      "text/plain": [
       "                            Episode    Rating\n",
       "Title               Season                   \n",
       "Adventure Time      1          14.0  7.555556\n",
       "                    2          13.5  7.861538\n",
       "                    3          13.0  7.972000\n",
       "                    4          13.5  7.903846\n",
       "                    5          26.5  8.017308\n",
       "...                             ...       ...\n",
       "Yes, Prime Minister 2           4.5  8.275000\n",
       "Young Justice       1          13.5  8.911538\n",
       "                    2          10.5  9.120000\n",
       "                    3          13.5  8.903846\n",
       "                    4          13.5  8.776923\n",
       "\n",
       "[969 rows x 2 columns]"
      ]
     },
     "execution_count": 42,
     "metadata": {},
     "output_type": "execute_result"
    }
   ],
   "source": [
    "#get average episode rating for each season\n",
    "ms = mult_seasons.groupby(['Title', 'Season']).mean()\n",
    "ms"
   ]
  },
  {
   "cell_type": "code",
   "execution_count": 43,
   "metadata": {
    "collapsed": true
   },
   "outputs": [],
   "source": [
    "#change 'Title' and 'Season' from index to a field and replace index\n",
    "ms.reset_index(inplace=True)"
   ]
  },
  {
   "cell_type": "code",
   "execution_count": 44,
   "metadata": {},
   "outputs": [
    {
     "name": "stdout",
     "output_type": "stream",
     "text": [
      "                   Title  Season  Episode    Rating\n",
      "0         Adventure Time       1     14.0  7.555556\n",
      "1         Adventure Time       2     13.5  7.861538\n",
      "2         Adventure Time       3     13.0  7.972000\n",
      "3         Adventure Time       4     13.5  7.903846\n",
      "4         Adventure Time       5     26.5  8.017308\n",
      "..                   ...     ...      ...       ...\n",
      "964  Yes, Prime Minister       2      4.5  8.275000\n",
      "965        Young Justice       1     13.5  8.911538\n",
      "966        Young Justice       2     10.5  9.120000\n",
      "967        Young Justice       3     13.5  8.903846\n",
      "968        Young Justice       4     13.5  8.776923\n",
      "\n",
      "[969 rows x 4 columns]\n"
     ]
    }
   ],
   "source": [
    "print(ms)"
   ]
  },
  {
   "cell_type": "code",
   "execution_count": 45,
   "metadata": {},
   "outputs": [
    {
     "data": {
      "text/html": [
       "<div>\n",
       "<style scoped>\n",
       "    .dataframe tbody tr th:only-of-type {\n",
       "        vertical-align: middle;\n",
       "    }\n",
       "\n",
       "    .dataframe tbody tr th {\n",
       "        vertical-align: top;\n",
       "    }\n",
       "\n",
       "    .dataframe thead th {\n",
       "        text-align: right;\n",
       "    }\n",
       "</style>\n",
       "<table border=\"1\" class=\"dataframe\">\n",
       "  <thead>\n",
       "    <tr style=\"text-align: right;\">\n",
       "      <th></th>\n",
       "      <th>Title</th>\n",
       "      <th>Season</th>\n",
       "      <th>Rating</th>\n",
       "    </tr>\n",
       "  </thead>\n",
       "  <tbody>\n",
       "    <tr>\n",
       "      <th>0</th>\n",
       "      <td>Adventure Time</td>\n",
       "      <td>1</td>\n",
       "      <td>7.555556</td>\n",
       "    </tr>\n",
       "    <tr>\n",
       "      <th>1</th>\n",
       "      <td>Adventure Time</td>\n",
       "      <td>2</td>\n",
       "      <td>7.861538</td>\n",
       "    </tr>\n",
       "    <tr>\n",
       "      <th>2</th>\n",
       "      <td>Adventure Time</td>\n",
       "      <td>3</td>\n",
       "      <td>7.972000</td>\n",
       "    </tr>\n",
       "    <tr>\n",
       "      <th>3</th>\n",
       "      <td>Adventure Time</td>\n",
       "      <td>4</td>\n",
       "      <td>7.903846</td>\n",
       "    </tr>\n",
       "    <tr>\n",
       "      <th>4</th>\n",
       "      <td>Adventure Time</td>\n",
       "      <td>5</td>\n",
       "      <td>8.017308</td>\n",
       "    </tr>\n",
       "    <tr>\n",
       "      <th>...</th>\n",
       "      <td>...</td>\n",
       "      <td>...</td>\n",
       "      <td>...</td>\n",
       "    </tr>\n",
       "    <tr>\n",
       "      <th>964</th>\n",
       "      <td>Yes, Prime Minister</td>\n",
       "      <td>2</td>\n",
       "      <td>8.275000</td>\n",
       "    </tr>\n",
       "    <tr>\n",
       "      <th>965</th>\n",
       "      <td>Young Justice</td>\n",
       "      <td>1</td>\n",
       "      <td>8.911538</td>\n",
       "    </tr>\n",
       "    <tr>\n",
       "      <th>966</th>\n",
       "      <td>Young Justice</td>\n",
       "      <td>2</td>\n",
       "      <td>9.120000</td>\n",
       "    </tr>\n",
       "    <tr>\n",
       "      <th>967</th>\n",
       "      <td>Young Justice</td>\n",
       "      <td>3</td>\n",
       "      <td>8.903846</td>\n",
       "    </tr>\n",
       "    <tr>\n",
       "      <th>968</th>\n",
       "      <td>Young Justice</td>\n",
       "      <td>4</td>\n",
       "      <td>8.776923</td>\n",
       "    </tr>\n",
       "  </tbody>\n",
       "</table>\n",
       "<p>969 rows × 3 columns</p>\n",
       "</div>"
      ],
      "text/plain": [
       "                   Title  Season    Rating\n",
       "0         Adventure Time       1  7.555556\n",
       "1         Adventure Time       2  7.861538\n",
       "2         Adventure Time       3  7.972000\n",
       "3         Adventure Time       4  7.903846\n",
       "4         Adventure Time       5  8.017308\n",
       "..                   ...     ...       ...\n",
       "964  Yes, Prime Minister       2  8.275000\n",
       "965        Young Justice       1  8.911538\n",
       "966        Young Justice       2  9.120000\n",
       "967        Young Justice       3  8.903846\n",
       "968        Young Justice       4  8.776923\n",
       "\n",
       "[969 rows x 3 columns]"
      ]
     },
     "execution_count": 45,
     "metadata": {},
     "output_type": "execute_result"
    }
   ],
   "source": [
    "#drop 'Episode' column\n",
    "ms = ms[['Title', 'Season', 'Rating']]\n",
    "ms"
   ]
  },
  {
   "cell_type": "code",
   "execution_count": 46,
   "metadata": {},
   "outputs": [
    {
     "data": {
      "text/html": [
       "<div>\n",
       "<style scoped>\n",
       "    .dataframe tbody tr th:only-of-type {\n",
       "        vertical-align: middle;\n",
       "    }\n",
       "\n",
       "    .dataframe tbody tr th {\n",
       "        vertical-align: top;\n",
       "    }\n",
       "\n",
       "    .dataframe thead th {\n",
       "        text-align: right;\n",
       "    }\n",
       "</style>\n",
       "<table border=\"1\" class=\"dataframe\">\n",
       "  <thead>\n",
       "    <tr style=\"text-align: right;\">\n",
       "      <th></th>\n",
       "      <th>Title</th>\n",
       "      <th>Season</th>\n",
       "      <th>Rating</th>\n",
       "    </tr>\n",
       "  </thead>\n",
       "  <tbody>\n",
       "    <tr>\n",
       "      <th>762</th>\n",
       "      <td>The Office</td>\n",
       "      <td>1</td>\n",
       "      <td>7.950000</td>\n",
       "    </tr>\n",
       "    <tr>\n",
       "      <th>763</th>\n",
       "      <td>The Office</td>\n",
       "      <td>2</td>\n",
       "      <td>8.328571</td>\n",
       "    </tr>\n",
       "    <tr>\n",
       "      <th>764</th>\n",
       "      <td>The Office</td>\n",
       "      <td>3</td>\n",
       "      <td>8.500000</td>\n",
       "    </tr>\n",
       "    <tr>\n",
       "      <th>765</th>\n",
       "      <td>The Office</td>\n",
       "      <td>4</td>\n",
       "      <td>8.414286</td>\n",
       "    </tr>\n",
       "    <tr>\n",
       "      <th>766</th>\n",
       "      <td>The Office</td>\n",
       "      <td>5</td>\n",
       "      <td>8.357692</td>\n",
       "    </tr>\n",
       "    <tr>\n",
       "      <th>767</th>\n",
       "      <td>The Office</td>\n",
       "      <td>6</td>\n",
       "      <td>8.050000</td>\n",
       "    </tr>\n",
       "    <tr>\n",
       "      <th>768</th>\n",
       "      <td>The Office</td>\n",
       "      <td>7</td>\n",
       "      <td>8.179167</td>\n",
       "    </tr>\n",
       "    <tr>\n",
       "      <th>769</th>\n",
       "      <td>The Office</td>\n",
       "      <td>8</td>\n",
       "      <td>7.420833</td>\n",
       "    </tr>\n",
       "    <tr>\n",
       "      <th>770</th>\n",
       "      <td>The Office</td>\n",
       "      <td>9</td>\n",
       "      <td>7.721739</td>\n",
       "    </tr>\n",
       "  </tbody>\n",
       "</table>\n",
       "</div>"
      ],
      "text/plain": [
       "          Title  Season    Rating\n",
       "762  The Office       1  7.950000\n",
       "763  The Office       2  8.328571\n",
       "764  The Office       3  8.500000\n",
       "765  The Office       4  8.414286\n",
       "766  The Office       5  8.357692\n",
       "767  The Office       6  8.050000\n",
       "768  The Office       7  8.179167\n",
       "769  The Office       8  7.420833\n",
       "770  The Office       9  7.721739"
      ]
     },
     "execution_count": 46,
     "metadata": {},
     "output_type": "execute_result"
    }
   ],
   "source": [
    "#specific example of show that does not continously improve over the course of the show\n",
    "ms[ms['Title'] == 'The Office']"
   ]
  },
  {
   "cell_type": "code",
   "execution_count": 47,
   "metadata": {},
   "outputs": [
    {
     "data": {
      "text/plain": [
       "False"
      ]
     },
     "execution_count": 47,
     "metadata": {},
     "output_type": "execute_result"
    }
   ],
   "source": [
    "#command to determine if avg episode rating is going up each season\n",
    "ms[ms['Title'] == 'The Office']['Rating'].is_monotonic_increasing"
   ]
  },
  {
   "cell_type": "code",
   "execution_count": 48,
   "metadata": {},
   "outputs": [
    {
     "data": {
      "text/html": [
       "<div>\n",
       "<style scoped>\n",
       "    .dataframe tbody tr th:only-of-type {\n",
       "        vertical-align: middle;\n",
       "    }\n",
       "\n",
       "    .dataframe tbody tr th {\n",
       "        vertical-align: top;\n",
       "    }\n",
       "\n",
       "    .dataframe thead th {\n",
       "        text-align: right;\n",
       "    }\n",
       "</style>\n",
       "<table border=\"1\" class=\"dataframe\">\n",
       "  <thead>\n",
       "    <tr style=\"text-align: right;\">\n",
       "      <th></th>\n",
       "      <th>Title</th>\n",
       "      <th>Season</th>\n",
       "      <th>Rating</th>\n",
       "    </tr>\n",
       "  </thead>\n",
       "  <tbody>\n",
       "    <tr>\n",
       "      <th>561</th>\n",
       "      <td>Schitt's Creek</td>\n",
       "      <td>1</td>\n",
       "      <td>7.500000</td>\n",
       "    </tr>\n",
       "    <tr>\n",
       "      <th>562</th>\n",
       "      <td>Schitt's Creek</td>\n",
       "      <td>2</td>\n",
       "      <td>7.869231</td>\n",
       "    </tr>\n",
       "    <tr>\n",
       "      <th>563</th>\n",
       "      <td>Schitt's Creek</td>\n",
       "      <td>3</td>\n",
       "      <td>7.938462</td>\n",
       "    </tr>\n",
       "    <tr>\n",
       "      <th>564</th>\n",
       "      <td>Schitt's Creek</td>\n",
       "      <td>4</td>\n",
       "      <td>8.176923</td>\n",
       "    </tr>\n",
       "    <tr>\n",
       "      <th>565</th>\n",
       "      <td>Schitt's Creek</td>\n",
       "      <td>5</td>\n",
       "      <td>8.192857</td>\n",
       "    </tr>\n",
       "    <tr>\n",
       "      <th>566</th>\n",
       "      <td>Schitt's Creek</td>\n",
       "      <td>6</td>\n",
       "      <td>8.314286</td>\n",
       "    </tr>\n",
       "  </tbody>\n",
       "</table>\n",
       "</div>"
      ],
      "text/plain": [
       "              Title  Season    Rating\n",
       "561  Schitt's Creek       1  7.500000\n",
       "562  Schitt's Creek       2  7.869231\n",
       "563  Schitt's Creek       3  7.938462\n",
       "564  Schitt's Creek       4  8.176923\n",
       "565  Schitt's Creek       5  8.192857\n",
       "566  Schitt's Creek       6  8.314286"
      ]
     },
     "execution_count": 48,
     "metadata": {},
     "output_type": "execute_result"
    }
   ],
   "source": [
    "#specific example of show that is continously improving over the course of the show\n",
    "ms[ms['Title'] == \"Schitt's Creek\"]"
   ]
  },
  {
   "cell_type": "code",
   "execution_count": 49,
   "metadata": {},
   "outputs": [
    {
     "data": {
      "text/plain": [
       "True"
      ]
     },
     "execution_count": 49,
     "metadata": {},
     "output_type": "execute_result"
    }
   ],
   "source": [
    "#command to determine if avg episode rating is going up each season\n",
    "ms[ms['Title'] == \"Schitt's Creek\"]['Rating'].is_monotonic_increasing"
   ]
  },
  {
   "cell_type": "code",
   "execution_count": 50,
   "metadata": {},
   "outputs": [
    {
     "name": "stdout",
     "output_type": "stream",
     "text": [
      "Avatar: The Last Airbender\n",
      "Gravity Falls\n",
      "Fawlty Towers\n",
      "Succession\n",
      "BoJack Horseman\n",
      "Rome\n",
      "The Mandalorian\n",
      "Fleabag\n",
      "Sarabhai V/S Sarabhai\n",
      "Panchayat\n",
      "The Adventures of Sherlock Holmes\n",
      "Father Ted\n",
      "Code Geass\n",
      "Daredevil\n",
      "The Bridge\n",
      "Demon Slayer: Kimetsu no Yaiba\n",
      "Mindhunter\n",
      "Yes Minister\n",
      "Critical Role\n",
      "Flight of the Conchords\n",
      "Justice League\n",
      "Spaced\n",
      "The Family Man\n",
      "Brass Eye\n",
      "Ezel\n",
      "Detectorists\n",
      "Umbre\n",
      "Schitt's Creek\n",
      "The Knick\n",
      "Content Cop\n"
     ]
    }
   ],
   "source": [
    "##Series with multiple seasons that are continuously improving\n",
    "#loop through each title with multiple seasons and return titles whos avg. episode rating goes up each season\n",
    "for i in t:\n",
    "    if (ms[ms['Title'] == i]['Rating'].is_monotonic_increasing) == True:\n",
    "        print(i)"
   ]
  },
  {
   "cell_type": "markdown",
   "metadata": {},
   "source": [
    "Since this result contains titles with multiple seasons, some of these titles may have only 2 or 3 seasons which is a pretty\n",
    "low threshold to be continously improving, so I wanted to test to see if there are any titles that fall into this category\n",
    "that have 6 or more seasons. Those might be the shows to consider watching."
   ]
  },
  {
   "cell_type": "code",
   "execution_count": 51,
   "metadata": {},
   "outputs": [
    {
     "data": {
      "text/plain": [
       "array(['The Sopranos', 'Rick and Morty', 'Game of Thrones',\n",
       "       'Better Call Saul', 'Only Fools and Horses', 'The Office',\n",
       "       'Seinfeld', 'The West Wing', 'Leyla and Mecnun',\n",
       "       'Curb Your Enthusiasm', 'Friends',\n",
       "       'Last Week Tonight with John Oliver', 'Taskmaster',\n",
       "       'BoJack Horseman', \"It's Always Sunny in Philadelphia\",\n",
       "       'Peaky Blinders', 'Oz', 'Downton Abbey', 'House', 'Dragon Ball Z',\n",
       "       'The Shield', 'Mad Men', 'House of Cards', 'Peep Show',\n",
       "       'South Park', 'Star Trek: The Next Generation', 'Line of Duty',\n",
       "       'Dexter', 'This Is Us', 'Parks and Recreation', 'The X-Files',\n",
       "       'The Simpsons', 'Mystery Science Theater 3000', 'Archer',\n",
       "       'Top Gear', 'Adventure Time', 'Justified', 'Poirot',\n",
       "       'Impractical Jokers', 'QI', 'The Venture Bros.', 'Dragon Ball',\n",
       "       'Homicide: Life on the Street', 'El Chavo del Ocho',\n",
       "       'Through the Wormhole', 'Letterkenny', 'Sons of Anarchy',\n",
       "       'Shameless', 'Whose Line Is It Anyway?', 'Silicon Valley',\n",
       "       'Endeavour', 'Doctor Who', \"Chef's Table\", \"Schitt's Creek\",\n",
       "       'Trailer Park Boys', 'The Expanse', 'Community', 'Futurama',\n",
       "       'Regular Show', 'Queer Eye', 'Alfred Hitchcock Presents',\n",
       "       'Avrupa Yakasi', 'Wentworth', 'The Great British Baking Show',\n",
       "       \"Foyle's War\", 'The Angry Video Game Nerd'], dtype=object)"
      ]
     },
     "execution_count": 51,
     "metadata": {},
     "output_type": "execute_result"
    }
   ],
   "source": [
    "#get the unique series titles that have more than 5 seasons\n",
    "t = imdb[imdb['Season'] > 5]['Title'].unique()\n",
    "t"
   ]
  },
  {
   "cell_type": "code",
   "execution_count": 52,
   "metadata": {},
   "outputs": [
    {
     "data": {
      "text/html": [
       "<div>\n",
       "<style scoped>\n",
       "    .dataframe tbody tr th:only-of-type {\n",
       "        vertical-align: middle;\n",
       "    }\n",
       "\n",
       "    .dataframe tbody tr th {\n",
       "        vertical-align: top;\n",
       "    }\n",
       "\n",
       "    .dataframe thead th {\n",
       "        text-align: right;\n",
       "    }\n",
       "</style>\n",
       "<table border=\"1\" class=\"dataframe\">\n",
       "  <thead>\n",
       "    <tr style=\"text-align: right;\">\n",
       "      <th></th>\n",
       "      <th>Season</th>\n",
       "      <th>Episode</th>\n",
       "      <th>Rating</th>\n",
       "      <th>Code</th>\n",
       "      <th>Title</th>\n",
       "    </tr>\n",
       "  </thead>\n",
       "  <tbody>\n",
       "    <tr>\n",
       "      <th>406</th>\n",
       "      <td>1</td>\n",
       "      <td>1</td>\n",
       "      <td>8.5</td>\n",
       "      <td>tt0141842</td>\n",
       "      <td>The Sopranos</td>\n",
       "    </tr>\n",
       "    <tr>\n",
       "      <th>407</th>\n",
       "      <td>1</td>\n",
       "      <td>2</td>\n",
       "      <td>8.3</td>\n",
       "      <td>tt0141842</td>\n",
       "      <td>The Sopranos</td>\n",
       "    </tr>\n",
       "    <tr>\n",
       "      <th>408</th>\n",
       "      <td>1</td>\n",
       "      <td>3</td>\n",
       "      <td>8.6</td>\n",
       "      <td>tt0141842</td>\n",
       "      <td>The Sopranos</td>\n",
       "    </tr>\n",
       "    <tr>\n",
       "      <th>409</th>\n",
       "      <td>1</td>\n",
       "      <td>4</td>\n",
       "      <td>8.6</td>\n",
       "      <td>tt0141842</td>\n",
       "      <td>The Sopranos</td>\n",
       "    </tr>\n",
       "    <tr>\n",
       "      <th>410</th>\n",
       "      <td>1</td>\n",
       "      <td>5</td>\n",
       "      <td>8.9</td>\n",
       "      <td>tt0141842</td>\n",
       "      <td>The Sopranos</td>\n",
       "    </tr>\n",
       "  </tbody>\n",
       "</table>\n",
       "</div>"
      ],
      "text/plain": [
       "     Season  Episode  Rating       Code         Title\n",
       "406       1        1     8.5  tt0141842  The Sopranos\n",
       "407       1        2     8.3  tt0141842  The Sopranos\n",
       "408       1        3     8.6  tt0141842  The Sopranos\n",
       "409       1        4     8.6  tt0141842  The Sopranos\n",
       "410       1        5     8.9  tt0141842  The Sopranos"
      ]
     },
     "execution_count": 52,
     "metadata": {},
     "output_type": "execute_result"
    }
   ],
   "source": [
    "#get shows from list above containing more than 5 seasons\n",
    "mult_seasons = imdb[imdb['Title'].isin(t)]\n",
    "mult_seasons.head()"
   ]
  },
  {
   "cell_type": "code",
   "execution_count": 53,
   "metadata": {},
   "outputs": [
    {
     "data": {
      "text/html": [
       "<div>\n",
       "<style scoped>\n",
       "    .dataframe tbody tr th:only-of-type {\n",
       "        vertical-align: middle;\n",
       "    }\n",
       "\n",
       "    .dataframe tbody tr th {\n",
       "        vertical-align: top;\n",
       "    }\n",
       "\n",
       "    .dataframe thead th {\n",
       "        text-align: right;\n",
       "    }\n",
       "</style>\n",
       "<table border=\"1\" class=\"dataframe\">\n",
       "  <thead>\n",
       "    <tr style=\"text-align: right;\">\n",
       "      <th></th>\n",
       "      <th></th>\n",
       "      <th>Episode</th>\n",
       "      <th>Rating</th>\n",
       "    </tr>\n",
       "    <tr>\n",
       "      <th>Title</th>\n",
       "      <th>Season</th>\n",
       "      <th></th>\n",
       "      <th></th>\n",
       "    </tr>\n",
       "  </thead>\n",
       "  <tbody>\n",
       "    <tr>\n",
       "      <th rowspan=\"5\" valign=\"top\">Adventure Time</th>\n",
       "      <th>1</th>\n",
       "      <td>14.0</td>\n",
       "      <td>7.555556</td>\n",
       "    </tr>\n",
       "    <tr>\n",
       "      <th>2</th>\n",
       "      <td>13.5</td>\n",
       "      <td>7.861538</td>\n",
       "    </tr>\n",
       "    <tr>\n",
       "      <th>3</th>\n",
       "      <td>13.0</td>\n",
       "      <td>7.972000</td>\n",
       "    </tr>\n",
       "    <tr>\n",
       "      <th>4</th>\n",
       "      <td>13.5</td>\n",
       "      <td>7.903846</td>\n",
       "    </tr>\n",
       "    <tr>\n",
       "      <th>5</th>\n",
       "      <td>26.5</td>\n",
       "      <td>8.017308</td>\n",
       "    </tr>\n",
       "    <tr>\n",
       "      <th>...</th>\n",
       "      <th>...</th>\n",
       "      <td>...</td>\n",
       "      <td>...</td>\n",
       "    </tr>\n",
       "    <tr>\n",
       "      <th rowspan=\"5\" valign=\"top\">Whose Line Is It Anyway?</th>\n",
       "      <th>4</th>\n",
       "      <td>16.0</td>\n",
       "      <td>7.777419</td>\n",
       "    </tr>\n",
       "    <tr>\n",
       "      <th>5</th>\n",
       "      <td>17.5</td>\n",
       "      <td>7.832353</td>\n",
       "    </tr>\n",
       "    <tr>\n",
       "      <th>6</th>\n",
       "      <td>5.5</td>\n",
       "      <td>7.470000</td>\n",
       "    </tr>\n",
       "    <tr>\n",
       "      <th>7</th>\n",
       "      <td>13.0</td>\n",
       "      <td>7.712000</td>\n",
       "    </tr>\n",
       "    <tr>\n",
       "      <th>8</th>\n",
       "      <td>11.0</td>\n",
       "      <td>7.742857</td>\n",
       "    </tr>\n",
       "  </tbody>\n",
       "</table>\n",
       "<p>641 rows × 2 columns</p>\n",
       "</div>"
      ],
      "text/plain": [
       "                                 Episode    Rating\n",
       "Title                    Season                   \n",
       "Adventure Time           1          14.0  7.555556\n",
       "                         2          13.5  7.861538\n",
       "                         3          13.0  7.972000\n",
       "                         4          13.5  7.903846\n",
       "                         5          26.5  8.017308\n",
       "...                                  ...       ...\n",
       "Whose Line Is It Anyway? 4          16.0  7.777419\n",
       "                         5          17.5  7.832353\n",
       "                         6           5.5  7.470000\n",
       "                         7          13.0  7.712000\n",
       "                         8          11.0  7.742857\n",
       "\n",
       "[641 rows x 2 columns]"
      ]
     },
     "execution_count": 53,
     "metadata": {},
     "output_type": "execute_result"
    }
   ],
   "source": [
    "#get average episode rating for each season\n",
    "ms2 = mult_seasons.groupby(['Title', 'Season']).mean()\n",
    "ms2"
   ]
  },
  {
   "cell_type": "code",
   "execution_count": 54,
   "metadata": {
    "collapsed": true
   },
   "outputs": [],
   "source": [
    "#re-index\n",
    "ms2.reset_index(inplace=True)"
   ]
  },
  {
   "cell_type": "code",
   "execution_count": 55,
   "metadata": {},
   "outputs": [
    {
     "data": {
      "text/html": [
       "<div>\n",
       "<style scoped>\n",
       "    .dataframe tbody tr th:only-of-type {\n",
       "        vertical-align: middle;\n",
       "    }\n",
       "\n",
       "    .dataframe tbody tr th {\n",
       "        vertical-align: top;\n",
       "    }\n",
       "\n",
       "    .dataframe thead th {\n",
       "        text-align: right;\n",
       "    }\n",
       "</style>\n",
       "<table border=\"1\" class=\"dataframe\">\n",
       "  <thead>\n",
       "    <tr style=\"text-align: right;\">\n",
       "      <th></th>\n",
       "      <th>Title</th>\n",
       "      <th>Season</th>\n",
       "      <th>Rating</th>\n",
       "    </tr>\n",
       "  </thead>\n",
       "  <tbody>\n",
       "    <tr>\n",
       "      <th>0</th>\n",
       "      <td>Adventure Time</td>\n",
       "      <td>1</td>\n",
       "      <td>7.555556</td>\n",
       "    </tr>\n",
       "    <tr>\n",
       "      <th>1</th>\n",
       "      <td>Adventure Time</td>\n",
       "      <td>2</td>\n",
       "      <td>7.861538</td>\n",
       "    </tr>\n",
       "    <tr>\n",
       "      <th>2</th>\n",
       "      <td>Adventure Time</td>\n",
       "      <td>3</td>\n",
       "      <td>7.972000</td>\n",
       "    </tr>\n",
       "    <tr>\n",
       "      <th>3</th>\n",
       "      <td>Adventure Time</td>\n",
       "      <td>4</td>\n",
       "      <td>7.903846</td>\n",
       "    </tr>\n",
       "    <tr>\n",
       "      <th>4</th>\n",
       "      <td>Adventure Time</td>\n",
       "      <td>5</td>\n",
       "      <td>8.017308</td>\n",
       "    </tr>\n",
       "  </tbody>\n",
       "</table>\n",
       "</div>"
      ],
      "text/plain": [
       "            Title  Season    Rating\n",
       "0  Adventure Time       1  7.555556\n",
       "1  Adventure Time       2  7.861538\n",
       "2  Adventure Time       3  7.972000\n",
       "3  Adventure Time       4  7.903846\n",
       "4  Adventure Time       5  8.017308"
      ]
     },
     "execution_count": 55,
     "metadata": {},
     "output_type": "execute_result"
    }
   ],
   "source": [
    "#drop 'episode' column\n",
    "ms2 = ms[['Title', 'Season', 'Rating']]\n",
    "ms2.head()"
   ]
  },
  {
   "cell_type": "code",
   "execution_count": 56,
   "metadata": {},
   "outputs": [
    {
     "data": {
      "text/html": [
       "<div>\n",
       "<style scoped>\n",
       "    .dataframe tbody tr th:only-of-type {\n",
       "        vertical-align: middle;\n",
       "    }\n",
       "\n",
       "    .dataframe tbody tr th {\n",
       "        vertical-align: top;\n",
       "    }\n",
       "\n",
       "    .dataframe thead th {\n",
       "        text-align: right;\n",
       "    }\n",
       "</style>\n",
       "<table border=\"1\" class=\"dataframe\">\n",
       "  <thead>\n",
       "    <tr style=\"text-align: right;\">\n",
       "      <th></th>\n",
       "      <th>Title</th>\n",
       "      <th>Season</th>\n",
       "      <th>Rating</th>\n",
       "    </tr>\n",
       "  </thead>\n",
       "  <tbody>\n",
       "    <tr>\n",
       "      <th>0</th>\n",
       "      <td>Adventure Time</td>\n",
       "      <td>1</td>\n",
       "      <td>7.555556</td>\n",
       "    </tr>\n",
       "    <tr>\n",
       "      <th>1</th>\n",
       "      <td>Adventure Time</td>\n",
       "      <td>2</td>\n",
       "      <td>7.861538</td>\n",
       "    </tr>\n",
       "    <tr>\n",
       "      <th>2</th>\n",
       "      <td>Adventure Time</td>\n",
       "      <td>3</td>\n",
       "      <td>7.972000</td>\n",
       "    </tr>\n",
       "    <tr>\n",
       "      <th>3</th>\n",
       "      <td>Adventure Time</td>\n",
       "      <td>4</td>\n",
       "      <td>7.903846</td>\n",
       "    </tr>\n",
       "    <tr>\n",
       "      <th>4</th>\n",
       "      <td>Adventure Time</td>\n",
       "      <td>5</td>\n",
       "      <td>8.017308</td>\n",
       "    </tr>\n",
       "    <tr>\n",
       "      <th>...</th>\n",
       "      <td>...</td>\n",
       "      <td>...</td>\n",
       "      <td>...</td>\n",
       "    </tr>\n",
       "    <tr>\n",
       "      <th>964</th>\n",
       "      <td>Yes, Prime Minister</td>\n",
       "      <td>2</td>\n",
       "      <td>8.275000</td>\n",
       "    </tr>\n",
       "    <tr>\n",
       "      <th>965</th>\n",
       "      <td>Young Justice</td>\n",
       "      <td>1</td>\n",
       "      <td>8.911538</td>\n",
       "    </tr>\n",
       "    <tr>\n",
       "      <th>966</th>\n",
       "      <td>Young Justice</td>\n",
       "      <td>2</td>\n",
       "      <td>9.120000</td>\n",
       "    </tr>\n",
       "    <tr>\n",
       "      <th>967</th>\n",
       "      <td>Young Justice</td>\n",
       "      <td>3</td>\n",
       "      <td>8.903846</td>\n",
       "    </tr>\n",
       "    <tr>\n",
       "      <th>968</th>\n",
       "      <td>Young Justice</td>\n",
       "      <td>4</td>\n",
       "      <td>8.776923</td>\n",
       "    </tr>\n",
       "  </tbody>\n",
       "</table>\n",
       "<p>969 rows × 3 columns</p>\n",
       "</div>"
      ],
      "text/plain": [
       "                   Title  Season    Rating\n",
       "0         Adventure Time       1  7.555556\n",
       "1         Adventure Time       2  7.861538\n",
       "2         Adventure Time       3  7.972000\n",
       "3         Adventure Time       4  7.903846\n",
       "4         Adventure Time       5  8.017308\n",
       "..                   ...     ...       ...\n",
       "964  Yes, Prime Minister       2  8.275000\n",
       "965        Young Justice       1  8.911538\n",
       "966        Young Justice       2  9.120000\n",
       "967        Young Justice       3  8.903846\n",
       "968        Young Justice       4  8.776923\n",
       "\n",
       "[969 rows x 3 columns]"
      ]
     },
     "execution_count": 56,
     "metadata": {},
     "output_type": "execute_result"
    }
   ],
   "source": [
    "#look at df\n",
    "ms2"
   ]
  },
  {
   "cell_type": "code",
   "execution_count": 57,
   "metadata": {},
   "outputs": [
    {
     "name": "stdout",
     "output_type": "stream",
     "text": [
      "BoJack Horseman\n",
      "Schitt's Creek\n"
     ]
    }
   ],
   "source": [
    "#loop through each title with multiple seasons and return titles whos avg. episode rating goes up each season\n",
    "for i in t:\n",
    "    if (ms2[ms2['Title'] == i]['Rating'].is_monotonic_increasing) == True:\n",
    "        print(i)"
   ]
  },
  {
   "cell_type": "markdown",
   "metadata": {},
   "source": [
    "Looks like there are only 2 shows in this entire data set with 6 or more seasons where the avg episode rating increases each season: \n",
    "\n",
    "BoJack Horseman and Schitt's Creek"
   ]
  },
  {
   "cell_type": "code",
   "execution_count": 58,
   "metadata": {
    "collapsed": true
   },
   "outputs": [],
   "source": [
    "#loop through each title with multiple seasons and return titles whos avg. episode rating goes down each season\n",
    "for i in t:\n",
    "    if (ms2[ms2['Title'] == i]['Rating'].is_monotonic_decreasing) == True:\n",
    "        print(i)"
   ]
  },
  {
   "cell_type": "markdown",
   "metadata": {},
   "source": [
    "No shows with 6 or more seasons where the avg. episode rating decreases each season (I didn't expect there to be any, but had to be sure)."
   ]
  },
  {
   "cell_type": "markdown",
   "metadata": {},
   "source": [
    "### 8.) Whats the global distribution of episode ratings?"
   ]
  },
  {
   "cell_type": "code",
   "execution_count": 59,
   "metadata": {},
   "outputs": [
    {
     "data": {
      "text/html": [
       "<div>\n",
       "<style scoped>\n",
       "    .dataframe tbody tr th:only-of-type {\n",
       "        vertical-align: middle;\n",
       "    }\n",
       "\n",
       "    .dataframe tbody tr th {\n",
       "        vertical-align: top;\n",
       "    }\n",
       "\n",
       "    .dataframe thead th {\n",
       "        text-align: right;\n",
       "    }\n",
       "</style>\n",
       "<table border=\"1\" class=\"dataframe\">\n",
       "  <thead>\n",
       "    <tr style=\"text-align: right;\">\n",
       "      <th></th>\n",
       "      <th>Season</th>\n",
       "      <th>Episode</th>\n",
       "      <th>Rating</th>\n",
       "    </tr>\n",
       "  </thead>\n",
       "  <tbody>\n",
       "    <tr>\n",
       "      <th>count</th>\n",
       "      <td>15339.000000</td>\n",
       "      <td>15339.000000</td>\n",
       "      <td>15339.000000</td>\n",
       "    </tr>\n",
       "    <tr>\n",
       "      <th>mean</th>\n",
       "      <td>4.774562</td>\n",
       "      <td>15.483604</td>\n",
       "      <td>8.059280</td>\n",
       "    </tr>\n",
       "    <tr>\n",
       "      <th>std</th>\n",
       "      <td>5.103163</td>\n",
       "      <td>27.888825</td>\n",
       "      <td>0.752739</td>\n",
       "    </tr>\n",
       "    <tr>\n",
       "      <th>min</th>\n",
       "      <td>1.000000</td>\n",
       "      <td>1.000000</td>\n",
       "      <td>2.200000</td>\n",
       "    </tr>\n",
       "    <tr>\n",
       "      <th>25%</th>\n",
       "      <td>1.000000</td>\n",
       "      <td>4.000000</td>\n",
       "      <td>7.700000</td>\n",
       "    </tr>\n",
       "    <tr>\n",
       "      <th>50%</th>\n",
       "      <td>3.000000</td>\n",
       "      <td>8.000000</td>\n",
       "      <td>8.100000</td>\n",
       "    </tr>\n",
       "    <tr>\n",
       "      <th>75%</th>\n",
       "      <td>6.000000</td>\n",
       "      <td>15.000000</td>\n",
       "      <td>8.500000</td>\n",
       "    </tr>\n",
       "    <tr>\n",
       "      <th>max</th>\n",
       "      <td>34.000000</td>\n",
       "      <td>291.000000</td>\n",
       "      <td>10.000000</td>\n",
       "    </tr>\n",
       "  </tbody>\n",
       "</table>\n",
       "</div>"
      ],
      "text/plain": [
       "             Season       Episode        Rating\n",
       "count  15339.000000  15339.000000  15339.000000\n",
       "mean       4.774562     15.483604      8.059280\n",
       "std        5.103163     27.888825      0.752739\n",
       "min        1.000000      1.000000      2.200000\n",
       "25%        1.000000      4.000000      7.700000\n",
       "50%        3.000000      8.000000      8.100000\n",
       "75%        6.000000     15.000000      8.500000\n",
       "max       34.000000    291.000000     10.000000"
      ]
     },
     "execution_count": 59,
     "metadata": {},
     "output_type": "execute_result"
    }
   ],
   "source": [
    "#description of numerical fields\n",
    "imdb.describe()"
   ]
  },
  {
   "cell_type": "code",
   "execution_count": 60,
   "metadata": {},
   "outputs": [
    {
     "data": {
      "image/png": "[encoded data removed]",
      "text/plain": [
       "<matplotlib.figure.Figure at 0x1d9a0d4d8d0>"
      ]
     },
     "metadata": {},
     "output_type": "display_data"
    }
   ],
   "source": [
    "#histogram of global ratings dist.\n",
    "plt.hist(imdb['Rating'], bins=10)\n",
    "plt.title('Global Distribution of Ratings')\n",
    "plt.xlabel('Rating')\n",
    "plt.ylabel('Number of Instances')\n",
    "plt.show()"
   ]
  },
  {
   "cell_type": "markdown",
   "metadata": {},
   "source": [
    "Going off an episode rating scale of (1-10), we can look at the histogram and see that our global episode ratings distribution is skewed right with a majority of ratings at approximately 8. Looking at the .describe() output, we can see that the minimum episode rating is 2.2."
   ]
  },
  {
   "cell_type": "markdown",
   "metadata": {},
   "source": [
    "### 8b.) What's the global average and median"
   ]
  },
  {
   "cell_type": "markdown",
   "metadata": {},
   "source": [
    "Looking at the .describe() output, we can see that the global episode mean rating is 8.06, and the median is 8.1."
   ]
  },
  {
   "cell_type": "code",
   "execution_count": 61,
   "metadata": {},
   "outputs": [
    {
     "data": {
      "text/plain": [
       "8.06"
      ]
     },
     "execution_count": 61,
     "metadata": {},
     "output_type": "execute_result"
    }
   ],
   "source": [
    "#mean\n",
    "round(imdb['Rating'].mean(), 2)"
   ]
  },
  {
   "cell_type": "code",
   "execution_count": 62,
   "metadata": {},
   "outputs": [
    {
     "data": {
      "text/plain": [
       "8.1"
      ]
     },
     "execution_count": 62,
     "metadata": {},
     "output_type": "execute_result"
    }
   ],
   "source": [
    "#median\n",
    "imdb['Rating'].median()"
   ]
  },
  {
   "cell_type": "markdown",
   "metadata": {},
   "source": [
    "### 8c.) Based on the global average, which series has the greatest number of 'good' episodes"
   ]
  },
  {
   "cell_type": "code",
   "execution_count": 63,
   "metadata": {},
   "outputs": [
    {
     "data": {
      "text/plain": [
       "Critical Role            204\n",
       "Regular Show             188\n",
       "Impractical Jokers       174\n",
       "Friends                  171\n",
       "South Park               147\n",
       "                        ... \n",
       "Brass Eye                  3\n",
       "North &amp; South          3\n",
       "The Beatles: Get Back      3\n",
       "QI                         1\n",
       "Long Way Round             1\n",
       "Name: Title, Length: 242, dtype: int64"
      ]
     },
     "execution_count": 63,
     "metadata": {},
     "output_type": "execute_result"
    }
   ],
   "source": [
    "#filter df so that it only contains 'good' episodes (episodes with rating higher than global average)\n",
    "gta = imdb[imdb['Rating'] > 8.06]\n",
    "gta['Title'].value_counts()"
   ]
  },
  {
   "cell_type": "code",
   "execution_count": 64,
   "metadata": {},
   "outputs": [
    {
     "data": {
      "text/plain": [
       "(332, 5)"
      ]
     },
     "execution_count": 64,
     "metadata": {},
     "output_type": "execute_result"
    }
   ],
   "source": [
    "#find total number of 'Critical Role' episodes in data set\n",
    "imdb[imdb['Title'] == 'Critical Role'].shape"
   ]
  },
  {
   "cell_type": "code",
   "execution_count": 65,
   "metadata": {},
   "outputs": [
    {
     "data": {
      "text/plain": [
       "0.61"
      ]
     },
     "execution_count": 65,
     "metadata": {},
     "output_type": "execute_result"
    }
   ],
   "source": [
    "#find percentage of Critical Role episodes that are 'good'\n",
    "round(204/332,2)"
   ]
  },
  {
   "cell_type": "markdown",
   "metadata": {},
   "source": [
    "While 'Critical Role' has the most \"good\" episodes of any series in this data, that is likely because of the high overall number of episodes in its entirety. Only 61% of the total episodes in 'Critical Role' were above the global episode average rating."
   ]
  },
  {
   "cell_type": "markdown",
   "metadata": {},
   "source": [
    "### 9.) Which series have the highest and lowest percentage of 'good' episodes?"
   ]
  },
  {
   "cell_type": "code",
   "execution_count": 66,
   "metadata": {},
   "outputs": [
    {
     "data": {
      "text/html": [
       "<div>\n",
       "<style scoped>\n",
       "    .dataframe tbody tr th:only-of-type {\n",
       "        vertical-align: middle;\n",
       "    }\n",
       "\n",
       "    .dataframe tbody tr th {\n",
       "        vertical-align: top;\n",
       "    }\n",
       "\n",
       "    .dataframe thead th {\n",
       "        text-align: right;\n",
       "    }\n",
       "</style>\n",
       "<table border=\"1\" class=\"dataframe\">\n",
       "  <thead>\n",
       "    <tr style=\"text-align: right;\">\n",
       "      <th></th>\n",
       "      <th>Season</th>\n",
       "      <th>Episode</th>\n",
       "      <th>Rating</th>\n",
       "      <th>Code</th>\n",
       "      <th>Title</th>\n",
       "    </tr>\n",
       "  </thead>\n",
       "  <tbody>\n",
       "    <tr>\n",
       "      <th>0</th>\n",
       "      <td>1</td>\n",
       "      <td>1</td>\n",
       "      <td>9.4</td>\n",
       "      <td>tt5491994</td>\n",
       "      <td>Planet Earth II</td>\n",
       "    </tr>\n",
       "    <tr>\n",
       "      <th>1</th>\n",
       "      <td>1</td>\n",
       "      <td>2</td>\n",
       "      <td>9.1</td>\n",
       "      <td>tt5491994</td>\n",
       "      <td>Planet Earth II</td>\n",
       "    </tr>\n",
       "    <tr>\n",
       "      <th>2</th>\n",
       "      <td>1</td>\n",
       "      <td>3</td>\n",
       "      <td>8.9</td>\n",
       "      <td>tt5491994</td>\n",
       "      <td>Planet Earth II</td>\n",
       "    </tr>\n",
       "    <tr>\n",
       "      <th>3</th>\n",
       "      <td>1</td>\n",
       "      <td>4</td>\n",
       "      <td>8.8</td>\n",
       "      <td>tt5491994</td>\n",
       "      <td>Planet Earth II</td>\n",
       "    </tr>\n",
       "    <tr>\n",
       "      <th>4</th>\n",
       "      <td>1</td>\n",
       "      <td>5</td>\n",
       "      <td>8.7</td>\n",
       "      <td>tt5491994</td>\n",
       "      <td>Planet Earth II</td>\n",
       "    </tr>\n",
       "    <tr>\n",
       "      <th>...</th>\n",
       "      <td>...</td>\n",
       "      <td>...</td>\n",
       "      <td>...</td>\n",
       "      <td>...</td>\n",
       "      <td>...</td>\n",
       "    </tr>\n",
       "    <tr>\n",
       "      <th>15297</th>\n",
       "      <td>12</td>\n",
       "      <td>9</td>\n",
       "      <td>8.5</td>\n",
       "      <td>tt1230180</td>\n",
       "      <td>The Angry Video Game Nerd</td>\n",
       "    </tr>\n",
       "    <tr>\n",
       "      <th>15301</th>\n",
       "      <td>13</td>\n",
       "      <td>4</td>\n",
       "      <td>8.2</td>\n",
       "      <td>tt1230180</td>\n",
       "      <td>The Angry Video Game Nerd</td>\n",
       "    </tr>\n",
       "    <tr>\n",
       "      <th>15308</th>\n",
       "      <td>13</td>\n",
       "      <td>11</td>\n",
       "      <td>8.2</td>\n",
       "      <td>tt1230180</td>\n",
       "      <td>The Angry Video Game Nerd</td>\n",
       "    </tr>\n",
       "    <tr>\n",
       "      <th>15335</th>\n",
       "      <td>16</td>\n",
       "      <td>2</td>\n",
       "      <td>8.3</td>\n",
       "      <td>tt1230180</td>\n",
       "      <td>The Angry Video Game Nerd</td>\n",
       "    </tr>\n",
       "    <tr>\n",
       "      <th>15338</th>\n",
       "      <td>16</td>\n",
       "      <td>5</td>\n",
       "      <td>8.1</td>\n",
       "      <td>tt1230180</td>\n",
       "      <td>The Angry Video Game Nerd</td>\n",
       "    </tr>\n",
       "  </tbody>\n",
       "</table>\n",
       "<p>8283 rows × 5 columns</p>\n",
       "</div>"
      ],
      "text/plain": [
       "       Season  Episode  Rating       Code                      Title\n",
       "0           1        1     9.4  tt5491994            Planet Earth II\n",
       "1           1        2     9.1  tt5491994            Planet Earth II\n",
       "2           1        3     8.9  tt5491994            Planet Earth II\n",
       "3           1        4     8.8  tt5491994            Planet Earth II\n",
       "4           1        5     8.7  tt5491994            Planet Earth II\n",
       "...       ...      ...     ...        ...                        ...\n",
       "15297      12        9     8.5  tt1230180  The Angry Video Game Nerd\n",
       "15301      13        4     8.2  tt1230180  The Angry Video Game Nerd\n",
       "15308      13       11     8.2  tt1230180  The Angry Video Game Nerd\n",
       "15335      16        2     8.3  tt1230180  The Angry Video Game Nerd\n",
       "15338      16        5     8.1  tt1230180  The Angry Video Game Nerd\n",
       "\n",
       "[8283 rows x 5 columns]"
      ]
     },
     "execution_count": 66,
     "metadata": {},
     "output_type": "execute_result"
    }
   ],
   "source": [
    "#look at df with only 'good' episodes\n",
    "gta"
   ]
  },
  {
   "cell_type": "code",
   "execution_count": 67,
   "metadata": {},
   "outputs": [
    {
     "data": {
      "text/plain": [
       "The Simpsons                           733\n",
       "Dragon Ball Z                          567\n",
       "Critical Role                          332\n",
       "South Park                             320\n",
       "QI                                     307\n",
       "                                      ... \n",
       "North &amp; South                        4\n",
       "Rurouni Kenshin: Trust and Betrayal      4\n",
       "Lonesome Dove                            4\n",
       "The Defiant Ones                         4\n",
       "The Beatles: Get Back                    3\n",
       "Name: Title, Length: 243, dtype: int64"
      ]
     },
     "execution_count": 67,
     "metadata": {},
     "output_type": "execute_result"
    }
   ],
   "source": [
    "#total number of episodes for each series\n",
    "imdb['Title'].value_counts()"
   ]
  },
  {
   "cell_type": "markdown",
   "metadata": {},
   "source": [
    "The first thing that stands out is that the length of this list is 243, but the length of gta is 242 (from question 8c), meaning that there\n",
    "is one show in this data that didn't have ANY 'good' episodes."
   ]
  },
  {
   "cell_type": "code",
   "execution_count": 68,
   "metadata": {},
   "outputs": [
    {
     "data": {
      "text/plain": [
       "202"
      ]
     },
     "execution_count": 68,
     "metadata": {},
     "output_type": "execute_result"
    }
   ],
   "source": [
    "#manually calculate proportion of 'good' episodes for a specific show\n",
    "#total episodes\n",
    "len(imdb[imdb['Title'] == 'The Office'])"
   ]
  },
  {
   "cell_type": "code",
   "execution_count": 69,
   "metadata": {},
   "outputs": [
    {
     "data": {
      "text/plain": [
       "105"
      ]
     },
     "execution_count": 69,
     "metadata": {},
     "output_type": "execute_result"
    }
   ],
   "source": [
    "#'good' episodes\n",
    "len(imdb[(imdb['Title'] == 'The Office') & (imdb['Rating'] > 8.06)])"
   ]
  },
  {
   "cell_type": "code",
   "execution_count": 70,
   "metadata": {},
   "outputs": [
    {
     "data": {
      "text/plain": [
       "0.52"
      ]
     },
     "execution_count": 70,
     "metadata": {},
     "output_type": "execute_result"
    }
   ],
   "source": [
    "#percentage of 'good' episodes in The Office\n",
    "round(105/202, 2)"
   ]
  },
  {
   "cell_type": "code",
   "execution_count": 71,
   "metadata": {},
   "outputs": [
    {
     "data": {
      "text/plain": [
       "array(['Planet Earth II', 'Chernobyl', 'Blue Planet II',\n",
       "       'Band of Brothers', 'Cosmos: A Spacetime Odyssey', 'Planet Earth',\n",
       "       'Cosmos', 'Our Planet', 'The World at War', 'The Last Dance',\n",
       "       'Avatar: The Last Airbender', 'Life', 'Breaking Bad', 'The Wire',\n",
       "       'The Vietnam War', 'Fullmetal Alchemist: Brotherhood',\n",
       "       'Scam 1992: The Harshad Mehta Story', 'Arcane', 'The Blue Planet',\n",
       "       'The Sopranos', 'Rick and Morty', 'Sherlock', 'Game of Thrones',\n",
       "       'Firefly', 'Human Planet', 'Frozen Planet',\n",
       "       'Batman: The Animated Series', 'Death Note', 'The Civil War',\n",
       "       'The Beatles: Get Back', 'The Twilight Zone', 'True Detective',\n",
       "       'Persona', 'Dekalog', 'Attack on Titan', \"Clarkson's Farm\",\n",
       "       'Hunter x Hunter', 'When They See Us', 'Cowboy Bebop', 'Fargo',\n",
       "       'Gravity Falls', 'TVF Pitchers', 'Better Call Saul',\n",
       "       'Nathan for You', 'Apocalypse: The Second World War',\n",
       "       'Only Fools and Horses', 'Africa', 'The Office', 'Das Boot',\n",
       "       'Pride and Prejudice', 'Seinfeld', \"Monty Python's Flying Circus\",\n",
       "       'Fawlty Towers', 'Freaks and Geeks', 'Blackadder Goes Forth',\n",
       "       'Twin Peaks', 'Narcos', 'The West Wing', 'Black Mirror',\n",
       "       'Leyla and Mecnun', 'Curb Your Enthusiasm', 'Friends',\n",
       "       'Last Week Tonight with John Oliver', 'Succession', 'Taskmaster',\n",
       "       \"Chappelle's Show\", 'I, Claudius', 'BoJack Horseman',\n",
       "       \"It's Always Sunny in Philadelphia\", 'As If', 'Rome',\n",
       "       'Over the Garden Wall', 'Ted Lasso', 'Kota Factory',\n",
       "       'The Mandalorian', 'Peaky Blinders', 'Dark', 'Steins;Gate',\n",
       "       'Six Feet Under', 'Oz', 'One Punch Man', 'The Boys', 'Fleabag',\n",
       "       'Arrested Development', 'Dragon Ball Z', 'Stranger Things',\n",
       "       'Battlestar Galactica', 'Sarabhai V/S Sarabhai', 'Invincible',\n",
       "       'Gullak', 'Downton Abbey', 'House', 'Vinland Saga', 'The Shield',\n",
       "       'Panchayat', 'Severance', 'The Adventures of Sherlock Holmes',\n",
       "       'The Marvelous Mrs. Maisel', 'The Crown', 'Mad Men',\n",
       "       'House of Cards', 'Berserk', 'Peep Show', 'Friday Night Lights',\n",
       "       '1883', 'The Grand Tour', 'South Park',\n",
       "       'Star Trek: The Next Generation', 'Justice League Unlimited',\n",
       "       'The Thick of It', 'Aspirants', 'Deadwood', 'Mahabharat',\n",
       "       'Line of Duty', 'The Jinx: The Life and Deaths of Robert Durst',\n",
       "       'Father Ted', 'Blackadder II', 'Primal', 'Code Geass', 'Dexter',\n",
       "       'Atlanta', 'Behzat Ç.: Bir Ankara Polisiyesi', 'Heartstopper',\n",
       "       'This Is Us', 'Daredevil', 'Parks and Recreation', 'The Bridge',\n",
       "       \"It's a Sin\", 'The Rehearsal', 'Demon Slayer: Kimetsu no Yaiba',\n",
       "       'Lonesome Dove', 'The X-Files', 'Blackadder the Third', 'Ramayan',\n",
       "       'Monster', 'Young Justice', 'Yeh Meri Family', 'Gomorrah',\n",
       "       'The Return of Sherlock Holmes', 'Mindhunter', 'Yellowstone',\n",
       "       'Mr. Bean', 'The Simpsons', 'Anne with an E', 'Dopesick',\n",
       "       'Mystery Science Theater 3000', 'Archer', 'Top Gear', 'Haikyu!!',\n",
       "       'Making a Murderer', 'The Haunting of Hill House', 'Yes Minister',\n",
       "       \"The Queen's Gambit\", 'The Newsroom', 'The Eric Andre Show',\n",
       "       'Critical Role', 'Adventure Time', 'Boardwalk Empire',\n",
       "       'The Bugs Bunny Show', 'Justified', 'Crash Landing on You', 'Pose',\n",
       "       'Flight of the Conchords', 'The Offer',\n",
       "       'Formula 1: Drive to Survive', 'Justice League', 'Poirot',\n",
       "       'Coupling', 'Spaced', 'Dragon Ball', 'Long Way Round',\n",
       "       'The Family Man', 'Black Sun', 'Impractical Jokers',\n",
       "       'What We Do in the Shadows', 'QI', 'The Venture Bros.',\n",
       "       'The Bureau', 'Yes, Prime Minister', 'Samurai Champloo',\n",
       "       'Homicide: Life on the Street', 'House of the Dragon',\n",
       "       \"I'm Alan Partridge\", 'The IT Crowd', 'Mr. Robot', 'Westworld',\n",
       "       'Louie', 'El Chavo del Ocho', 'Spartacus', 'Brass Eye', 'Ezel',\n",
       "       'Through the Wormhole', 'North &amp; South', 'Samurai Jack',\n",
       "       'Skam', 'Extraordinary Attorney Woo', 'Neon Genesis Evangelion',\n",
       "       'Letterkenny', 'Fullmetal Alchemist', 'Sons of Anarchy',\n",
       "       'From the Earth to the Moon', 'Shameless',\n",
       "       'Whose Line Is It Anyway?', 'Spartacus: Gods of the Arena',\n",
       "       'Mob Psycho 100', 'Jujutsu Kaisen', 'Detectorists',\n",
       "       'Rurouni Kenshin: Trust and Betrayal', 'Silicon Valley',\n",
       "       'Endeavour', 'Umbre', 'Hannibal', 'Cobra Kai', 'Generation Kill',\n",
       "       'Doctor Who', \"Chef's Table\", \"Schitt's Creek\", 'The Night Of',\n",
       "       'Trailer Park Boys', 'The Expanse', 'Mr Inbetween', 'Community',\n",
       "       'Futurama', 'Big Little Lies', 'My Brilliant Friend',\n",
       "       'Your Lie in April', 'The Knick', 'Content Cop', 'Black Books',\n",
       "       'Southland', 'John Adams', 'Regular Show', 'The Defiant Ones',\n",
       "       'Queer Eye', \"Garth Marenghi's Darkplace\", 'Derry Girls',\n",
       "       'Alfred Hitchcock Presents', 'Avrupa Yakasi', 'Wentworth',\n",
       "       'X-Men: The Animated Series', 'The Great British Baking Show',\n",
       "       \"Foyle's War\", 'The Angry Video Game Nerd'], dtype=object)"
      ]
     },
     "execution_count": 71,
     "metadata": {},
     "output_type": "execute_result"
    }
   ],
   "source": [
    "#define distinct titles\n",
    "###KEEPS order of titles as they are listed on imdb\n",
    "t = imdb['Title'].unique()\n",
    "t"
   ]
  },
  {
   "cell_type": "code",
   "execution_count": 72,
   "metadata": {},
   "outputs": [
    {
     "name": "stdout",
     "output_type": "stream",
     "text": [
      "[1.0, 1.0, 0.875, 1.0, 1.0, 1.0, 1.0, 1.0, 1.0, 1.0, 0.7741935483870968, 0.9090909090909091, 0.967741935483871, 0.95, 1.0, 0.703125, 1.0, 1.0, 0.75, 0.9418604651162791, 0.7368421052631579, 0.8, 0.9041095890410958, 1.0, 1.0, 0.7, 0.4, 0.5945945945945946, 1.0, 1.0, 0.23717948717948717, 0.75, 1.0, 0.6, 1.0, 1.0, 0.5067567567567568, 1.0, 0.6153846153846154, 0.6829268292682927, 0.7, 1.0, 0.9682539682539683, 0.875, 1.0, 0.6875, 1.0, 0.5198019801980198, 1.0, 1.0, 0.7514450867052023, 0.4, 1.0, 1.0, 1.0, 0.75, 0.9, 0.567741935483871, 0.45454545454545453, 0.9473684210526315, 0.7181818181818181, 0.7276595744680852, 0.5300751879699248, 0.8620689655172413, 0.4789915966386555, 0.30303030303030304, 1.0, 0.6493506493506493, 0.7777777777777778, 0.56, 0.8636363636363636, 0.7, 0.7727272727272727, 1.0, 0.8125, 0.9722222222222222, 1.0, 0.68, 0.746031746031746, 0.8928571428571429, 0.72, 0.9166666666666666, 0.75, 0.6428571428571429, 0.12522045855379188, 0.9117647058823529, 0.47368421052631576, 0.7341772151898734, 0.75, 1.0, 0.8076923076923077, 0.7613636363636364, 0.9166666666666666, 0.5168539325842697, 1.0, 0.5555555555555556, 0.5384615384615384, 0.8235294117647058, 0.925, 0.75, 0.7671232876712328, 0.48, 0.5185185185185185, 0.5526315789473685, 0.9, 0.6976744186046512, 0.459375, 0.24431818181818182, 0.46153846153846156, 0.6666666666666666, 1.0, 0.8333333333333334, 0.0, 0.8888888888888888, 1.0, 0.76, 0.8333333333333334, 1.0, 0.62, 0.8125, 0.775, 0.7238095238095238, 1.0, 0.8867924528301887, 1.0, 0.47580645161290325, 0.3684210526315789, 1.0, 1.0, 0.6818181818181818, 1.0, 0.41013824884792627, 1.0, 0.9871794871794872, 0.6216216216216216, 0.9693877551020408, 1.0, 0.7241379310344828, 0.36363636363636365, 0.8947368421052632, 0.8461538461538461, 1.0, 0.18417462482946795, 1.0, 0.875, 0.1658291457286432, 0.32592592592592595, 0.44583333333333336, 0.9195402298850575, 0.8, 0.9, 0.8181818181818182, 1.0, 0.8, 0.7884615384615384, 0.6144578313253012, 0.4659498207885305, 0.8245614035087719, 0.0641025641025641, 0.7564102564102564, 0.9375, 0.9615384615384616, 0.7272727272727273, 1.0, 0.2, 0.5192307692307693, 0.07142857142857142, 0.7857142857142857, 0.7857142857142857, 0.1111111111111111, 0.1, 0.9473684210526315, 1.0, 0.7280334728033473, 0.625, 0.003257328990228013, 0.7209302325581395, 0.4, 0.9375, 0.5384615384615384, 0.5327868852459017, 1.0, 1.0, 0.56, 0.9777777777777777, 0.7222222222222222, 0.5409836065573771, 0.5046728971962616, 0.8181818181818182, 0.42857142857142855, 1.0, 0.14516129032258066, 0.75, 0.7419354838709677, 0.5581395348837209, 1.0, 0.4230769230769231, 0.7352941176470589, 0.4117647058823529, 0.7717391304347826, 0.5, 0.6791044776119403, 0.18636363636363637, 0.8333333333333334, 0.6666666666666666, 0.7083333333333334, 0.5263157894736842, 1.0, 0.5283018867924528, 0.6666666666666666, 0.9047619047619048, 0.8717948717948718, 0.76, 0.8571428571428571, 0.3609467455621302, 0.5666666666666667, 0.375, 1.0, 0.6037735849056604, 0.7903225806451613, 0.6153846153846154, 0.4909090909090909, 0.2571428571428571, 0.8571428571428571, 0.9583333333333334, 0.7272727272727273, 0.8, 0.6153846153846154, 0.4444444444444444, 0.5813953488372093, 0.7142857142857143, 0.7673469387755102, 1.0, 0.6346153846153846, 0.8333333333333334, 0.6842105263157895, 0.041044776119402986, 0.22631578947368422, 0.95, 0.17105263157894737, 0.18633540372670807, 0.8928571428571429, 0.26956521739130435]\n",
      "[6, 5, 8, 10, 13, 11, 13, 8, 26, 10, 62, 11, 62, 60, 10, 64, 10, 9, 8, 86, 57, 15, 73, 14, 8, 10, 85, 37, 9, 3, 156, 24, 12, 10, 87, 8, 148, 4, 26, 41, 40, 5, 63, 32, 6, 64, 6, 202, 6, 6, 173, 45, 12, 18, 6, 48, 30, 155, 22, 133, 110, 235, 266, 29, 119, 33, 13, 77, 162, 25, 22, 10, 22, 10, 16, 36, 26, 25, 63, 56, 25, 24, 12, 84, 567, 34, 76, 79, 8, 15, 52, 176, 24, 89, 16, 9, 13, 34, 40, 92, 73, 25, 54, 76, 10, 43, 320, 176, 39, 24, 5, 36, 94, 36, 6, 25, 6, 20, 50, 96, 40, 105, 8, 106, 39, 124, 38, 5, 6, 44, 4, 217, 6, 78, 74, 98, 7, 58, 11, 19, 39, 15, 733, 27, 8, 199, 135, 240, 87, 20, 10, 22, 7, 25, 52, 332, 279, 57, 78, 78, 16, 26, 22, 10, 40, 52, 70, 28, 14, 306, 10, 19, 20, 239, 40, 307, 86, 50, 16, 26, 122, 10, 12, 25, 45, 36, 61, 214, 33, 7, 71, 62, 4, 62, 43, 16, 26, 68, 51, 92, 12, 134, 220, 6, 30, 24, 19, 4, 53, 33, 21, 39, 50, 7, 169, 30, 80, 8, 106, 62, 26, 110, 140, 14, 24, 22, 20, 13, 18, 43, 7, 245, 4, 52, 6, 19, 268, 190, 100, 76, 161, 28, 230]\n"
     ]
    }
   ],
   "source": [
    "#for each unique title, calculate proportion of 'good' episodes and store it in 'prop' variable\n",
    "#also store the total number of episodes for each series in 'total_episodes' variable\n",
    "prop = []\n",
    "total_episodes = []\n",
    "for i in t:\n",
    "    prop.append((len(imdb[(imdb['Title'] == i) & (imdb['Rating'] > 8.06)]))/(len(imdb[imdb['Title'] == i])))\n",
    "    total_episodes.append(len(imdb[imdb['Title'] == i]))\n",
    "print(prop)\n",
    "print(total_episodes)"
   ]
  },
  {
   "cell_type": "code",
   "execution_count": 73,
   "metadata": {},
   "outputs": [
    {
     "data": {
      "text/plain": [
       "243"
      ]
     },
     "execution_count": 73,
     "metadata": {},
     "output_type": "execute_result"
    }
   ],
   "source": [
    "#check to make sure loop worked properly\n",
    "len(prop)"
   ]
  },
  {
   "cell_type": "code",
   "execution_count": 74,
   "metadata": {},
   "outputs": [
    {
     "data": {
      "text/html": [
       "<div>\n",
       "<style scoped>\n",
       "    .dataframe tbody tr th:only-of-type {\n",
       "        vertical-align: middle;\n",
       "    }\n",
       "\n",
       "    .dataframe tbody tr th {\n",
       "        vertical-align: top;\n",
       "    }\n",
       "\n",
       "    .dataframe thead th {\n",
       "        text-align: right;\n",
       "    }\n",
       "</style>\n",
       "<table border=\"1\" class=\"dataframe\">\n",
       "  <thead>\n",
       "    <tr style=\"text-align: right;\">\n",
       "      <th></th>\n",
       "      <th>Title</th>\n",
       "      <th>total_episodes</th>\n",
       "      <th>prop_good</th>\n",
       "    </tr>\n",
       "  </thead>\n",
       "  <tbody>\n",
       "    <tr>\n",
       "      <th>0</th>\n",
       "      <td>Planet Earth II</td>\n",
       "      <td>6</td>\n",
       "      <td>1.00</td>\n",
       "    </tr>\n",
       "    <tr>\n",
       "      <th>1</th>\n",
       "      <td>Chernobyl</td>\n",
       "      <td>5</td>\n",
       "      <td>1.00</td>\n",
       "    </tr>\n",
       "    <tr>\n",
       "      <th>2</th>\n",
       "      <td>Blue Planet II</td>\n",
       "      <td>8</td>\n",
       "      <td>0.88</td>\n",
       "    </tr>\n",
       "    <tr>\n",
       "      <th>3</th>\n",
       "      <td>Band of Brothers</td>\n",
       "      <td>10</td>\n",
       "      <td>1.00</td>\n",
       "    </tr>\n",
       "    <tr>\n",
       "      <th>4</th>\n",
       "      <td>Cosmos: A Spacetime Odyssey</td>\n",
       "      <td>13</td>\n",
       "      <td>1.00</td>\n",
       "    </tr>\n",
       "  </tbody>\n",
       "</table>\n",
       "</div>"
      ],
      "text/plain": [
       "                         Title  total_episodes  prop_good\n",
       "0              Planet Earth II               6       1.00\n",
       "1                    Chernobyl               5       1.00\n",
       "2               Blue Planet II               8       0.88\n",
       "3             Band of Brothers              10       1.00\n",
       "4  Cosmos: A Spacetime Odyssey              13       1.00"
      ]
     },
     "execution_count": 74,
     "metadata": {},
     "output_type": "execute_result"
    }
   ],
   "source": [
    "#create dictionary to use for dataframe and round prop values to 2 decimals\n",
    "d = {'Title': t, 'total_episodes': total_episodes, 'prop_good': prop}\n",
    "prop_df = pd.DataFrame(data=d)\n",
    "prop_df['prop_good'] = round(prop_df['prop_good'],2)\n",
    "prop_df.head()"
   ]
  },
  {
   "cell_type": "code",
   "execution_count": 75,
   "metadata": {},
   "outputs": [
    {
     "data": {
      "text/html": [
       "<div>\n",
       "<style scoped>\n",
       "    .dataframe tbody tr th:only-of-type {\n",
       "        vertical-align: middle;\n",
       "    }\n",
       "\n",
       "    .dataframe tbody tr th {\n",
       "        vertical-align: top;\n",
       "    }\n",
       "\n",
       "    .dataframe thead th {\n",
       "        text-align: right;\n",
       "    }\n",
       "</style>\n",
       "<table border=\"1\" class=\"dataframe\">\n",
       "  <thead>\n",
       "    <tr style=\"text-align: right;\">\n",
       "      <th></th>\n",
       "      <th>Title</th>\n",
       "      <th>total_episodes</th>\n",
       "      <th>prop_good</th>\n",
       "    </tr>\n",
       "  </thead>\n",
       "  <tbody>\n",
       "    <tr>\n",
       "      <th>34</th>\n",
       "      <td>Attack on Titan</td>\n",
       "      <td>87</td>\n",
       "      <td>1.0</td>\n",
       "    </tr>\n",
       "    <tr>\n",
       "      <th>190</th>\n",
       "      <td>Ezel</td>\n",
       "      <td>71</td>\n",
       "      <td>1.0</td>\n",
       "    </tr>\n",
       "    <tr>\n",
       "      <th>124</th>\n",
       "      <td>Daredevil</td>\n",
       "      <td>39</td>\n",
       "      <td>1.0</td>\n",
       "    </tr>\n",
       "    <tr>\n",
       "      <th>143</th>\n",
       "      <td>Anne with an E</td>\n",
       "      <td>27</td>\n",
       "      <td>1.0</td>\n",
       "    </tr>\n",
       "    <tr>\n",
       "      <th>76</th>\n",
       "      <td>Dark</td>\n",
       "      <td>26</td>\n",
       "      <td>1.0</td>\n",
       "    </tr>\n",
       "    <tr>\n",
       "      <th>8</th>\n",
       "      <td>The World at War</td>\n",
       "      <td>26</td>\n",
       "      <td>1.0</td>\n",
       "    </tr>\n",
       "    <tr>\n",
       "      <th>117</th>\n",
       "      <td>Primal</td>\n",
       "      <td>20</td>\n",
       "      <td>1.0</td>\n",
       "    </tr>\n",
       "    <tr>\n",
       "      <th>172</th>\n",
       "      <td>Black Sun</td>\n",
       "      <td>20</td>\n",
       "      <td>1.0</td>\n",
       "    </tr>\n",
       "    <tr>\n",
       "      <th>53</th>\n",
       "      <td>Freaks and Geeks</td>\n",
       "      <td>18</td>\n",
       "      <td>1.0</td>\n",
       "    </tr>\n",
       "    <tr>\n",
       "      <th>94</th>\n",
       "      <td>Panchayat</td>\n",
       "      <td>16</td>\n",
       "      <td>1.0</td>\n",
       "    </tr>\n",
       "    <tr>\n",
       "      <th>195</th>\n",
       "      <td>Extraordinary Attorney Woo</td>\n",
       "      <td>16</td>\n",
       "      <td>1.0</td>\n",
       "    </tr>\n",
       "    <tr>\n",
       "      <th>141</th>\n",
       "      <td>Mr. Bean</td>\n",
       "      <td>15</td>\n",
       "      <td>1.0</td>\n",
       "    </tr>\n",
       "    <tr>\n",
       "      <th>89</th>\n",
       "      <td>Gullak</td>\n",
       "      <td>15</td>\n",
       "      <td>1.0</td>\n",
       "    </tr>\n",
       "    <tr>\n",
       "      <th>23</th>\n",
       "      <td>Firefly</td>\n",
       "      <td>14</td>\n",
       "      <td>1.0</td>\n",
       "    </tr>\n",
       "    <tr>\n",
       "      <th>6</th>\n",
       "      <td>Cosmos</td>\n",
       "      <td>13</td>\n",
       "      <td>1.0</td>\n",
       "    </tr>\n",
       "    <tr>\n",
       "      <th>4</th>\n",
       "      <td>Cosmos: A Spacetime Odyssey</td>\n",
       "      <td>13</td>\n",
       "      <td>1.0</td>\n",
       "    </tr>\n",
       "    <tr>\n",
       "      <th>66</th>\n",
       "      <td>I, Claudius</td>\n",
       "      <td>13</td>\n",
       "      <td>1.0</td>\n",
       "    </tr>\n",
       "    <tr>\n",
       "      <th>32</th>\n",
       "      <td>Persona</td>\n",
       "      <td>12</td>\n",
       "      <td>1.0</td>\n",
       "    </tr>\n",
       "    <tr>\n",
       "      <th>52</th>\n",
       "      <td>Fawlty Towers</td>\n",
       "      <td>12</td>\n",
       "      <td>1.0</td>\n",
       "    </tr>\n",
       "    <tr>\n",
       "      <th>182</th>\n",
       "      <td>I'm Alan Partridge</td>\n",
       "      <td>12</td>\n",
       "      <td>1.0</td>\n",
       "    </tr>\n",
       "    <tr>\n",
       "      <th>5</th>\n",
       "      <td>Planet Earth</td>\n",
       "      <td>11</td>\n",
       "      <td>1.0</td>\n",
       "    </tr>\n",
       "    <tr>\n",
       "      <th>163</th>\n",
       "      <td>The Offer</td>\n",
       "      <td>10</td>\n",
       "      <td>1.0</td>\n",
       "    </tr>\n",
       "    <tr>\n",
       "      <th>14</th>\n",
       "      <td>The Vietnam War</td>\n",
       "      <td>10</td>\n",
       "      <td>1.0</td>\n",
       "    </tr>\n",
       "    <tr>\n",
       "      <th>181</th>\n",
       "      <td>House of the Dragon</td>\n",
       "      <td>10</td>\n",
       "      <td>1.0</td>\n",
       "    </tr>\n",
       "    <tr>\n",
       "      <th>9</th>\n",
       "      <td>The Last Dance</td>\n",
       "      <td>10</td>\n",
       "      <td>1.0</td>\n",
       "    </tr>\n",
       "    <tr>\n",
       "      <th>16</th>\n",
       "      <td>Scam 1992: The Harshad Mehta Story</td>\n",
       "      <td>10</td>\n",
       "      <td>1.0</td>\n",
       "    </tr>\n",
       "    <tr>\n",
       "      <th>3</th>\n",
       "      <td>Band of Brothers</td>\n",
       "      <td>10</td>\n",
       "      <td>1.0</td>\n",
       "    </tr>\n",
       "    <tr>\n",
       "      <th>73</th>\n",
       "      <td>Kota Factory</td>\n",
       "      <td>10</td>\n",
       "      <td>1.0</td>\n",
       "    </tr>\n",
       "    <tr>\n",
       "      <th>17</th>\n",
       "      <td>Arcane</td>\n",
       "      <td>9</td>\n",
       "      <td>1.0</td>\n",
       "    </tr>\n",
       "    <tr>\n",
       "      <th>28</th>\n",
       "      <td>The Civil War</td>\n",
       "      <td>9</td>\n",
       "      <td>1.0</td>\n",
       "    </tr>\n",
       "    <tr>\n",
       "      <th>122</th>\n",
       "      <td>Heartstopper</td>\n",
       "      <td>8</td>\n",
       "      <td>1.0</td>\n",
       "    </tr>\n",
       "    <tr>\n",
       "      <th>35</th>\n",
       "      <td>Clarkson's Farm</td>\n",
       "      <td>8</td>\n",
       "      <td>1.0</td>\n",
       "    </tr>\n",
       "    <tr>\n",
       "      <th>217</th>\n",
       "      <td>The Night Of</td>\n",
       "      <td>8</td>\n",
       "      <td>1.0</td>\n",
       "    </tr>\n",
       "    <tr>\n",
       "      <th>24</th>\n",
       "      <td>Human Planet</td>\n",
       "      <td>8</td>\n",
       "      <td>1.0</td>\n",
       "    </tr>\n",
       "    <tr>\n",
       "      <th>7</th>\n",
       "      <td>Our Planet</td>\n",
       "      <td>8</td>\n",
       "      <td>1.0</td>\n",
       "    </tr>\n",
       "    <tr>\n",
       "      <th>136</th>\n",
       "      <td>Yeh Meri Family</td>\n",
       "      <td>7</td>\n",
       "      <td>1.0</td>\n",
       "    </tr>\n",
       "    <tr>\n",
       "      <th>152</th>\n",
       "      <td>The Queen's Gambit</td>\n",
       "      <td>7</td>\n",
       "      <td>1.0</td>\n",
       "    </tr>\n",
       "    <tr>\n",
       "      <th>132</th>\n",
       "      <td>Blackadder the Third</td>\n",
       "      <td>6</td>\n",
       "      <td>1.0</td>\n",
       "    </tr>\n",
       "    <tr>\n",
       "      <th>0</th>\n",
       "      <td>Planet Earth II</td>\n",
       "      <td>6</td>\n",
       "      <td>1.0</td>\n",
       "    </tr>\n",
       "    <tr>\n",
       "      <th>54</th>\n",
       "      <td>Blackadder Goes Forth</td>\n",
       "      <td>6</td>\n",
       "      <td>1.0</td>\n",
       "    </tr>\n",
       "    <tr>\n",
       "      <th>128</th>\n",
       "      <td>The Rehearsal</td>\n",
       "      <td>6</td>\n",
       "      <td>1.0</td>\n",
       "    </tr>\n",
       "    <tr>\n",
       "      <th>114</th>\n",
       "      <td>The Jinx: The Life and Deaths of Robert Durst</td>\n",
       "      <td>6</td>\n",
       "      <td>1.0</td>\n",
       "    </tr>\n",
       "    <tr>\n",
       "      <th>49</th>\n",
       "      <td>Pride and Prejudice</td>\n",
       "      <td>6</td>\n",
       "      <td>1.0</td>\n",
       "    </tr>\n",
       "    <tr>\n",
       "      <th>48</th>\n",
       "      <td>Das Boot</td>\n",
       "      <td>6</td>\n",
       "      <td>1.0</td>\n",
       "    </tr>\n",
       "    <tr>\n",
       "      <th>46</th>\n",
       "      <td>Africa</td>\n",
       "      <td>6</td>\n",
       "      <td>1.0</td>\n",
       "    </tr>\n",
       "    <tr>\n",
       "      <th>44</th>\n",
       "      <td>Apocalypse: The Second World War</td>\n",
       "      <td>6</td>\n",
       "      <td>1.0</td>\n",
       "    </tr>\n",
       "    <tr>\n",
       "      <th>127</th>\n",
       "      <td>It's a Sin</td>\n",
       "      <td>5</td>\n",
       "      <td>1.0</td>\n",
       "    </tr>\n",
       "    <tr>\n",
       "      <th>110</th>\n",
       "      <td>Aspirants</td>\n",
       "      <td>5</td>\n",
       "      <td>1.0</td>\n",
       "    </tr>\n",
       "    <tr>\n",
       "      <th>1</th>\n",
       "      <td>Chernobyl</td>\n",
       "      <td>5</td>\n",
       "      <td>1.0</td>\n",
       "    </tr>\n",
       "    <tr>\n",
       "      <th>41</th>\n",
       "      <td>TVF Pitchers</td>\n",
       "      <td>5</td>\n",
       "      <td>1.0</td>\n",
       "    </tr>\n",
       "    <tr>\n",
       "      <th>130</th>\n",
       "      <td>Lonesome Dove</td>\n",
       "      <td>4</td>\n",
       "      <td>1.0</td>\n",
       "    </tr>\n",
       "    <tr>\n",
       "      <th>37</th>\n",
       "      <td>When They See Us</td>\n",
       "      <td>4</td>\n",
       "      <td>1.0</td>\n",
       "    </tr>\n",
       "    <tr>\n",
       "      <th>207</th>\n",
       "      <td>Rurouni Kenshin: Trust and Betrayal</td>\n",
       "      <td>4</td>\n",
       "      <td>1.0</td>\n",
       "    </tr>\n",
       "    <tr>\n",
       "      <th>232</th>\n",
       "      <td>The Defiant Ones</td>\n",
       "      <td>4</td>\n",
       "      <td>1.0</td>\n",
       "    </tr>\n",
       "    <tr>\n",
       "      <th>29</th>\n",
       "      <td>The Beatles: Get Back</td>\n",
       "      <td>3</td>\n",
       "      <td>1.0</td>\n",
       "    </tr>\n",
       "  </tbody>\n",
       "</table>\n",
       "</div>"
      ],
      "text/plain": [
       "                                             Title  total_episodes  prop_good\n",
       "34                                 Attack on Titan              87        1.0\n",
       "190                                           Ezel              71        1.0\n",
       "124                                      Daredevil              39        1.0\n",
       "143                                 Anne with an E              27        1.0\n",
       "76                                            Dark              26        1.0\n",
       "8                                 The World at War              26        1.0\n",
       "117                                         Primal              20        1.0\n",
       "172                                      Black Sun              20        1.0\n",
       "53                                Freaks and Geeks              18        1.0\n",
       "94                                       Panchayat              16        1.0\n",
       "195                     Extraordinary Attorney Woo              16        1.0\n",
       "141                                       Mr. Bean              15        1.0\n",
       "89                                          Gullak              15        1.0\n",
       "23                                         Firefly              14        1.0\n",
       "6                                           Cosmos              13        1.0\n",
       "4                      Cosmos: A Spacetime Odyssey              13        1.0\n",
       "66                                     I, Claudius              13        1.0\n",
       "32                                         Persona              12        1.0\n",
       "52                                   Fawlty Towers              12        1.0\n",
       "182                             I'm Alan Partridge              12        1.0\n",
       "5                                     Planet Earth              11        1.0\n",
       "163                                      The Offer              10        1.0\n",
       "14                                 The Vietnam War              10        1.0\n",
       "181                            House of the Dragon              10        1.0\n",
       "9                                   The Last Dance              10        1.0\n",
       "16              Scam 1992: The Harshad Mehta Story              10        1.0\n",
       "3                                 Band of Brothers              10        1.0\n",
       "73                                    Kota Factory              10        1.0\n",
       "17                                          Arcane               9        1.0\n",
       "28                                   The Civil War               9        1.0\n",
       "122                                   Heartstopper               8        1.0\n",
       "35                                 Clarkson's Farm               8        1.0\n",
       "217                                   The Night Of               8        1.0\n",
       "24                                    Human Planet               8        1.0\n",
       "7                                       Our Planet               8        1.0\n",
       "136                                Yeh Meri Family               7        1.0\n",
       "152                             The Queen's Gambit               7        1.0\n",
       "132                           Blackadder the Third               6        1.0\n",
       "0                                  Planet Earth II               6        1.0\n",
       "54                           Blackadder Goes Forth               6        1.0\n",
       "128                                  The Rehearsal               6        1.0\n",
       "114  The Jinx: The Life and Deaths of Robert Durst               6        1.0\n",
       "49                             Pride and Prejudice               6        1.0\n",
       "48                                        Das Boot               6        1.0\n",
       "46                                          Africa               6        1.0\n",
       "44                Apocalypse: The Second World War               6        1.0\n",
       "127                                     It's a Sin               5        1.0\n",
       "110                                      Aspirants               5        1.0\n",
       "1                                        Chernobyl               5        1.0\n",
       "41                                    TVF Pitchers               5        1.0\n",
       "130                                  Lonesome Dove               4        1.0\n",
       "37                                When They See Us               4        1.0\n",
       "207            Rurouni Kenshin: Trust and Betrayal               4        1.0\n",
       "232                               The Defiant Ones               4        1.0\n",
       "29                           The Beatles: Get Back               3        1.0"
      ]
     },
     "execution_count": 75,
     "metadata": {},
     "output_type": "execute_result"
    }
   ],
   "source": [
    "#find the total number of shows with a 100% 'good' episode rate and sort by total episodes\n",
    "pg = prop_df[prop_df['prop_good'] == 1.0].sort_values(by='total_episodes', ascending=False)\n",
    "pg"
   ]
  },
  {
   "cell_type": "code",
   "execution_count": 76,
   "metadata": {},
   "outputs": [
    {
     "data": {
      "text/plain": [
       "55"
      ]
     },
     "execution_count": 76,
     "metadata": {},
     "output_type": "execute_result"
    }
   ],
   "source": [
    "#how many shows have only 'good' episodes\n",
    "len(prop_df[prop_df['prop_good'] == 1.0].sort_values(by='total_episodes', ascending=False))"
   ]
  },
  {
   "cell_type": "code",
   "execution_count": 77,
   "metadata": {},
   "outputs": [
    {
     "data": {
      "image/png": "[encoded data removed]",
      "text/plain": [
       "<matplotlib.figure.Figure at 0x1d9a0da6be0>"
      ]
     },
     "metadata": {},
     "output_type": "display_data"
    }
   ],
   "source": [
    "#plot distribution of episode rating and add in 'good' episode line to show how many 'good' episodes \"Attack on Titan\" has\n",
    "a = imdb[imdb['Title'] == 'Attack on Titan']\n",
    "plt.hist(a['Rating'], bins=8)\n",
    "plt.title('Distribution of Episode Ratings for Attack on Titan')\n",
    "plt.xlabel('Rating')\n",
    "plt.ylabel('Number of Instances')\n",
    "plt.xlim(7,10)\n",
    "#plt.ylim(0,5)\n",
    "#plt.axvline(x=8.6, color='black', label='Series Rating')\n",
    "plt.axvline(x=8.06, color='red', label='\"good\" episode line')\n",
    "plt.legend()\n",
    "plt.show()"
   ]
  },
  {
   "cell_type": "markdown",
   "metadata": {},
   "source": [
    "Based on this output, \"Attack on Titan\" is the show I need to consider. It has a 100% 'good' episode rate, and has more episodes than any other show with a 100% good episode rate. 55 shows have a 100% 'good' episode rate."
   ]
  },
  {
   "cell_type": "code",
   "execution_count": 78,
   "metadata": {},
   "outputs": [
    {
     "data": {
      "text/html": [
       "<div>\n",
       "<style scoped>\n",
       "    .dataframe tbody tr th:only-of-type {\n",
       "        vertical-align: middle;\n",
       "    }\n",
       "\n",
       "    .dataframe tbody tr th {\n",
       "        vertical-align: top;\n",
       "    }\n",
       "\n",
       "    .dataframe thead th {\n",
       "        text-align: right;\n",
       "    }\n",
       "</style>\n",
       "<table border=\"1\" class=\"dataframe\">\n",
       "  <thead>\n",
       "    <tr style=\"text-align: right;\">\n",
       "      <th></th>\n",
       "      <th>Title</th>\n",
       "      <th>total_episodes</th>\n",
       "      <th>prop_good</th>\n",
       "    </tr>\n",
       "  </thead>\n",
       "  <tbody>\n",
       "    <tr>\n",
       "      <th>175</th>\n",
       "      <td>QI</td>\n",
       "      <td>307</td>\n",
       "      <td>0.0</td>\n",
       "    </tr>\n",
       "    <tr>\n",
       "      <th>112</th>\n",
       "      <td>Mahabharat</td>\n",
       "      <td>94</td>\n",
       "      <td>0.0</td>\n",
       "    </tr>\n",
       "  </tbody>\n",
       "</table>\n",
       "</div>"
      ],
      "text/plain": [
       "          Title  total_episodes  prop_good\n",
       "175          QI             307        0.0\n",
       "112  Mahabharat              94        0.0"
      ]
     },
     "execution_count": 78,
     "metadata": {},
     "output_type": "execute_result"
    }
   ],
   "source": [
    "#find the total number of shows with a 0% 'good' episode rate\n",
    "prop_df[prop_df['prop_good'] == 0].sort_values(by='total_episodes', ascending=False)"
   ]
  },
  {
   "cell_type": "markdown",
   "metadata": {},
   "source": [
    "Based on this output, we might think something went wrong because 2 shows appeared on this list when I had hypothesized only 1 earlier. This is because 'QI' actually has more than 0 'good' episodes, its just a very small number that, when rounded, produces a 0% 'good' episode rate. So 'Mahabharat' is truly the only show with absolutely no 'good' episodes."
   ]
  },
  {
   "cell_type": "code",
   "execution_count": 79,
   "metadata": {},
   "outputs": [
    {
     "data": {
      "image/png": "[encoded data removed]",
      "text/plain": [
       "<matplotlib.figure.Figure at 0x1d9a0e060f0>"
      ]
     },
     "metadata": {},
     "output_type": "display_data"
    }
   ],
   "source": [
    "#plot distribution of episode rating and add in 'good' episode line to show how few 'good' episodes QI has\n",
    "a = imdb[imdb['Title'] == 'QI']\n",
    "plt.hist(a['Rating'], bins=8)\n",
    "plt.title('Distribution of Episode Ratings for QI')\n",
    "plt.xlabel('Rating')\n",
    "plt.ylabel('Number of Instances')\n",
    "plt.xlim(4,9)\n",
    "plt.axvline(x=8.06, color='red', label='\"good\" episode line')\n",
    "plt.legend()\n",
    "plt.show()"
   ]
  },
  {
   "cell_type": "code",
   "execution_count": 80,
   "metadata": {},
   "outputs": [
    {
     "data": {
      "text/plain": [
       "0.003257328990228013"
      ]
     },
     "execution_count": 80,
     "metadata": {},
     "output_type": "execute_result"
    }
   ],
   "source": [
    "#manual calculation for QI (should come out to < 0.05)\n",
    "(len(imdb[(imdb['Title'] == 'QI') & (imdb['Rating'] > 8.06)]))/(len(imdb[imdb['Title'] == 'QI']))"
   ]
  },
  {
   "cell_type": "markdown",
   "metadata": {},
   "source": [
    "As you can see from this histogram and the manual calculation, \"QI\" has a 'good' episode rate of less than a half a percent. So there might be 1 good episode out there out of 307. Not a show you want to watch (except for maybe 1 random episode that is somehow good)."
   ]
  },
  {
   "cell_type": "code",
   "execution_count": 81,
   "metadata": {},
   "outputs": [
    {
     "data": {
      "image/png": "[encoded data removed]",
      "text/plain": [
       "<matplotlib.figure.Figure at 0x1d9a0e06198>"
      ]
     },
     "metadata": {},
     "output_type": "display_data"
    }
   ],
   "source": [
    "#plot distribution of episode rating and add in 'good' episode line to show how few 'good' episodes Mahabharat has\n",
    "a = imdb[imdb['Title'] == 'Mahabharat']\n",
    "plt.hist(a['Rating'], bins=8)\n",
    "plt.title('Distribution of Episode Ratings for Mahabharat')\n",
    "plt.xlabel('Rating')\n",
    "plt.ylabel('Number of Instances')\n",
    "plt.xlim(4,9)\n",
    "plt.axvline(x=8.06, color='red', label='\"good\" episode line')\n",
    "plt.legend()\n",
    "plt.show()"
   ]
  },
  {
   "cell_type": "markdown",
   "metadata": {},
   "source": [
    "Here we can see that Mahabharat contains exactly 0 'good' episodes. This is not a show that I am interested in starting."
   ]
  },
  {
   "cell_type": "markdown",
   "metadata": {},
   "source": [
    "### Global dataset EDA"
   ]
  },
  {
   "cell_type": "markdown",
   "metadata": {},
   "source": [
    "Here we will introduce a new dataset that contains overall series ratings ('Rating') along with a count of how many series ratings were submitted ('Count'). Data also includes the show title and series code."
   ]
  },
  {
   "cell_type": "code",
   "execution_count": 82,
   "metadata": {},
   "outputs": [
    {
     "data": {
      "text/html": [
       "<div>\n",
       "<style scoped>\n",
       "    .dataframe tbody tr th:only-of-type {\n",
       "        vertical-align: middle;\n",
       "    }\n",
       "\n",
       "    .dataframe tbody tr th {\n",
       "        vertical-align: top;\n",
       "    }\n",
       "\n",
       "    .dataframe thead th {\n",
       "        text-align: right;\n",
       "    }\n",
       "</style>\n",
       "<table border=\"1\" class=\"dataframe\">\n",
       "  <thead>\n",
       "    <tr style=\"text-align: right;\">\n",
       "      <th></th>\n",
       "      <th>Title</th>\n",
       "      <th>Code</th>\n",
       "      <th>Rating</th>\n",
       "      <th>Rating Count</th>\n",
       "    </tr>\n",
       "  </thead>\n",
       "  <tbody>\n",
       "    <tr>\n",
       "      <th>0</th>\n",
       "      <td>Planet Earth II</td>\n",
       "      <td>tt5491994</td>\n",
       "      <td>9.4</td>\n",
       "      <td>144,570</td>\n",
       "    </tr>\n",
       "    <tr>\n",
       "      <th>1</th>\n",
       "      <td>Breaking Bad</td>\n",
       "      <td>tt0903747</td>\n",
       "      <td>9.4</td>\n",
       "      <td>1,857,606</td>\n",
       "    </tr>\n",
       "    <tr>\n",
       "      <th>2</th>\n",
       "      <td>Planet Earth</td>\n",
       "      <td>tt0795176</td>\n",
       "      <td>9.4</td>\n",
       "      <td>209,359</td>\n",
       "    </tr>\n",
       "    <tr>\n",
       "      <th>3</th>\n",
       "      <td>Band of Brothers</td>\n",
       "      <td>tt0185906</td>\n",
       "      <td>9.4</td>\n",
       "      <td>465,442</td>\n",
       "    </tr>\n",
       "    <tr>\n",
       "      <th>4</th>\n",
       "      <td>Chernobyl</td>\n",
       "      <td>tt7366338</td>\n",
       "      <td>9.3</td>\n",
       "      <td>742,477</td>\n",
       "    </tr>\n",
       "  </tbody>\n",
       "</table>\n",
       "</div>"
      ],
      "text/plain": [
       "              Title       Code  Rating Rating Count\n",
       "0   Planet Earth II  tt5491994     9.4      144,570\n",
       "1      Breaking Bad  tt0903747     9.4    1,857,606\n",
       "2      Planet Earth  tt0795176     9.4      209,359\n",
       "3  Band of Brothers  tt0185906     9.4      465,442\n",
       "4         Chernobyl  tt7366338     9.3      742,477"
      ]
     },
     "execution_count": 82,
     "metadata": {},
     "output_type": "execute_result"
    }
   ],
   "source": [
    "#load imdb_global csv into notebook\n",
    "imdb_global = pd.read_csv('imdb_top_250_series_global_ratings.csv')\n",
    "imdb_global.head()"
   ]
  },
  {
   "cell_type": "code",
   "execution_count": 83,
   "metadata": {},
   "outputs": [
    {
     "data": {
      "text/plain": [
       "Title            object\n",
       "Code             object\n",
       "Rating          float64\n",
       "Rating Count     object\n",
       "dtype: object"
      ]
     },
     "execution_count": 83,
     "metadata": {},
     "output_type": "execute_result"
    }
   ],
   "source": [
    "#check data types\n",
    "imdb_global.dtypes"
   ]
  },
  {
   "cell_type": "code",
   "execution_count": 84,
   "metadata": {},
   "outputs": [
    {
     "data": {
      "text/html": [
       "<div>\n",
       "<style scoped>\n",
       "    .dataframe tbody tr th:only-of-type {\n",
       "        vertical-align: middle;\n",
       "    }\n",
       "\n",
       "    .dataframe tbody tr th {\n",
       "        vertical-align: top;\n",
       "    }\n",
       "\n",
       "    .dataframe thead th {\n",
       "        text-align: right;\n",
       "    }\n",
       "</style>\n",
       "<table border=\"1\" class=\"dataframe\">\n",
       "  <thead>\n",
       "    <tr style=\"text-align: right;\">\n",
       "      <th></th>\n",
       "      <th>Rating</th>\n",
       "    </tr>\n",
       "  </thead>\n",
       "  <tbody>\n",
       "    <tr>\n",
       "      <th>count</th>\n",
       "      <td>250.000000</td>\n",
       "    </tr>\n",
       "    <tr>\n",
       "      <th>mean</th>\n",
       "      <td>8.651200</td>\n",
       "    </tr>\n",
       "    <tr>\n",
       "      <th>std</th>\n",
       "      <td>0.217919</td>\n",
       "    </tr>\n",
       "    <tr>\n",
       "      <th>min</th>\n",
       "      <td>8.400000</td>\n",
       "    </tr>\n",
       "    <tr>\n",
       "      <th>25%</th>\n",
       "      <td>8.500000</td>\n",
       "    </tr>\n",
       "    <tr>\n",
       "      <th>50%</th>\n",
       "      <td>8.600000</td>\n",
       "    </tr>\n",
       "    <tr>\n",
       "      <th>75%</th>\n",
       "      <td>8.700000</td>\n",
       "    </tr>\n",
       "    <tr>\n",
       "      <th>max</th>\n",
       "      <td>9.400000</td>\n",
       "    </tr>\n",
       "  </tbody>\n",
       "</table>\n",
       "</div>"
      ],
      "text/plain": [
       "           Rating\n",
       "count  250.000000\n",
       "mean     8.651200\n",
       "std      0.217919\n",
       "min      8.400000\n",
       "25%      8.500000\n",
       "50%      8.600000\n",
       "75%      8.700000\n",
       "max      9.400000"
      ]
     },
     "execution_count": 84,
     "metadata": {},
     "output_type": "execute_result"
    }
   ],
   "source": [
    "#summary of numerical features\n",
    "imdb_global.describe()"
   ]
  },
  {
   "cell_type": "code",
   "execution_count": 85,
   "metadata": {
    "collapsed": true
   },
   "outputs": [],
   "source": [
    "#convert 'Rating Count' to float\n",
    "imdb_global['Rating Count'] = imdb_global['Rating Count'].str.replace(',', '').astype(float)"
   ]
  },
  {
   "cell_type": "code",
   "execution_count": 86,
   "metadata": {},
   "outputs": [
    {
     "data": {
      "text/html": [
       "<div>\n",
       "<style scoped>\n",
       "    .dataframe tbody tr th:only-of-type {\n",
       "        vertical-align: middle;\n",
       "    }\n",
       "\n",
       "    .dataframe tbody tr th {\n",
       "        vertical-align: top;\n",
       "    }\n",
       "\n",
       "    .dataframe thead th {\n",
       "        text-align: right;\n",
       "    }\n",
       "</style>\n",
       "<table border=\"1\" class=\"dataframe\">\n",
       "  <thead>\n",
       "    <tr style=\"text-align: right;\">\n",
       "      <th></th>\n",
       "      <th>Rating</th>\n",
       "      <th>Rating Count</th>\n",
       "    </tr>\n",
       "  </thead>\n",
       "  <tbody>\n",
       "    <tr>\n",
       "      <th>count</th>\n",
       "      <td>250.000000</td>\n",
       "      <td>2.500000e+02</td>\n",
       "    </tr>\n",
       "    <tr>\n",
       "      <th>mean</th>\n",
       "      <td>8.651200</td>\n",
       "      <td>1.501960e+05</td>\n",
       "    </tr>\n",
       "    <tr>\n",
       "      <th>std</th>\n",
       "      <td>0.217919</td>\n",
       "      <td>2.382084e+05</td>\n",
       "    </tr>\n",
       "    <tr>\n",
       "      <th>min</th>\n",
       "      <td>8.400000</td>\n",
       "      <td>1.026700e+04</td>\n",
       "    </tr>\n",
       "    <tr>\n",
       "      <th>25%</th>\n",
       "      <td>8.500000</td>\n",
       "      <td>2.968150e+04</td>\n",
       "    </tr>\n",
       "    <tr>\n",
       "      <th>50%</th>\n",
       "      <td>8.600000</td>\n",
       "      <td>6.812200e+04</td>\n",
       "    </tr>\n",
       "    <tr>\n",
       "      <th>75%</th>\n",
       "      <td>8.700000</td>\n",
       "      <td>1.574478e+05</td>\n",
       "    </tr>\n",
       "    <tr>\n",
       "      <th>max</th>\n",
       "      <td>9.400000</td>\n",
       "      <td>2.078524e+06</td>\n",
       "    </tr>\n",
       "  </tbody>\n",
       "</table>\n",
       "</div>"
      ],
      "text/plain": [
       "           Rating  Rating Count\n",
       "count  250.000000  2.500000e+02\n",
       "mean     8.651200  1.501960e+05\n",
       "std      0.217919  2.382084e+05\n",
       "min      8.400000  1.026700e+04\n",
       "25%      8.500000  2.968150e+04\n",
       "50%      8.600000  6.812200e+04\n",
       "75%      8.700000  1.574478e+05\n",
       "max      9.400000  2.078524e+06"
      ]
     },
     "execution_count": 86,
     "metadata": {},
     "output_type": "execute_result"
    }
   ],
   "source": [
    "#now 'Rating Count' is a numerical feature\n",
    "imdb_global.describe()"
   ]
  },
  {
   "cell_type": "code",
   "execution_count": 87,
   "metadata": {},
   "outputs": [
    {
     "data": {
      "image/png": "[encoded data removed]",
      "text/plain": [
       "<matplotlib.figure.Figure at 0x1d9a0f8eac8>"
      ]
     },
     "metadata": {},
     "output_type": "display_data"
    }
   ],
   "source": [
    "#Rating Count boxplot\n",
    "imdb_global.boxplot(column='Rating Count')\n",
    "plt.show()"
   ]
  },
  {
   "cell_type": "code",
   "execution_count": 88,
   "metadata": {},
   "outputs": [
    {
     "data": {
      "image/png": "[encoded data removed]",
      "text/plain": [
       "<matplotlib.figure.Figure at 0x1d9a0f92550>"
      ]
     },
     "metadata": {},
     "output_type": "display_data"
    }
   ],
   "source": [
    "#Rating Count histogram\n",
    "plt.hist(imdb_global['Rating Count'], bins=12)\n",
    "plt.show()"
   ]
  },
  {
   "cell_type": "code",
   "execution_count": 89,
   "metadata": {},
   "outputs": [
    {
     "data": {
      "image/png": "[encoded data removed]",
      "text/plain": [
       "<matplotlib.figure.Figure at 0x1d9a1052cc0>"
      ]
     },
     "metadata": {},
     "output_type": "display_data"
    }
   ],
   "source": [
    "#plot Rating vs. Rating Count\n",
    "plt.scatter('Rating', 'Rating Count', data=imdb_global)\n",
    "#plt.title('Rating Counts')\n",
    "#plt.xlabel()\n",
    "#plt.ylabel()\n",
    "plt.show()"
   ]
  },
  {
   "cell_type": "markdown",
   "metadata": {},
   "source": [
    "## Global Dataset Questions"
   ]
  },
  {
   "cell_type": "markdown",
   "metadata": {},
   "source": [
    "### 1.) What's the global distribution of series ratings?"
   ]
  },
  {
   "cell_type": "code",
   "execution_count": 90,
   "metadata": {},
   "outputs": [
    {
     "data": {
      "text/html": [
       "<div>\n",
       "<style scoped>\n",
       "    .dataframe tbody tr th:only-of-type {\n",
       "        vertical-align: middle;\n",
       "    }\n",
       "\n",
       "    .dataframe tbody tr th {\n",
       "        vertical-align: top;\n",
       "    }\n",
       "\n",
       "    .dataframe thead th {\n",
       "        text-align: right;\n",
       "    }\n",
       "</style>\n",
       "<table border=\"1\" class=\"dataframe\">\n",
       "  <thead>\n",
       "    <tr style=\"text-align: right;\">\n",
       "      <th></th>\n",
       "      <th>Rating</th>\n",
       "      <th>Rating Count</th>\n",
       "    </tr>\n",
       "  </thead>\n",
       "  <tbody>\n",
       "    <tr>\n",
       "      <th>count</th>\n",
       "      <td>250.000000</td>\n",
       "      <td>2.500000e+02</td>\n",
       "    </tr>\n",
       "    <tr>\n",
       "      <th>mean</th>\n",
       "      <td>8.651200</td>\n",
       "      <td>1.501960e+05</td>\n",
       "    </tr>\n",
       "    <tr>\n",
       "      <th>std</th>\n",
       "      <td>0.217919</td>\n",
       "      <td>2.382084e+05</td>\n",
       "    </tr>\n",
       "    <tr>\n",
       "      <th>min</th>\n",
       "      <td>8.400000</td>\n",
       "      <td>1.026700e+04</td>\n",
       "    </tr>\n",
       "    <tr>\n",
       "      <th>25%</th>\n",
       "      <td>8.500000</td>\n",
       "      <td>2.968150e+04</td>\n",
       "    </tr>\n",
       "    <tr>\n",
       "      <th>50%</th>\n",
       "      <td>8.600000</td>\n",
       "      <td>6.812200e+04</td>\n",
       "    </tr>\n",
       "    <tr>\n",
       "      <th>75%</th>\n",
       "      <td>8.700000</td>\n",
       "      <td>1.574478e+05</td>\n",
       "    </tr>\n",
       "    <tr>\n",
       "      <th>max</th>\n",
       "      <td>9.400000</td>\n",
       "      <td>2.078524e+06</td>\n",
       "    </tr>\n",
       "  </tbody>\n",
       "</table>\n",
       "</div>"
      ],
      "text/plain": [
       "           Rating  Rating Count\n",
       "count  250.000000  2.500000e+02\n",
       "mean     8.651200  1.501960e+05\n",
       "std      0.217919  2.382084e+05\n",
       "min      8.400000  1.026700e+04\n",
       "25%      8.500000  2.968150e+04\n",
       "50%      8.600000  6.812200e+04\n",
       "75%      8.700000  1.574478e+05\n",
       "max      9.400000  2.078524e+06"
      ]
     },
     "execution_count": 90,
     "metadata": {},
     "output_type": "execute_result"
    }
   ],
   "source": [
    "#describe numerical variables (again)\n",
    "imdb_global.describe()"
   ]
  },
  {
   "cell_type": "markdown",
   "metadata": {},
   "source": [
    "Looked at min and max from .describe() and determined that 11 bins was the correct number for looking at distribution hist"
   ]
  },
  {
   "cell_type": "code",
   "execution_count": 91,
   "metadata": {},
   "outputs": [
    {
     "data": {
      "image/png": "[encoded data removed]",
      "text/plain": [
       "<matplotlib.figure.Figure at 0x1d9a1059860>"
      ]
     },
     "metadata": {},
     "output_type": "display_data"
    }
   ],
   "source": [
    "#plot global distribution of Series Ratings\n",
    "plt.hist(imdb_global['Rating'], bins=11)\n",
    "plt.title('Global Distribution of Series Ratings')\n",
    "plt.xlabel('Rating')\n",
    "plt.ylabel('Number of Instances')\n",
    "plt.show()"
   ]
  },
  {
   "cell_type": "markdown",
   "metadata": {},
   "source": [
    "All of the Global Series Ratings fall between 8.4 and 9.4. This makes sense when we consider that this is a dataset of IMDb's Top 250 TV Series, meaning that poorly rated series won't appear in this data."
   ]
  },
  {
   "cell_type": "markdown",
   "metadata": {},
   "source": [
    "### 2.) Which series have a higher gap between their Mean Episode Rating and their TV Series Rating?"
   ]
  },
  {
   "cell_type": "code",
   "execution_count": 92,
   "metadata": {},
   "outputs": [
    {
     "data": {
      "text/html": [
       "<div>\n",
       "<style scoped>\n",
       "    .dataframe tbody tr th:only-of-type {\n",
       "        vertical-align: middle;\n",
       "    }\n",
       "\n",
       "    .dataframe tbody tr th {\n",
       "        vertical-align: top;\n",
       "    }\n",
       "\n",
       "    .dataframe thead th {\n",
       "        text-align: right;\n",
       "    }\n",
       "</style>\n",
       "<table border=\"1\" class=\"dataframe\">\n",
       "  <thead>\n",
       "    <tr style=\"text-align: right;\">\n",
       "      <th></th>\n",
       "      <th>Title</th>\n",
       "      <th>Season</th>\n",
       "      <th>Episode</th>\n",
       "      <th>Rating</th>\n",
       "    </tr>\n",
       "  </thead>\n",
       "  <tbody>\n",
       "    <tr>\n",
       "      <th>0</th>\n",
       "      <td>1883</td>\n",
       "      <td>1.000000</td>\n",
       "      <td>5.500000</td>\n",
       "      <td>8.600000</td>\n",
       "    </tr>\n",
       "    <tr>\n",
       "      <th>1</th>\n",
       "      <td>Adventure Time</td>\n",
       "      <td>5.125448</td>\n",
       "      <td>16.681004</td>\n",
       "      <td>8.015771</td>\n",
       "    </tr>\n",
       "    <tr>\n",
       "      <th>2</th>\n",
       "      <td>Africa</td>\n",
       "      <td>1.000000</td>\n",
       "      <td>3.500000</td>\n",
       "      <td>8.450000</td>\n",
       "    </tr>\n",
       "    <tr>\n",
       "      <th>3</th>\n",
       "      <td>Alfred Hitchcock Presents</td>\n",
       "      <td>3.988806</td>\n",
       "      <td>19.656716</td>\n",
       "      <td>7.134328</td>\n",
       "    </tr>\n",
       "    <tr>\n",
       "      <th>4</th>\n",
       "      <td>Anne with an E</td>\n",
       "      <td>2.111111</td>\n",
       "      <td>5.111111</td>\n",
       "      <td>8.744444</td>\n",
       "    </tr>\n",
       "  </tbody>\n",
       "</table>\n",
       "</div>"
      ],
      "text/plain": [
       "                       Title    Season    Episode    Rating\n",
       "0                       1883  1.000000   5.500000  8.600000\n",
       "1             Adventure Time  5.125448  16.681004  8.015771\n",
       "2                     Africa  1.000000   3.500000  8.450000\n",
       "3  Alfred Hitchcock Presents  3.988806  19.656716  7.134328\n",
       "4             Anne with an E  2.111111   5.111111  8.744444"
      ]
     },
     "execution_count": 92,
     "metadata": {},
     "output_type": "execute_result"
    }
   ],
   "source": [
    "#look at df w/ Mean Episode Rating\n",
    "avg_rating.head()"
   ]
  },
  {
   "cell_type": "code",
   "execution_count": 93,
   "metadata": {},
   "outputs": [
    {
     "data": {
      "text/html": [
       "<div>\n",
       "<style scoped>\n",
       "    .dataframe tbody tr th:only-of-type {\n",
       "        vertical-align: middle;\n",
       "    }\n",
       "\n",
       "    .dataframe tbody tr th {\n",
       "        vertical-align: top;\n",
       "    }\n",
       "\n",
       "    .dataframe thead th {\n",
       "        text-align: right;\n",
       "    }\n",
       "</style>\n",
       "<table border=\"1\" class=\"dataframe\">\n",
       "  <thead>\n",
       "    <tr style=\"text-align: right;\">\n",
       "      <th></th>\n",
       "      <th>Title</th>\n",
       "      <th>Code</th>\n",
       "      <th>Rating</th>\n",
       "      <th>Rating Count</th>\n",
       "    </tr>\n",
       "  </thead>\n",
       "  <tbody>\n",
       "    <tr>\n",
       "      <th>0</th>\n",
       "      <td>Planet Earth II</td>\n",
       "      <td>tt5491994</td>\n",
       "      <td>9.4</td>\n",
       "      <td>144570.0</td>\n",
       "    </tr>\n",
       "    <tr>\n",
       "      <th>1</th>\n",
       "      <td>Breaking Bad</td>\n",
       "      <td>tt0903747</td>\n",
       "      <td>9.4</td>\n",
       "      <td>1857606.0</td>\n",
       "    </tr>\n",
       "    <tr>\n",
       "      <th>2</th>\n",
       "      <td>Planet Earth</td>\n",
       "      <td>tt0795176</td>\n",
       "      <td>9.4</td>\n",
       "      <td>209359.0</td>\n",
       "    </tr>\n",
       "    <tr>\n",
       "      <th>3</th>\n",
       "      <td>Band of Brothers</td>\n",
       "      <td>tt0185906</td>\n",
       "      <td>9.4</td>\n",
       "      <td>465442.0</td>\n",
       "    </tr>\n",
       "    <tr>\n",
       "      <th>4</th>\n",
       "      <td>Chernobyl</td>\n",
       "      <td>tt7366338</td>\n",
       "      <td>9.3</td>\n",
       "      <td>742477.0</td>\n",
       "    </tr>\n",
       "  </tbody>\n",
       "</table>\n",
       "</div>"
      ],
      "text/plain": [
       "              Title       Code  Rating  Rating Count\n",
       "0   Planet Earth II  tt5491994     9.4      144570.0\n",
       "1      Breaking Bad  tt0903747     9.4     1857606.0\n",
       "2      Planet Earth  tt0795176     9.4      209359.0\n",
       "3  Band of Brothers  tt0185906     9.4      465442.0\n",
       "4         Chernobyl  tt7366338     9.3      742477.0"
      ]
     },
     "execution_count": 93,
     "metadata": {},
     "output_type": "execute_result"
    }
   ],
   "source": [
    "#look at global df\n",
    "imdb_global.head()"
   ]
  },
  {
   "cell_type": "code",
   "execution_count": 94,
   "metadata": {},
   "outputs": [
    {
     "data": {
      "text/plain": [
       "(243, 4)"
      ]
     },
     "execution_count": 94,
     "metadata": {},
     "output_type": "execute_result"
    }
   ],
   "source": [
    "#dimensions\n",
    "avg_rating.shape"
   ]
  },
  {
   "cell_type": "code",
   "execution_count": 95,
   "metadata": {},
   "outputs": [
    {
     "data": {
      "text/plain": [
       "(250, 4)"
      ]
     },
     "execution_count": 95,
     "metadata": {},
     "output_type": "execute_result"
    }
   ],
   "source": [
    "#dimensions\n",
    "imdb_global.shape"
   ]
  },
  {
   "cell_type": "code",
   "execution_count": 96,
   "metadata": {},
   "outputs": [
    {
     "data": {
      "text/plain": [
       "243"
      ]
     },
     "execution_count": 96,
     "metadata": {},
     "output_type": "execute_result"
    }
   ],
   "source": [
    "#number of unique titles\n",
    "len(imdb['Title'].unique())"
   ]
  },
  {
   "cell_type": "code",
   "execution_count": 97,
   "metadata": {},
   "outputs": [
    {
     "data": {
      "text/plain": [
       "245"
      ]
     },
     "execution_count": 97,
     "metadata": {},
     "output_type": "execute_result"
    }
   ],
   "source": [
    "#number of unique titles\n",
    "len(imdb_global['Title'].unique())"
   ]
  },
  {
   "cell_type": "code",
   "execution_count": 98,
   "metadata": {
    "collapsed": true
   },
   "outputs": [],
   "source": [
    "#lists of unique titles dont match up"
   ]
  },
  {
   "cell_type": "code",
   "execution_count": 99,
   "metadata": {
    "collapsed": true
   },
   "outputs": [],
   "source": [
    "#get distinct titles from each df\n",
    "a = imdb['Title'].unique()\n",
    "b = imdb_global['Title'].unique()"
   ]
  },
  {
   "cell_type": "code",
   "execution_count": 100,
   "metadata": {},
   "outputs": [
    {
     "data": {
      "text/plain": [
       "243"
      ]
     },
     "execution_count": 100,
     "metadata": {},
     "output_type": "execute_result"
    }
   ],
   "source": [
    "#filter imdb_global to contain only titles from list of distinct titles from imdb\n",
    "similar = imdb_global[imdb_global['Title'].isin(a)]\n",
    "len(similar['Title'].unique())"
   ]
  },
  {
   "cell_type": "code",
   "execution_count": 101,
   "metadata": {},
   "outputs": [
    {
     "data": {
      "text/html": [
       "<div>\n",
       "<style scoped>\n",
       "    .dataframe tbody tr th:only-of-type {\n",
       "        vertical-align: middle;\n",
       "    }\n",
       "\n",
       "    .dataframe tbody tr th {\n",
       "        vertical-align: top;\n",
       "    }\n",
       "\n",
       "    .dataframe thead th {\n",
       "        text-align: right;\n",
       "    }\n",
       "</style>\n",
       "<table border=\"1\" class=\"dataframe\">\n",
       "  <thead>\n",
       "    <tr style=\"text-align: right;\">\n",
       "      <th></th>\n",
       "      <th>Title</th>\n",
       "      <th>Code</th>\n",
       "      <th>Rating</th>\n",
       "      <th>Rating Count</th>\n",
       "    </tr>\n",
       "  </thead>\n",
       "  <tbody>\n",
       "    <tr>\n",
       "      <th>0</th>\n",
       "      <td>Planet Earth II</td>\n",
       "      <td>tt5491994</td>\n",
       "      <td>9.4</td>\n",
       "      <td>144570.0</td>\n",
       "    </tr>\n",
       "    <tr>\n",
       "      <th>1</th>\n",
       "      <td>Breaking Bad</td>\n",
       "      <td>tt0903747</td>\n",
       "      <td>9.4</td>\n",
       "      <td>1857606.0</td>\n",
       "    </tr>\n",
       "    <tr>\n",
       "      <th>2</th>\n",
       "      <td>Planet Earth</td>\n",
       "      <td>tt0795176</td>\n",
       "      <td>9.4</td>\n",
       "      <td>209359.0</td>\n",
       "    </tr>\n",
       "    <tr>\n",
       "      <th>3</th>\n",
       "      <td>Band of Brothers</td>\n",
       "      <td>tt0185906</td>\n",
       "      <td>9.4</td>\n",
       "      <td>465442.0</td>\n",
       "    </tr>\n",
       "    <tr>\n",
       "      <th>4</th>\n",
       "      <td>Chernobyl</td>\n",
       "      <td>tt7366338</td>\n",
       "      <td>9.3</td>\n",
       "      <td>742477.0</td>\n",
       "    </tr>\n",
       "  </tbody>\n",
       "</table>\n",
       "</div>"
      ],
      "text/plain": [
       "              Title       Code  Rating  Rating Count\n",
       "0   Planet Earth II  tt5491994     9.4      144570.0\n",
       "1      Breaking Bad  tt0903747     9.4     1857606.0\n",
       "2      Planet Earth  tt0795176     9.4      209359.0\n",
       "3  Band of Brothers  tt0185906     9.4      465442.0\n",
       "4         Chernobyl  tt7366338     9.3      742477.0"
      ]
     },
     "execution_count": 101,
     "metadata": {},
     "output_type": "execute_result"
    }
   ],
   "source": [
    "#now we are working with 2 dfs (avg_rating, similar) that contain the same values in 'Title'\n",
    "similar.head()"
   ]
  },
  {
   "cell_type": "code",
   "execution_count": 102,
   "metadata": {},
   "outputs": [
    {
     "data": {
      "text/html": [
       "<div>\n",
       "<style scoped>\n",
       "    .dataframe tbody tr th:only-of-type {\n",
       "        vertical-align: middle;\n",
       "    }\n",
       "\n",
       "    .dataframe tbody tr th {\n",
       "        vertical-align: top;\n",
       "    }\n",
       "\n",
       "    .dataframe thead th {\n",
       "        text-align: right;\n",
       "    }\n",
       "</style>\n",
       "<table border=\"1\" class=\"dataframe\">\n",
       "  <thead>\n",
       "    <tr style=\"text-align: right;\">\n",
       "      <th></th>\n",
       "      <th>Title</th>\n",
       "      <th>Season</th>\n",
       "      <th>Episode</th>\n",
       "      <th>Rating</th>\n",
       "    </tr>\n",
       "  </thead>\n",
       "  <tbody>\n",
       "    <tr>\n",
       "      <th>0</th>\n",
       "      <td>1883</td>\n",
       "      <td>1.000000</td>\n",
       "      <td>5.500000</td>\n",
       "      <td>8.600000</td>\n",
       "    </tr>\n",
       "    <tr>\n",
       "      <th>1</th>\n",
       "      <td>Adventure Time</td>\n",
       "      <td>5.125448</td>\n",
       "      <td>16.681004</td>\n",
       "      <td>8.015771</td>\n",
       "    </tr>\n",
       "    <tr>\n",
       "      <th>2</th>\n",
       "      <td>Africa</td>\n",
       "      <td>1.000000</td>\n",
       "      <td>3.500000</td>\n",
       "      <td>8.450000</td>\n",
       "    </tr>\n",
       "    <tr>\n",
       "      <th>3</th>\n",
       "      <td>Alfred Hitchcock Presents</td>\n",
       "      <td>3.988806</td>\n",
       "      <td>19.656716</td>\n",
       "      <td>7.134328</td>\n",
       "    </tr>\n",
       "    <tr>\n",
       "      <th>4</th>\n",
       "      <td>Anne with an E</td>\n",
       "      <td>2.111111</td>\n",
       "      <td>5.111111</td>\n",
       "      <td>8.744444</td>\n",
       "    </tr>\n",
       "  </tbody>\n",
       "</table>\n",
       "</div>"
      ],
      "text/plain": [
       "                       Title    Season    Episode    Rating\n",
       "0                       1883  1.000000   5.500000  8.600000\n",
       "1             Adventure Time  5.125448  16.681004  8.015771\n",
       "2                     Africa  1.000000   3.500000  8.450000\n",
       "3  Alfred Hitchcock Presents  3.988806  19.656716  7.134328\n",
       "4             Anne with an E  2.111111   5.111111  8.744444"
      ]
     },
     "execution_count": 102,
     "metadata": {},
     "output_type": "execute_result"
    }
   ],
   "source": [
    "avg_rating.head()"
   ]
  },
  {
   "cell_type": "code",
   "execution_count": 103,
   "metadata": {},
   "outputs": [
    {
     "data": {
      "text/plain": [
       "(243, 4)"
      ]
     },
     "execution_count": 103,
     "metadata": {},
     "output_type": "execute_result"
    }
   ],
   "source": [
    "avg_rating.shape"
   ]
  },
  {
   "cell_type": "code",
   "execution_count": 104,
   "metadata": {},
   "outputs": [
    {
     "data": {
      "text/plain": [
       "(248, 4)"
      ]
     },
     "execution_count": 104,
     "metadata": {},
     "output_type": "execute_result"
    }
   ],
   "source": [
    "similar.shape"
   ]
  },
  {
   "cell_type": "code",
   "execution_count": 105,
   "metadata": {
    "collapsed": true
   },
   "outputs": [],
   "source": [
    "#lists of unique titles match up, but df shapes don't match up so we need to drop duplicate entries in similar"
   ]
  },
  {
   "cell_type": "code",
   "execution_count": 106,
   "metadata": {},
   "outputs": [
    {
     "data": {
      "text/plain": [
       "(243, 4)"
      ]
     },
     "execution_count": 106,
     "metadata": {},
     "output_type": "execute_result"
    }
   ],
   "source": [
    "#drop duplicate titles. Now we have dfs of equal shape, and with the same list of titles. Just need to to sort titles in similar\n",
    "#so that we can simply subtract to find the difference between global series rating and mean episode rating\n",
    "similar = similar.drop_duplicates(subset='Title')\n",
    "similar.shape"
   ]
  },
  {
   "cell_type": "code",
   "execution_count": 107,
   "metadata": {},
   "outputs": [
    {
     "data": {
      "text/html": [
       "<div>\n",
       "<style scoped>\n",
       "    .dataframe tbody tr th:only-of-type {\n",
       "        vertical-align: middle;\n",
       "    }\n",
       "\n",
       "    .dataframe tbody tr th {\n",
       "        vertical-align: top;\n",
       "    }\n",
       "\n",
       "    .dataframe thead th {\n",
       "        text-align: right;\n",
       "    }\n",
       "</style>\n",
       "<table border=\"1\" class=\"dataframe\">\n",
       "  <thead>\n",
       "    <tr style=\"text-align: right;\">\n",
       "      <th></th>\n",
       "      <th>Title</th>\n",
       "      <th>Code</th>\n",
       "      <th>Rating</th>\n",
       "      <th>Rating Count</th>\n",
       "    </tr>\n",
       "  </thead>\n",
       "  <tbody>\n",
       "    <tr>\n",
       "      <th>113</th>\n",
       "      <td>1883</td>\n",
       "      <td>tt13991232</td>\n",
       "      <td>8.6</td>\n",
       "      <td>65379.0</td>\n",
       "    </tr>\n",
       "    <tr>\n",
       "      <th>147</th>\n",
       "      <td>Adventure Time</td>\n",
       "      <td>tt1305826</td>\n",
       "      <td>8.6</td>\n",
       "      <td>95052.0</td>\n",
       "    </tr>\n",
       "    <tr>\n",
       "      <th>50</th>\n",
       "      <td>Africa</td>\n",
       "      <td>tt2571774</td>\n",
       "      <td>8.8</td>\n",
       "      <td>16116.0</td>\n",
       "    </tr>\n",
       "    <tr>\n",
       "      <th>234</th>\n",
       "      <td>Alfred Hitchcock Presents</td>\n",
       "      <td>tt0047708</td>\n",
       "      <td>8.4</td>\n",
       "      <td>17524.0</td>\n",
       "    </tr>\n",
       "    <tr>\n",
       "      <th>152</th>\n",
       "      <td>Anne with an E</td>\n",
       "      <td>tt5421602</td>\n",
       "      <td>8.5</td>\n",
       "      <td>55040.0</td>\n",
       "    </tr>\n",
       "  </tbody>\n",
       "</table>\n",
       "</div>"
      ],
      "text/plain": [
       "                         Title        Code  Rating  Rating Count\n",
       "113                       1883  tt13991232     8.6       65379.0\n",
       "147             Adventure Time   tt1305826     8.6       95052.0\n",
       "50                      Africa   tt2571774     8.8       16116.0\n",
       "234  Alfred Hitchcock Presents   tt0047708     8.4       17524.0\n",
       "152             Anne with an E   tt5421602     8.5       55040.0"
      ]
     },
     "execution_count": 107,
     "metadata": {},
     "output_type": "execute_result"
    }
   ],
   "source": [
    "#sort titles in alphabetical order\n",
    "similar = similar.sort_values(by='Title', ascending=True)\n",
    "similar.head()"
   ]
  },
  {
   "cell_type": "code",
   "execution_count": 108,
   "metadata": {},
   "outputs": [
    {
     "data": {
      "text/html": [
       "<div>\n",
       "<style scoped>\n",
       "    .dataframe tbody tr th:only-of-type {\n",
       "        vertical-align: middle;\n",
       "    }\n",
       "\n",
       "    .dataframe tbody tr th {\n",
       "        vertical-align: top;\n",
       "    }\n",
       "\n",
       "    .dataframe thead th {\n",
       "        text-align: right;\n",
       "    }\n",
       "</style>\n",
       "<table border=\"1\" class=\"dataframe\">\n",
       "  <thead>\n",
       "    <tr style=\"text-align: right;\">\n",
       "      <th></th>\n",
       "      <th>Title</th>\n",
       "      <th>Rating</th>\n",
       "    </tr>\n",
       "  </thead>\n",
       "  <tbody>\n",
       "    <tr>\n",
       "      <th>113</th>\n",
       "      <td>1883</td>\n",
       "      <td>8.6</td>\n",
       "    </tr>\n",
       "    <tr>\n",
       "      <th>147</th>\n",
       "      <td>Adventure Time</td>\n",
       "      <td>8.6</td>\n",
       "    </tr>\n",
       "    <tr>\n",
       "      <th>50</th>\n",
       "      <td>Africa</td>\n",
       "      <td>8.8</td>\n",
       "    </tr>\n",
       "    <tr>\n",
       "      <th>234</th>\n",
       "      <td>Alfred Hitchcock Presents</td>\n",
       "      <td>8.4</td>\n",
       "    </tr>\n",
       "    <tr>\n",
       "      <th>152</th>\n",
       "      <td>Anne with an E</td>\n",
       "      <td>8.5</td>\n",
       "    </tr>\n",
       "    <tr>\n",
       "      <th>...</th>\n",
       "      <td>...</td>\n",
       "      <td>...</td>\n",
       "    </tr>\n",
       "    <tr>\n",
       "      <th>144</th>\n",
       "      <td>Yellowstone</td>\n",
       "      <td>8.6</td>\n",
       "    </tr>\n",
       "    <tr>\n",
       "      <th>156</th>\n",
       "      <td>Yes Minister</td>\n",
       "      <td>8.5</td>\n",
       "    </tr>\n",
       "    <tr>\n",
       "      <th>185</th>\n",
       "      <td>Yes, Prime Minister</td>\n",
       "      <td>8.5</td>\n",
       "    </tr>\n",
       "    <tr>\n",
       "      <th>138</th>\n",
       "      <td>Young Justice</td>\n",
       "      <td>8.6</td>\n",
       "    </tr>\n",
       "    <tr>\n",
       "      <th>237</th>\n",
       "      <td>Your Lie in April</td>\n",
       "      <td>8.4</td>\n",
       "    </tr>\n",
       "  </tbody>\n",
       "</table>\n",
       "<p>243 rows × 2 columns</p>\n",
       "</div>"
      ],
      "text/plain": [
       "                         Title  Rating\n",
       "113                       1883     8.6\n",
       "147             Adventure Time     8.6\n",
       "50                      Africa     8.8\n",
       "234  Alfred Hitchcock Presents     8.4\n",
       "152             Anne with an E     8.5\n",
       "..                         ...     ...\n",
       "144                Yellowstone     8.6\n",
       "156               Yes Minister     8.5\n",
       "185        Yes, Prime Minister     8.5\n",
       "138              Young Justice     8.6\n",
       "237          Your Lie in April     8.4\n",
       "\n",
       "[243 rows x 2 columns]"
      ]
     },
     "execution_count": 108,
     "metadata": {},
     "output_type": "execute_result"
    }
   ],
   "source": [
    "#get relevant columns\n",
    "similar = similar[['Title', 'Rating']]\n",
    "similar"
   ]
  },
  {
   "cell_type": "code",
   "execution_count": 109,
   "metadata": {},
   "outputs": [
    {
     "data": {
      "text/html": [
       "<div>\n",
       "<style scoped>\n",
       "    .dataframe tbody tr th:only-of-type {\n",
       "        vertical-align: middle;\n",
       "    }\n",
       "\n",
       "    .dataframe tbody tr th {\n",
       "        vertical-align: top;\n",
       "    }\n",
       "\n",
       "    .dataframe thead th {\n",
       "        text-align: right;\n",
       "    }\n",
       "</style>\n",
       "<table border=\"1\" class=\"dataframe\">\n",
       "  <thead>\n",
       "    <tr style=\"text-align: right;\">\n",
       "      <th></th>\n",
       "      <th>Title</th>\n",
       "      <th>Rating</th>\n",
       "    </tr>\n",
       "  </thead>\n",
       "  <tbody>\n",
       "    <tr>\n",
       "      <th>0</th>\n",
       "      <td>1883</td>\n",
       "      <td>8.600000</td>\n",
       "    </tr>\n",
       "    <tr>\n",
       "      <th>1</th>\n",
       "      <td>Adventure Time</td>\n",
       "      <td>8.015771</td>\n",
       "    </tr>\n",
       "    <tr>\n",
       "      <th>2</th>\n",
       "      <td>Africa</td>\n",
       "      <td>8.450000</td>\n",
       "    </tr>\n",
       "    <tr>\n",
       "      <th>3</th>\n",
       "      <td>Alfred Hitchcock Presents</td>\n",
       "      <td>7.134328</td>\n",
       "    </tr>\n",
       "    <tr>\n",
       "      <th>4</th>\n",
       "      <td>Anne with an E</td>\n",
       "      <td>8.744444</td>\n",
       "    </tr>\n",
       "    <tr>\n",
       "      <th>...</th>\n",
       "      <td>...</td>\n",
       "      <td>...</td>\n",
       "    </tr>\n",
       "    <tr>\n",
       "      <th>238</th>\n",
       "      <td>Yellowstone</td>\n",
       "      <td>8.384615</td>\n",
       "    </tr>\n",
       "    <tr>\n",
       "      <th>239</th>\n",
       "      <td>Yes Minister</td>\n",
       "      <td>8.327273</td>\n",
       "    </tr>\n",
       "    <tr>\n",
       "      <th>240</th>\n",
       "      <td>Yes, Prime Minister</td>\n",
       "      <td>8.418750</td>\n",
       "    </tr>\n",
       "    <tr>\n",
       "      <th>241</th>\n",
       "      <td>Young Justice</td>\n",
       "      <td>8.916327</td>\n",
       "    </tr>\n",
       "    <tr>\n",
       "      <th>242</th>\n",
       "      <td>Your Lie in April</td>\n",
       "      <td>8.390909</td>\n",
       "    </tr>\n",
       "  </tbody>\n",
       "</table>\n",
       "<p>243 rows × 2 columns</p>\n",
       "</div>"
      ],
      "text/plain": [
       "                         Title    Rating\n",
       "0                         1883  8.600000\n",
       "1               Adventure Time  8.015771\n",
       "2                       Africa  8.450000\n",
       "3    Alfred Hitchcock Presents  7.134328\n",
       "4               Anne with an E  8.744444\n",
       "..                         ...       ...\n",
       "238                Yellowstone  8.384615\n",
       "239               Yes Minister  8.327273\n",
       "240        Yes, Prime Minister  8.418750\n",
       "241              Young Justice  8.916327\n",
       "242          Your Lie in April  8.390909\n",
       "\n",
       "[243 rows x 2 columns]"
      ]
     },
     "execution_count": 109,
     "metadata": {},
     "output_type": "execute_result"
    }
   ],
   "source": [
    "#get relevant columns\n",
    "avg_rating = avg_rating[['Title', 'Rating']]\n",
    "avg_rating"
   ]
  },
  {
   "cell_type": "code",
   "execution_count": 110,
   "metadata": {
    "collapsed": true
   },
   "outputs": [],
   "source": [
    "#a quick scan of the dfs shows us that we have a matching list of titles and shapes, now we can calculate difference"
   ]
  },
  {
   "cell_type": "code",
   "execution_count": 111,
   "metadata": {},
   "outputs": [
    {
     "data": {
      "text/html": [
       "<div>\n",
       "<style scoped>\n",
       "    .dataframe tbody tr th:only-of-type {\n",
       "        vertical-align: middle;\n",
       "    }\n",
       "\n",
       "    .dataframe tbody tr th {\n",
       "        vertical-align: top;\n",
       "    }\n",
       "\n",
       "    .dataframe thead th {\n",
       "        text-align: right;\n",
       "    }\n",
       "</style>\n",
       "<table border=\"1\" class=\"dataframe\">\n",
       "  <thead>\n",
       "    <tr style=\"text-align: right;\">\n",
       "      <th></th>\n",
       "      <th>Title</th>\n",
       "      <th>Series Rating</th>\n",
       "      <th>Mean Episode Rating</th>\n",
       "    </tr>\n",
       "  </thead>\n",
       "  <tbody>\n",
       "    <tr>\n",
       "      <th>0</th>\n",
       "      <td>1883</td>\n",
       "      <td>9.4</td>\n",
       "      <td>8.600000</td>\n",
       "    </tr>\n",
       "    <tr>\n",
       "      <th>1</th>\n",
       "      <td>Adventure Time</td>\n",
       "      <td>9.4</td>\n",
       "      <td>8.015771</td>\n",
       "    </tr>\n",
       "    <tr>\n",
       "      <th>2</th>\n",
       "      <td>Africa</td>\n",
       "      <td>9.4</td>\n",
       "      <td>8.450000</td>\n",
       "    </tr>\n",
       "    <tr>\n",
       "      <th>3</th>\n",
       "      <td>Alfred Hitchcock Presents</td>\n",
       "      <td>9.4</td>\n",
       "      <td>7.134328</td>\n",
       "    </tr>\n",
       "    <tr>\n",
       "      <th>4</th>\n",
       "      <td>Anne with an E</td>\n",
       "      <td>9.3</td>\n",
       "      <td>8.744444</td>\n",
       "    </tr>\n",
       "  </tbody>\n",
       "</table>\n",
       "</div>"
      ],
      "text/plain": [
       "                       Title  Series Rating  Mean Episode Rating\n",
       "0                       1883            9.4             8.600000\n",
       "1             Adventure Time            9.4             8.015771\n",
       "2                     Africa            9.4             8.450000\n",
       "3  Alfred Hitchcock Presents            9.4             7.134328\n",
       "4             Anne with an E            9.3             8.744444"
      ]
     },
     "execution_count": 111,
     "metadata": {},
     "output_type": "execute_result"
    }
   ],
   "source": [
    "#create dictionary, then create dataframe from dictionary\n",
    "d = {'Title': avg_rating['Title'], 'Series Rating': similar['Rating'], 'Mean Episode Rating': avg_rating['Rating']}\n",
    "gap = pd.DataFrame(data=d)\n",
    "gap.head()"
   ]
  },
  {
   "cell_type": "code",
   "execution_count": 112,
   "metadata": {
    "collapsed": true
   },
   "outputs": [],
   "source": [
    "#didnt give me the right order of values for 'Series Rating', will try reindexing"
   ]
  },
  {
   "cell_type": "code",
   "execution_count": 113,
   "metadata": {
    "collapsed": true
   },
   "outputs": [],
   "source": [
    "#reset index\n",
    "similar.reset_index(inplace=True)"
   ]
  },
  {
   "cell_type": "code",
   "execution_count": 114,
   "metadata": {},
   "outputs": [
    {
     "data": {
      "text/html": [
       "<div>\n",
       "<style scoped>\n",
       "    .dataframe tbody tr th:only-of-type {\n",
       "        vertical-align: middle;\n",
       "    }\n",
       "\n",
       "    .dataframe tbody tr th {\n",
       "        vertical-align: top;\n",
       "    }\n",
       "\n",
       "    .dataframe thead th {\n",
       "        text-align: right;\n",
       "    }\n",
       "</style>\n",
       "<table border=\"1\" class=\"dataframe\">\n",
       "  <thead>\n",
       "    <tr style=\"text-align: right;\">\n",
       "      <th></th>\n",
       "      <th>Title</th>\n",
       "      <th>Rating</th>\n",
       "    </tr>\n",
       "  </thead>\n",
       "  <tbody>\n",
       "    <tr>\n",
       "      <th>0</th>\n",
       "      <td>1883</td>\n",
       "      <td>8.6</td>\n",
       "    </tr>\n",
       "    <tr>\n",
       "      <th>1</th>\n",
       "      <td>Adventure Time</td>\n",
       "      <td>8.6</td>\n",
       "    </tr>\n",
       "    <tr>\n",
       "      <th>2</th>\n",
       "      <td>Africa</td>\n",
       "      <td>8.8</td>\n",
       "    </tr>\n",
       "    <tr>\n",
       "      <th>3</th>\n",
       "      <td>Alfred Hitchcock Presents</td>\n",
       "      <td>8.4</td>\n",
       "    </tr>\n",
       "    <tr>\n",
       "      <th>4</th>\n",
       "      <td>Anne with an E</td>\n",
       "      <td>8.5</td>\n",
       "    </tr>\n",
       "  </tbody>\n",
       "</table>\n",
       "</div>"
      ],
      "text/plain": [
       "                       Title  Rating\n",
       "0                       1883     8.6\n",
       "1             Adventure Time     8.6\n",
       "2                     Africa     8.8\n",
       "3  Alfred Hitchcock Presents     8.4\n",
       "4             Anne with an E     8.5"
      ]
     },
     "execution_count": 114,
     "metadata": {},
     "output_type": "execute_result"
    }
   ],
   "source": [
    "#get relevant columns\n",
    "similar = similar[['Title', 'Rating']]\n",
    "similar.head()"
   ]
  },
  {
   "cell_type": "code",
   "execution_count": 115,
   "metadata": {},
   "outputs": [
    {
     "data": {
      "text/html": [
       "<div>\n",
       "<style scoped>\n",
       "    .dataframe tbody tr th:only-of-type {\n",
       "        vertical-align: middle;\n",
       "    }\n",
       "\n",
       "    .dataframe tbody tr th {\n",
       "        vertical-align: top;\n",
       "    }\n",
       "\n",
       "    .dataframe thead th {\n",
       "        text-align: right;\n",
       "    }\n",
       "</style>\n",
       "<table border=\"1\" class=\"dataframe\">\n",
       "  <thead>\n",
       "    <tr style=\"text-align: right;\">\n",
       "      <th></th>\n",
       "      <th>Title</th>\n",
       "      <th>Series Rating</th>\n",
       "      <th>Mean Episode Rating</th>\n",
       "    </tr>\n",
       "  </thead>\n",
       "  <tbody>\n",
       "    <tr>\n",
       "      <th>0</th>\n",
       "      <td>1883</td>\n",
       "      <td>8.6</td>\n",
       "      <td>8.6</td>\n",
       "    </tr>\n",
       "    <tr>\n",
       "      <th>1</th>\n",
       "      <td>Adventure Time</td>\n",
       "      <td>8.6</td>\n",
       "      <td>8.0</td>\n",
       "    </tr>\n",
       "    <tr>\n",
       "      <th>2</th>\n",
       "      <td>Africa</td>\n",
       "      <td>8.8</td>\n",
       "      <td>8.5</td>\n",
       "    </tr>\n",
       "    <tr>\n",
       "      <th>3</th>\n",
       "      <td>Alfred Hitchcock Presents</td>\n",
       "      <td>8.4</td>\n",
       "      <td>7.1</td>\n",
       "    </tr>\n",
       "    <tr>\n",
       "      <th>4</th>\n",
       "      <td>Anne with an E</td>\n",
       "      <td>8.5</td>\n",
       "      <td>8.7</td>\n",
       "    </tr>\n",
       "  </tbody>\n",
       "</table>\n",
       "</div>"
      ],
      "text/plain": [
       "                       Title  Series Rating  Mean Episode Rating\n",
       "0                       1883            8.6                  8.6\n",
       "1             Adventure Time            8.6                  8.0\n",
       "2                     Africa            8.8                  8.5\n",
       "3  Alfred Hitchcock Presents            8.4                  7.1\n",
       "4             Anne with an E            8.5                  8.7"
      ]
     },
     "execution_count": 115,
     "metadata": {},
     "output_type": "execute_result"
    }
   ],
   "source": [
    "#re-indexing worked, everything is lined up now\n",
    "#create dictionary, then create dataframe from dictionary\n",
    "d = {'Title': avg_rating['Title'], 'Series Rating': similar['Rating'], 'Mean Episode Rating': round(avg_rating['Rating'],1)}\n",
    "gap = pd.DataFrame(data=d)\n",
    "gap.head()"
   ]
  },
  {
   "cell_type": "code",
   "execution_count": 116,
   "metadata": {},
   "outputs": [
    {
     "data": {
      "text/html": [
       "<div>\n",
       "<style scoped>\n",
       "    .dataframe tbody tr th:only-of-type {\n",
       "        vertical-align: middle;\n",
       "    }\n",
       "\n",
       "    .dataframe tbody tr th {\n",
       "        vertical-align: top;\n",
       "    }\n",
       "\n",
       "    .dataframe thead th {\n",
       "        text-align: right;\n",
       "    }\n",
       "</style>\n",
       "<table border=\"1\" class=\"dataframe\">\n",
       "  <thead>\n",
       "    <tr style=\"text-align: right;\">\n",
       "      <th></th>\n",
       "      <th>Title</th>\n",
       "      <th>Series Rating</th>\n",
       "      <th>Mean Episode Rating</th>\n",
       "      <th>Gap</th>\n",
       "    </tr>\n",
       "  </thead>\n",
       "  <tbody>\n",
       "    <tr>\n",
       "      <th>0</th>\n",
       "      <td>1883</td>\n",
       "      <td>8.6</td>\n",
       "      <td>8.6</td>\n",
       "      <td>0.0</td>\n",
       "    </tr>\n",
       "    <tr>\n",
       "      <th>1</th>\n",
       "      <td>Adventure Time</td>\n",
       "      <td>8.6</td>\n",
       "      <td>8.0</td>\n",
       "      <td>0.6</td>\n",
       "    </tr>\n",
       "    <tr>\n",
       "      <th>2</th>\n",
       "      <td>Africa</td>\n",
       "      <td>8.8</td>\n",
       "      <td>8.5</td>\n",
       "      <td>0.3</td>\n",
       "    </tr>\n",
       "    <tr>\n",
       "      <th>3</th>\n",
       "      <td>Alfred Hitchcock Presents</td>\n",
       "      <td>8.4</td>\n",
       "      <td>7.1</td>\n",
       "      <td>1.3</td>\n",
       "    </tr>\n",
       "    <tr>\n",
       "      <th>4</th>\n",
       "      <td>Anne with an E</td>\n",
       "      <td>8.5</td>\n",
       "      <td>8.7</td>\n",
       "      <td>-0.2</td>\n",
       "    </tr>\n",
       "  </tbody>\n",
       "</table>\n",
       "</div>"
      ],
      "text/plain": [
       "                       Title  Series Rating  Mean Episode Rating  Gap\n",
       "0                       1883            8.6                  8.6  0.0\n",
       "1             Adventure Time            8.6                  8.0  0.6\n",
       "2                     Africa            8.8                  8.5  0.3\n",
       "3  Alfred Hitchcock Presents            8.4                  7.1  1.3\n",
       "4             Anne with an E            8.5                  8.7 -0.2"
      ]
     },
     "execution_count": 116,
     "metadata": {},
     "output_type": "execute_result"
    }
   ],
   "source": [
    "#create column for gap calculation. Here we are defining the difference in series rating and mean episode rating by:\n",
    "#(series rating) - (mean episode rating)\n",
    "gap['Gap'] = gap['Series Rating'] - gap['Mean Episode Rating']\n",
    "gap.head()"
   ]
  },
  {
   "cell_type": "code",
   "execution_count": 117,
   "metadata": {},
   "outputs": [
    {
     "data": {
      "text/html": [
       "<div>\n",
       "<style scoped>\n",
       "    .dataframe tbody tr th:only-of-type {\n",
       "        vertical-align: middle;\n",
       "    }\n",
       "\n",
       "    .dataframe tbody tr th {\n",
       "        vertical-align: top;\n",
       "    }\n",
       "\n",
       "    .dataframe thead th {\n",
       "        text-align: right;\n",
       "    }\n",
       "</style>\n",
       "<table border=\"1\" class=\"dataframe\">\n",
       "  <thead>\n",
       "    <tr style=\"text-align: right;\">\n",
       "      <th></th>\n",
       "      <th>Title</th>\n",
       "      <th>Series Rating</th>\n",
       "      <th>Mean Episode Rating</th>\n",
       "      <th>Gap</th>\n",
       "    </tr>\n",
       "  </thead>\n",
       "  <tbody>\n",
       "    <tr>\n",
       "      <th>119</th>\n",
       "      <td>Mahabharat</td>\n",
       "      <td>8.6</td>\n",
       "      <td>6.3</td>\n",
       "      <td>2.3</td>\n",
       "    </tr>\n",
       "    <tr>\n",
       "      <th>216</th>\n",
       "      <td>The Twilight Zone</td>\n",
       "      <td>9.0</td>\n",
       "      <td>7.5</td>\n",
       "      <td>1.5</td>\n",
       "    </tr>\n",
       "    <tr>\n",
       "      <th>213</th>\n",
       "      <td>The Simpsons</td>\n",
       "      <td>8.7</td>\n",
       "      <td>7.2</td>\n",
       "      <td>1.5</td>\n",
       "    </tr>\n",
       "    <tr>\n",
       "      <th>150</th>\n",
       "      <td>QI</td>\n",
       "      <td>8.5</td>\n",
       "      <td>7.1</td>\n",
       "      <td>1.4</td>\n",
       "    </tr>\n",
       "    <tr>\n",
       "      <th>3</th>\n",
       "      <td>Alfred Hitchcock Presents</td>\n",
       "      <td>8.4</td>\n",
       "      <td>7.1</td>\n",
       "      <td>1.3</td>\n",
       "    </tr>\n",
       "    <tr>\n",
       "      <th>...</th>\n",
       "      <td>...</td>\n",
       "      <td>...</td>\n",
       "      <td>...</td>\n",
       "      <td>...</td>\n",
       "    </tr>\n",
       "    <tr>\n",
       "      <th>88</th>\n",
       "      <td>Gullak</td>\n",
       "      <td>8.6</td>\n",
       "      <td>9.0</td>\n",
       "      <td>-0.4</td>\n",
       "    </tr>\n",
       "    <tr>\n",
       "      <th>152</th>\n",
       "      <td>Ramayan</td>\n",
       "      <td>8.6</td>\n",
       "      <td>9.0</td>\n",
       "      <td>-0.4</td>\n",
       "    </tr>\n",
       "    <tr>\n",
       "      <th>127</th>\n",
       "      <td>Mr. Robot</td>\n",
       "      <td>8.5</td>\n",
       "      <td>8.9</td>\n",
       "      <td>-0.4</td>\n",
       "    </tr>\n",
       "    <tr>\n",
       "      <th>231</th>\n",
       "      <td>Wentworth</td>\n",
       "      <td>8.4</td>\n",
       "      <td>8.8</td>\n",
       "      <td>-0.4</td>\n",
       "    </tr>\n",
       "    <tr>\n",
       "      <th>10</th>\n",
       "      <td>Aspirants</td>\n",
       "      <td>8.6</td>\n",
       "      <td>9.3</td>\n",
       "      <td>-0.7</td>\n",
       "    </tr>\n",
       "  </tbody>\n",
       "</table>\n",
       "<p>243 rows × 4 columns</p>\n",
       "</div>"
      ],
      "text/plain": [
       "                         Title  Series Rating  Mean Episode Rating  Gap\n",
       "119                 Mahabharat            8.6                  6.3  2.3\n",
       "216          The Twilight Zone            9.0                  7.5  1.5\n",
       "213               The Simpsons            8.7                  7.2  1.5\n",
       "150                         QI            8.5                  7.1  1.4\n",
       "3    Alfred Hitchcock Presents            8.4                  7.1  1.3\n",
       "..                         ...            ...                  ...  ...\n",
       "88                      Gullak            8.6                  9.0 -0.4\n",
       "152                    Ramayan            8.6                  9.0 -0.4\n",
       "127                  Mr. Robot            8.5                  8.9 -0.4\n",
       "231                  Wentworth            8.4                  8.8 -0.4\n",
       "10                   Aspirants            8.6                  9.3 -0.7\n",
       "\n",
       "[243 rows x 4 columns]"
      ]
     },
     "execution_count": 117,
     "metadata": {},
     "output_type": "execute_result"
    }
   ],
   "source": [
    "#Top 5 and Bottom 5 results for 'Gap' variable\n",
    "#sort values to see which series has the biggest discrepency\n",
    "gap.sort_values(by='Gap', ascending=False)"
   ]
  },
  {
   "cell_type": "markdown",
   "metadata": {},
   "source": [
    "Based on this output, Mahabharat has the biggest difference between Series Rating and Mean Episode Rating. Specifically, the overall series rating was much higher than the mean episode rating.\n",
    "\n",
    "Adversly, Aspiriants has the biggest difference in the opposite direction. Meaning that the Mean Episode Rating was higher than the Series Rating. Lets take a closer look at these series."
   ]
  },
  {
   "cell_type": "code",
   "execution_count": 118,
   "metadata": {},
   "outputs": [
    {
     "data": {
      "text/html": [
       "<div>\n",
       "<style scoped>\n",
       "    .dataframe tbody tr th:only-of-type {\n",
       "        vertical-align: middle;\n",
       "    }\n",
       "\n",
       "    .dataframe tbody tr th {\n",
       "        vertical-align: top;\n",
       "    }\n",
       "\n",
       "    .dataframe thead th {\n",
       "        text-align: right;\n",
       "    }\n",
       "</style>\n",
       "<table border=\"1\" class=\"dataframe\">\n",
       "  <thead>\n",
       "    <tr style=\"text-align: right;\">\n",
       "      <th></th>\n",
       "      <th>Season</th>\n",
       "      <th>Episode</th>\n",
       "      <th>Rating</th>\n",
       "    </tr>\n",
       "  </thead>\n",
       "  <tbody>\n",
       "    <tr>\n",
       "      <th>count</th>\n",
       "      <td>94.0</td>\n",
       "      <td>94.000000</td>\n",
       "      <td>94.000000</td>\n",
       "    </tr>\n",
       "    <tr>\n",
       "      <th>mean</th>\n",
       "      <td>1.0</td>\n",
       "      <td>47.500000</td>\n",
       "      <td>6.327660</td>\n",
       "    </tr>\n",
       "    <tr>\n",
       "      <th>std</th>\n",
       "      <td>0.0</td>\n",
       "      <td>27.279418</td>\n",
       "      <td>0.712923</td>\n",
       "    </tr>\n",
       "    <tr>\n",
       "      <th>min</th>\n",
       "      <td>1.0</td>\n",
       "      <td>1.000000</td>\n",
       "      <td>4.900000</td>\n",
       "    </tr>\n",
       "    <tr>\n",
       "      <th>25%</th>\n",
       "      <td>1.0</td>\n",
       "      <td>24.250000</td>\n",
       "      <td>5.800000</td>\n",
       "    </tr>\n",
       "    <tr>\n",
       "      <th>50%</th>\n",
       "      <td>1.0</td>\n",
       "      <td>47.500000</td>\n",
       "      <td>6.500000</td>\n",
       "    </tr>\n",
       "    <tr>\n",
       "      <th>75%</th>\n",
       "      <td>1.0</td>\n",
       "      <td>70.750000</td>\n",
       "      <td>6.800000</td>\n",
       "    </tr>\n",
       "    <tr>\n",
       "      <th>max</th>\n",
       "      <td>1.0</td>\n",
       "      <td>94.000000</td>\n",
       "      <td>7.800000</td>\n",
       "    </tr>\n",
       "  </tbody>\n",
       "</table>\n",
       "</div>"
      ],
      "text/plain": [
       "       Season    Episode     Rating\n",
       "count    94.0  94.000000  94.000000\n",
       "mean      1.0  47.500000   6.327660\n",
       "std       0.0  27.279418   0.712923\n",
       "min       1.0   1.000000   4.900000\n",
       "25%       1.0  24.250000   5.800000\n",
       "50%       1.0  47.500000   6.500000\n",
       "75%       1.0  70.750000   6.800000\n",
       "max       1.0  94.000000   7.800000"
      ]
     },
     "execution_count": 118,
     "metadata": {},
     "output_type": "execute_result"
    }
   ],
   "source": [
    "#Mahabharat description\n",
    "imdb[imdb['Title'] == 'Mahabharat'].describe()"
   ]
  },
  {
   "cell_type": "code",
   "execution_count": 119,
   "metadata": {},
   "outputs": [
    {
     "data": {
      "text/html": [
       "<div>\n",
       "<style scoped>\n",
       "    .dataframe tbody tr th:only-of-type {\n",
       "        vertical-align: middle;\n",
       "    }\n",
       "\n",
       "    .dataframe tbody tr th {\n",
       "        vertical-align: top;\n",
       "    }\n",
       "\n",
       "    .dataframe thead th {\n",
       "        text-align: right;\n",
       "    }\n",
       "</style>\n",
       "<table border=\"1\" class=\"dataframe\">\n",
       "  <thead>\n",
       "    <tr style=\"text-align: right;\">\n",
       "      <th></th>\n",
       "      <th>Title</th>\n",
       "      <th>Code</th>\n",
       "      <th>Rating</th>\n",
       "      <th>Rating Count</th>\n",
       "    </tr>\n",
       "  </thead>\n",
       "  <tbody>\n",
       "    <tr>\n",
       "      <th>115</th>\n",
       "      <td>Mahabharat</td>\n",
       "      <td>tt0158417</td>\n",
       "      <td>8.6</td>\n",
       "      <td>19261.0</td>\n",
       "    </tr>\n",
       "  </tbody>\n",
       "</table>\n",
       "</div>"
      ],
      "text/plain": [
       "          Title       Code  Rating  Rating Count\n",
       "115  Mahabharat  tt0158417     8.6       19261.0"
      ]
     },
     "execution_count": 119,
     "metadata": {},
     "output_type": "execute_result"
    }
   ],
   "source": [
    "imdb_global[imdb_global['Title'] == 'Mahabharat']"
   ]
  },
  {
   "cell_type": "code",
   "execution_count": 120,
   "metadata": {},
   "outputs": [
    {
     "data": {
      "text/html": [
       "<div>\n",
       "<style scoped>\n",
       "    .dataframe tbody tr th:only-of-type {\n",
       "        vertical-align: middle;\n",
       "    }\n",
       "\n",
       "    .dataframe tbody tr th {\n",
       "        vertical-align: top;\n",
       "    }\n",
       "\n",
       "    .dataframe thead th {\n",
       "        text-align: right;\n",
       "    }\n",
       "</style>\n",
       "<table border=\"1\" class=\"dataframe\">\n",
       "  <thead>\n",
       "    <tr style=\"text-align: right;\">\n",
       "      <th></th>\n",
       "      <th>Rating</th>\n",
       "      <th>Rating Count</th>\n",
       "    </tr>\n",
       "  </thead>\n",
       "  <tbody>\n",
       "    <tr>\n",
       "      <th>count</th>\n",
       "      <td>250.000000</td>\n",
       "      <td>2.500000e+02</td>\n",
       "    </tr>\n",
       "    <tr>\n",
       "      <th>mean</th>\n",
       "      <td>8.651200</td>\n",
       "      <td>1.501960e+05</td>\n",
       "    </tr>\n",
       "    <tr>\n",
       "      <th>std</th>\n",
       "      <td>0.217919</td>\n",
       "      <td>2.382084e+05</td>\n",
       "    </tr>\n",
       "    <tr>\n",
       "      <th>min</th>\n",
       "      <td>8.400000</td>\n",
       "      <td>1.026700e+04</td>\n",
       "    </tr>\n",
       "    <tr>\n",
       "      <th>25%</th>\n",
       "      <td>8.500000</td>\n",
       "      <td>2.968150e+04</td>\n",
       "    </tr>\n",
       "    <tr>\n",
       "      <th>50%</th>\n",
       "      <td>8.600000</td>\n",
       "      <td>6.812200e+04</td>\n",
       "    </tr>\n",
       "    <tr>\n",
       "      <th>75%</th>\n",
       "      <td>8.700000</td>\n",
       "      <td>1.574478e+05</td>\n",
       "    </tr>\n",
       "    <tr>\n",
       "      <th>max</th>\n",
       "      <td>9.400000</td>\n",
       "      <td>2.078524e+06</td>\n",
       "    </tr>\n",
       "  </tbody>\n",
       "</table>\n",
       "</div>"
      ],
      "text/plain": [
       "           Rating  Rating Count\n",
       "count  250.000000  2.500000e+02\n",
       "mean     8.651200  1.501960e+05\n",
       "std      0.217919  2.382084e+05\n",
       "min      8.400000  1.026700e+04\n",
       "25%      8.500000  2.968150e+04\n",
       "50%      8.600000  6.812200e+04\n",
       "75%      8.700000  1.574478e+05\n",
       "max      9.400000  2.078524e+06"
      ]
     },
     "execution_count": 120,
     "metadata": {},
     "output_type": "execute_result"
    }
   ],
   "source": [
    "#imdb_global description\n",
    "imdb_global.describe()"
   ]
  },
  {
   "cell_type": "code",
   "execution_count": 121,
   "metadata": {},
   "outputs": [
    {
     "data": {
      "image/png": "[encoded data removed]",
      "text/plain": [
       "<matplotlib.figure.Figure at 0x1d9a0fb22e8>"
      ]
     },
     "metadata": {},
     "output_type": "display_data"
    }
   ],
   "source": [
    "#plot distribution of episode rating and add in Series Rating to show that something isn't making sense\n",
    "a = imdb[imdb['Title'] == 'Mahabharat']\n",
    "plt.hist(a['Rating'], bins=8)\n",
    "plt.title('Distribution of Episode Ratings for Mahabharat w/ Series Rating')\n",
    "plt.xlabel('Rating')\n",
    "plt.ylabel('Number of Instances')\n",
    "plt.xlim(4,10)\n",
    "plt.axvline(x=8.6, color='black', label='series rating')\n",
    "plt.axvline(x=8.06, color='red', label='\"good\" episode')\n",
    "plt.xticks([4,5,6,7,8,8.6,9,10])#plot custom xticks\n",
    "plt.yticks(np.arange(0,21,step=4))#plot yticks with step size\n",
    "plt.legend()\n",
    "plt.show()"
   ]
  },
  {
   "cell_type": "markdown",
   "metadata": {},
   "source": [
    "Based on this summary of Mahabharat, the show had 1 season with 94 episodes, none of which would be considered 'good'. Therefore the Series Rating of 8.6 doesn't make much sense. The Rating Count for this show is relatively low, making it more susceptible to outliers."
   ]
  },
  {
   "cell_type": "code",
   "execution_count": 122,
   "metadata": {},
   "outputs": [
    {
     "data": {
      "text/html": [
       "<div>\n",
       "<style scoped>\n",
       "    .dataframe tbody tr th:only-of-type {\n",
       "        vertical-align: middle;\n",
       "    }\n",
       "\n",
       "    .dataframe tbody tr th {\n",
       "        vertical-align: top;\n",
       "    }\n",
       "\n",
       "    .dataframe thead th {\n",
       "        text-align: right;\n",
       "    }\n",
       "</style>\n",
       "<table border=\"1\" class=\"dataframe\">\n",
       "  <thead>\n",
       "    <tr style=\"text-align: right;\">\n",
       "      <th></th>\n",
       "      <th>Season</th>\n",
       "      <th>Episode</th>\n",
       "      <th>Rating</th>\n",
       "      <th>Code</th>\n",
       "      <th>Title</th>\n",
       "    </tr>\n",
       "  </thead>\n",
       "  <tbody>\n",
       "    <tr>\n",
       "      <th>6021</th>\n",
       "      <td>1</td>\n",
       "      <td>1</td>\n",
       "      <td>9.2</td>\n",
       "      <td>tt14392248</td>\n",
       "      <td>Aspirants</td>\n",
       "    </tr>\n",
       "    <tr>\n",
       "      <th>6022</th>\n",
       "      <td>1</td>\n",
       "      <td>2</td>\n",
       "      <td>9.3</td>\n",
       "      <td>tt14392248</td>\n",
       "      <td>Aspirants</td>\n",
       "    </tr>\n",
       "    <tr>\n",
       "      <th>6023</th>\n",
       "      <td>1</td>\n",
       "      <td>3</td>\n",
       "      <td>9.3</td>\n",
       "      <td>tt14392248</td>\n",
       "      <td>Aspirants</td>\n",
       "    </tr>\n",
       "    <tr>\n",
       "      <th>6024</th>\n",
       "      <td>1</td>\n",
       "      <td>4</td>\n",
       "      <td>9.5</td>\n",
       "      <td>tt14392248</td>\n",
       "      <td>Aspirants</td>\n",
       "    </tr>\n",
       "    <tr>\n",
       "      <th>6025</th>\n",
       "      <td>1</td>\n",
       "      <td>5</td>\n",
       "      <td>9.0</td>\n",
       "      <td>tt14392248</td>\n",
       "      <td>Aspirants</td>\n",
       "    </tr>\n",
       "  </tbody>\n",
       "</table>\n",
       "</div>"
      ],
      "text/plain": [
       "      Season  Episode  Rating        Code      Title\n",
       "6021       1        1     9.2  tt14392248  Aspirants\n",
       "6022       1        2     9.3  tt14392248  Aspirants\n",
       "6023       1        3     9.3  tt14392248  Aspirants\n",
       "6024       1        4     9.5  tt14392248  Aspirants\n",
       "6025       1        5     9.0  tt14392248  Aspirants"
      ]
     },
     "execution_count": 122,
     "metadata": {},
     "output_type": "execute_result"
    }
   ],
   "source": [
    "#summary of Aspirants\n",
    "imdb[imdb['Title'] == 'Aspirants']"
   ]
  },
  {
   "cell_type": "code",
   "execution_count": 123,
   "metadata": {},
   "outputs": [
    {
     "data": {
      "text/html": [
       "<div>\n",
       "<style scoped>\n",
       "    .dataframe tbody tr th:only-of-type {\n",
       "        vertical-align: middle;\n",
       "    }\n",
       "\n",
       "    .dataframe tbody tr th {\n",
       "        vertical-align: top;\n",
       "    }\n",
       "\n",
       "    .dataframe thead th {\n",
       "        text-align: right;\n",
       "    }\n",
       "</style>\n",
       "<table border=\"1\" class=\"dataframe\">\n",
       "  <thead>\n",
       "    <tr style=\"text-align: right;\">\n",
       "      <th></th>\n",
       "      <th>Title</th>\n",
       "      <th>Code</th>\n",
       "      <th>Rating</th>\n",
       "      <th>Rating Count</th>\n",
       "    </tr>\n",
       "  </thead>\n",
       "  <tbody>\n",
       "    <tr>\n",
       "      <th>121</th>\n",
       "      <td>Aspirants</td>\n",
       "      <td>tt14392248</td>\n",
       "      <td>8.6</td>\n",
       "      <td>296915.0</td>\n",
       "    </tr>\n",
       "  </tbody>\n",
       "</table>\n",
       "</div>"
      ],
      "text/plain": [
       "         Title        Code  Rating  Rating Count\n",
       "121  Aspirants  tt14392248     8.6      296915.0"
      ]
     },
     "execution_count": 123,
     "metadata": {},
     "output_type": "execute_result"
    }
   ],
   "source": [
    "imdb_global[imdb_global['Title'] == 'Aspirants']"
   ]
  },
  {
   "cell_type": "code",
   "execution_count": 124,
   "metadata": {},
   "outputs": [
    {
     "data": {
      "image/png": "[encoded data removed]",
      "text/plain": [
       "<matplotlib.figure.Figure at 0x1d9a0fb28d0>"
      ]
     },
     "metadata": {},
     "output_type": "display_data"
    }
   ],
   "source": [
    "#plot distribution of episode rating and add in Series Rating to show that something isn't making sense\n",
    "a = imdb[imdb['Title'] == 'Aspirants']\n",
    "plt.hist(a['Rating'], bins=4)\n",
    "plt.title('Distribution of Episode Ratings for Aspirants w/ Series Rating')\n",
    "plt.xlabel('Rating')\n",
    "plt.ylabel('Number of Instances')\n",
    "plt.xlim(6,10)\n",
    "plt.axvline(x=8.6, color='black', label='Series Rating')\n",
    "plt.axvline(x=8.06, color='red', label='\"good\" episode line')\n",
    "plt.legend()\n",
    "plt.show()"
   ]
  },
  {
   "cell_type": "markdown",
   "metadata": {},
   "source": [
    "Based on this summary of Aspirants, the show was only 1 season with 5 episodes, all of which were rated very highly. The Rating Count was very high which wouldn't make it very susceptible to outliers. However, the overall lack of episodes could be contributing to the lower Series Rating. Also the series finale was the lowest rated episode relative to the rest so maybe viewers didn't like the way it ended, leading to a lower Series Rating."
   ]
  },
  {
   "cell_type": "code",
   "execution_count": 125,
   "metadata": {
    "collapsed": true
   },
   "outputs": [],
   "source": [
    "#lets pick a few shows at random to see if the Global Series Rating falls with the distribution of episode ratings:\n",
    "#The Office, The Simpsons, Game of Thrones"
   ]
  },
  {
   "cell_type": "code",
   "execution_count": 126,
   "metadata": {},
   "outputs": [
    {
     "data": {
      "text/html": [
       "<div>\n",
       "<style scoped>\n",
       "    .dataframe tbody tr th:only-of-type {\n",
       "        vertical-align: middle;\n",
       "    }\n",
       "\n",
       "    .dataframe tbody tr th {\n",
       "        vertical-align: top;\n",
       "    }\n",
       "\n",
       "    .dataframe thead th {\n",
       "        text-align: right;\n",
       "    }\n",
       "</style>\n",
       "<table border=\"1\" class=\"dataframe\">\n",
       "  <thead>\n",
       "    <tr style=\"text-align: right;\">\n",
       "      <th></th>\n",
       "      <th>Title</th>\n",
       "      <th>Series Rating</th>\n",
       "      <th>Mean Episode Rating</th>\n",
       "      <th>Gap</th>\n",
       "    </tr>\n",
       "  </thead>\n",
       "  <tbody>\n",
       "    <tr>\n",
       "      <th>208</th>\n",
       "      <td>The Office</td>\n",
       "      <td>8.9</td>\n",
       "      <td>8.1</td>\n",
       "      <td>0.8</td>\n",
       "    </tr>\n",
       "  </tbody>\n",
       "</table>\n",
       "</div>"
      ],
      "text/plain": [
       "          Title  Series Rating  Mean Episode Rating  Gap\n",
       "208  The Office            8.9                  8.1  0.8"
      ]
     },
     "execution_count": 126,
     "metadata": {},
     "output_type": "execute_result"
    }
   ],
   "source": [
    "#The Office\n",
    "gap[gap['Title'] == 'The Office']"
   ]
  },
  {
   "cell_type": "code",
   "execution_count": 132,
   "metadata": {},
   "outputs": [
    {
     "data": {
      "image/png": "[encoded data removed]",
      "text/plain": [
       "<matplotlib.figure.Figure at 0x1d9a0d8acf8>"
      ]
     },
     "metadata": {},
     "output_type": "display_data"
    }
   ],
   "source": [
    "#plot distribution of episode rating and add in Series Rating\n",
    "a = imdb[imdb['Title'] == 'The Office']\n",
    "plt.hist(a['Rating'], bins=10)\n",
    "plt.style.use('fivethirtyeight')#changes plot style for future plots\n",
    "plt.title('Episode Ratings for The Office w/ Series Rating')\n",
    "plt.xlabel('Rating')\n",
    "plt.ylabel('Number of Instances')\n",
    "plt.xlim(6,10)\n",
    "plt.axvline(x=8.9, color='black', label='series rating')\n",
    "plt.axvline(x=8.06, color='red', label='\"good\" episode')\n",
    "plt.legend()\n",
    "plt.show()"
   ]
  },
  {
   "cell_type": "code",
   "execution_count": 128,
   "metadata": {},
   "outputs": [
    {
     "data": {
      "text/html": [
       "<div>\n",
       "<style scoped>\n",
       "    .dataframe tbody tr th:only-of-type {\n",
       "        vertical-align: middle;\n",
       "    }\n",
       "\n",
       "    .dataframe tbody tr th {\n",
       "        vertical-align: top;\n",
       "    }\n",
       "\n",
       "    .dataframe thead th {\n",
       "        text-align: right;\n",
       "    }\n",
       "</style>\n",
       "<table border=\"1\" class=\"dataframe\">\n",
       "  <thead>\n",
       "    <tr style=\"text-align: right;\">\n",
       "      <th></th>\n",
       "      <th>Title</th>\n",
       "      <th>Series Rating</th>\n",
       "      <th>Mean Episode Rating</th>\n",
       "      <th>Gap</th>\n",
       "    </tr>\n",
       "  </thead>\n",
       "  <tbody>\n",
       "    <tr>\n",
       "      <th>213</th>\n",
       "      <td>The Simpsons</td>\n",
       "      <td>8.7</td>\n",
       "      <td>7.2</td>\n",
       "      <td>1.5</td>\n",
       "    </tr>\n",
       "  </tbody>\n",
       "</table>\n",
       "</div>"
      ],
      "text/plain": [
       "            Title  Series Rating  Mean Episode Rating  Gap\n",
       "213  The Simpsons            8.7                  7.2  1.5"
      ]
     },
     "execution_count": 128,
     "metadata": {},
     "output_type": "execute_result"
    }
   ],
   "source": [
    "#The Simpsons\n",
    "gap[gap['Title'] == 'The Simpsons']"
   ]
  },
  {
   "cell_type": "code",
   "execution_count": 129,
   "metadata": {},
   "outputs": [
    {
     "data": {
      "image/png": "[encoded data removed]",
      "text/plain": [
       "<matplotlib.figure.Figure at 0x1d9a0dc3ac8>"
      ]
     },
     "metadata": {},
     "output_type": "display_data"
    }
   ],
   "source": [
    "#plot distribution of episode rating and add in Series Rating\n",
    "a = imdb[imdb['Title'] == 'The Simpsons']\n",
    "plt.hist(a['Rating'], bins=10)\n",
    "plt.title('Distribution of Episode Ratings for The Simpsons w/ Series Rating')\n",
    "plt.xlabel('Rating')\n",
    "plt.ylabel('Number of Instances')\n",
    "plt.xlim(3,10)\n",
    "plt.axvline(x=8.7, color='black', label='Series Rating')\n",
    "plt.axvline(x=8.06, color='red', label='\"good\" episode line')\n",
    "plt.legend()\n",
    "plt.show()"
   ]
  },
  {
   "cell_type": "code",
   "execution_count": 130,
   "metadata": {},
   "outputs": [
    {
     "data": {
      "text/html": [
       "<div>\n",
       "<style scoped>\n",
       "    .dataframe tbody tr th:only-of-type {\n",
       "        vertical-align: middle;\n",
       "    }\n",
       "\n",
       "    .dataframe tbody tr th {\n",
       "        vertical-align: top;\n",
       "    }\n",
       "\n",
       "    .dataframe thead th {\n",
       "        text-align: right;\n",
       "    }\n",
       "</style>\n",
       "<table border=\"1\" class=\"dataframe\">\n",
       "  <thead>\n",
       "    <tr style=\"text-align: right;\">\n",
       "      <th></th>\n",
       "      <th>Title</th>\n",
       "      <th>Series Rating</th>\n",
       "      <th>Mean Episode Rating</th>\n",
       "      <th>Gap</th>\n",
       "    </tr>\n",
       "  </thead>\n",
       "  <tbody>\n",
       "    <tr>\n",
       "      <th>83</th>\n",
       "      <td>Game of Thrones</td>\n",
       "      <td>9.1</td>\n",
       "      <td>8.7</td>\n",
       "      <td>0.4</td>\n",
       "    </tr>\n",
       "  </tbody>\n",
       "</table>\n",
       "</div>"
      ],
      "text/plain": [
       "              Title  Series Rating  Mean Episode Rating  Gap\n",
       "83  Game of Thrones            9.1                  8.7  0.4"
      ]
     },
     "execution_count": 130,
     "metadata": {},
     "output_type": "execute_result"
    }
   ],
   "source": [
    "#Game of Thrones\n",
    "gap[gap['Title'] == 'Game of Thrones']"
   ]
  },
  {
   "cell_type": "code",
   "execution_count": 131,
   "metadata": {},
   "outputs": [
    {
     "data": {
      "image/png": "[encoded data removed]",
      "text/plain": [
       "<matplotlib.figure.Figure at 0x1d99d9fd358>"
      ]
     },
     "metadata": {},
     "output_type": "display_data"
    }
   ],
   "source": [
    "#plot distribution of episode rating and add in Series Rating\n",
    "a = imdb[imdb['Title'] == 'Game of Thrones']\n",
    "plt.hist(a['Rating'], bins=10)\n",
    "plt.title('Distribution of Episode Ratings for Game of Thrones w/ Series Rating')\n",
    "plt.xlabel('Rating')\n",
    "plt.ylabel('Number of Instances')\n",
    "plt.xlim(3,10)\n",
    "plt.axvline(x=9.1, color='black', label='Series Rating')\n",
    "plt.axvline(x=8.06, color='red', label='\"good\" episode line')\n",
    "plt.legend()\n",
    "plt.show()"
   ]
  },
  {
   "cell_type": "markdown",
   "metadata": {},
   "source": [
    "The 3 shows that I selected are all well established shows with at least 8 seasons. Based on these graphs I would say that while Mean Episode Rating and Series Rating are calculated independently. With more seasons, episodes, and ratings, the Series Rating will eventually fall within the distribution of episode ratings for Mahabharat and Aspirants. \n",
    "\n",
    "Would also like to pile on the Game of Thrones again. The graph above shows that the finale (Rating=4.0) is the worst episode in the entire series. Someone needs to pay for that horribleness."
   ]
  },
  {
   "cell_type": "markdown",
   "metadata": {},
   "source": [
    "### Conclusion"
   ]
  },
  {
   "cell_type": "markdown",
   "metadata": {},
   "source": [
    "The characteristics of a show I would want to watch are as follows:\n",
    "1. A large percentage of the episodes are 'good'\n",
    "2. The next season is either better or as good as the previous season\n",
    "3. The show ends on a high note with a highly rated Series Finale (very important, dont want another Game of Thrones situation)\n",
    "4. More than 2 seasons\n",
    "\n",
    "Based on the results from all the different questions I considered, the shows that fit this description the best are: \n",
    "1. Breaking Bad (97% 'good' episode rate, all seasons are 8.7 or higher, 9.9 Series Finale Rating, 5 seasons)\n",
    "2. Better Call Saul (97% 'good' episode rate, all seasons 8.5 or higher, 9.8 Series Finale Rating, 6 seasons)\n",
    "3. Attack on Titan (100% 'good' episode rate, all seasons 8.8 or higher, 9.7 Series Finale Rating, 4 seasons)\n",
    "4. Succession (86% 'good' episode rate, rating gets better each season, 9.8 Series Finale Rating, 3 seasons)\n",
    "5. BoJack Horseman (65% 'good' episode rate, rating gets better each season, 9.5 Series Finale Rating, 6 seasons)\n",
    "\n",
    "I've already seen Breaking Bad and loved it, and I know Better Call Saul is a spin-off of that so I think I would like the subject matter. Attack on Titan probably has the best collection of statistics of any of the 5 shows that I listed above but I've never heard of it so I need to look and see if the subject matter is something that would interest me. I've heard of Succession but haven't seen it, but based on word of mouth I think I would enjoy that. I have also never heard of BoJack Horseman, so I need to look into that. But if the subject matter is something that I'm interested in, the tie-breaker will probably be what streaming platforms am I already subscribed to so that I don't have to drop any extra money. I know its cheap,  and not a very analytical conclusion to an analysis project, but I can always save the others for later.\n",
    "\n",
    "Turns out that Attack on Titan is an anime show, and BoJack Horseman is an animated series, both of which I'm not really into at the moment (no shade though). And sense I don't currently have an HBO subscription to watch Succession, the winner is Better Call Saul! Now I get to relax and see if this analysis led me to the right show."
   ]
  }
 ],
 "metadata": {
  "kernelspec": {
   "display_name": "Python 3",
   "language": "python",
   "name": "python3"
  },
  "language_info": {
   "codemirror_mode": {
    "name": "ipython",
    "version": 3
   },
   "file_extension": ".py",
   "mimetype": "text/x-python",
   "name": "python",
   "nbconvert_exporter": "python",
   "pygments_lexer": "ipython3",
   "version": "3.6.3"
  }
 },
 "nbformat": 4,
 "nbformat_minor": 2
}
